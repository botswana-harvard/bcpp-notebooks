{
 "cells": [
  {
   "cell_type": "code",
   "execution_count": 23,
   "metadata": {},
   "outputs": [],
   "source": [
    "import base64\n",
    "import subprocess\n",
    "import pandas as pd\n",
    "import csv\n",
    "import os\n",
    "import re\n",
    "import sys\n",
    "import subprocess\n",
    "\n",
    "from datetime import datetime\n",
    "from paramiko.client import SSHClient\n",
    "from paramiko.sftp_client import SFTPClient\n",
    "from paramiko import AutoAddPolicy\n",
    "from dateutil.parser import parse\n",
    "from tqdm import tqdm\n",
    "\n",
    "df = pd.DataFrame()"
   ]
  },
  {
   "cell_type": "code",
   "execution_count": 24,
   "metadata": {},
   "outputs": [],
   "source": [
    "remote_user = 'django'\n",
    "host = 'ambition-test.bhp.org.bw'\n",
    "path = os.path.expanduser('/home/django/source/ambition/logs/access.log')\n",
    "timestamp = datetime.today().strftime('%Y%m%d%H%M%S')"
   ]
  },
  {
   "cell_type": "code",
   "execution_count": 25,
   "metadata": {},
   "outputs": [],
   "source": [
    "pat = (r''\n",
    "       '(\\d+.\\d+.\\d+.\\d+)\\s-\\s-\\s' #IP address\n",
    "       '\\[(.+)\\]\\s' #datetime\n",
    "       '\"GET\\s(.+)\\s\\w+/.+\"\\s' #requested file\n",
    "       '(\\d+)\\s' #status\n",
    "       '(\\d+)\\s' #bandwidth\n",
    "       '\"(.+)\"\\s' #referrer\n",
    "       '\"(.+)\"' #user agent\n",
    "    )\n",
    "\n",
    "def blocks(files, size=65536):\n",
    "    while True:\n",
    "        b = files.read(size)\n",
    "        if not b: break\n",
    "        yield b\n",
    "\n",
    "def connect(ssh=None):\n",
    "    ssh.load_system_host_keys()\n",
    "    ssh.set_missing_host_key_policy(AutoAddPolicy())\n",
    "    ssh.connect(\n",
    "        host,\n",
    "        username=remote_user,\n",
    "        timeout=5,\n",
    "        # banner_timeout=self.banner_timeout,\n",
    "        compress=True,\n",
    "    )\n",
    "    return ssh"
   ]
  },
  {
   "cell_type": "code",
   "execution_count": 26,
   "metadata": {},
   "outputs": [
    {
     "name": "stderr",
     "output_type": "stream",
     "text": [
      "49369it [08:30, 96.70it/s]                            \n"
     ]
    }
   ],
   "source": [
    "lines = []\n",
    "from pprint import pprint\n",
    "df = pd.DataFrame([], columns=['ip', 'datestring', 'url', 'status', 't', 'host', 'client'])\n",
    "index = 0\n",
    "with SSHClient() as ssh:\n",
    "    ssh = connect(ssh=ssh)\n",
    "    with SFTPClient.from_transport(ssh.get_transport()) as sftp_client:\n",
    "        with sftp_client.open(path, mode='r') as f:\n",
    "            total = sum(bl.decode('utf-8').count('\\n') for bl in blocks(f))\n",
    "            f.seek(0, 0)\n",
    "            for line in tqdm(f, total=total):\n",
    "                match = re.findall(pat, line)\n",
    "                df_ln = pd.DataFrame(\n",
    "                    list(match), columns=['ip', 'datestring', 'url', 'status', 't', 'host', 'client'])\n",
    "                df = pd.concat([df, df_ln], ignore_index=True)"
   ]
  },
  {
   "cell_type": "code",
   "execution_count": 27,
   "metadata": {},
   "outputs": [],
   "source": [
    "# load from csv\n",
    "# filename = '~/ambition-test-bhp-org-bw-access-log-raw-20171018091600.csv'\n",
    "# df = pd.read_csv(os.path.expanduser(filename), low_memory=False)"
   ]
  },
  {
   "cell_type": "code",
   "execution_count": 28,
   "metadata": {},
   "outputs": [
    {
     "name": "stdout",
     "output_type": "stream",
     "text": [
      "~/ambition-test-bhp-org-bw-access-log-raw-20171018092210.csv\n"
     ]
    }
   ],
   "source": [
    "df.to_csv(os.path.expanduser(f'~/{host.replace(\".\", \"-\")}-access-log-raw-{timestamp}.csv'))\n",
    "print(f'~/{host.replace(\".\", \"-\")}-access-log-raw-{timestamp}.csv')"
   ]
  },
  {
   "cell_type": "code",
   "execution_count": 100,
   "metadata": {},
   "outputs": [],
   "source": [
    "df.info()"
   ]
  },
  {
   "cell_type": "code",
   "execution_count": 101,
   "metadata": {},
   "outputs": [],
   "source": [
    "df.head()"
   ]
  },
  {
   "cell_type": "code",
   "execution_count": null,
   "metadata": {},
   "outputs": [],
   "source": [
    "# convert datestring to date\n",
    "def to_datetime(d):\n",
    "    d = d.split('/')\n",
    "    d = ' '.join([d[1], d[0], d[2]]).split(':')\n",
    "    d = d[0] + ' ' + ':'.join([d[1], d[2], d[3].replace('+0200', '')])\n",
    "    return parse(timestr=d)\n",
    "\n",
    "df['date'] = df.apply(lambda row: to_datetime(row['datestring']), axis=1)\n",
    "df['date'] = df['date'].astype('datetime64[ns]')\n",
    "\n",
    "# chop off querystring\n",
    "df['simple_url'] = df.apply(lambda row: row['url'].split('?')[0], axis=1)\n",
    "\n",
    "# remove junk urls\n",
    "df = df[\n",
    "   (-df['simple_url'].isin(['/', '/admin/jsi18n/']))\n",
    "   & (-df['simple_url'].str.contains('static'))\n",
    "   & (-df['simple_url'].str.contains('login'))]\n",
    "\n",
    "# show df info\n",
    "df.info()"
   ]
  },
  {
   "cell_type": "code",
   "execution_count": null,
   "metadata": {},
   "outputs": [],
   "source": [
    "# review min max date\n",
    "df['date'].describe()"
   ]
  },
  {
   "cell_type": "code",
   "execution_count": 89,
   "metadata": {},
   "outputs": [],
   "source": [
    "# rank users effort\n",
    "from datetime import datetime, date\n",
    "now = date.today()\n",
    "today = datetime(now.year, now.month, now.day, 0, 0, 0)\n",
    "df[df['date'] >= today].groupby('ip').size()\n",
    "\n",
    "# remove logins, static, etc\n",
    "df1 = df[(-df['simple_url'].isin(['/', '/admin/jsi18n/']))\n",
    "   & (-df['simple_url'].str.contains('static'))\n",
    "   & (-df['simple_url'].str.contains('login'))]"
   ]
  },
  {
   "cell_type": "code",
   "execution_count": 90,
   "metadata": {},
   "outputs": [],
   "source": [
    "startdate = datetime(2017, 10, 10)\n",
    "df1['date'] = df1['date'].dt.normalize()\n",
    "df1 = df1[df1['date'] >= startdate]"
   ]
  },
  {
   "cell_type": "code",
   "execution_count": 91,
   "metadata": {},
   "outputs": [],
   "source": [
    "# timestamp = datetime.today().strftime('%Y%m%d%H%M%S')\n",
    "# df1.to_csv(os.path.expanduser(f'~/{host.replace(\".\", \"-\")}-access-log-{timestamp}.csv'))"
   ]
  },
  {
   "cell_type": "markdown",
   "metadata": {},
   "source": [
    "### Activity in hits per IP"
   ]
  },
  {
   "cell_type": "code",
   "execution_count": 92,
   "metadata": {},
   "outputs": [
    {
     "name": "stdout",
     "output_type": "stream",
     "text": [
      "2017-10-10 00:00:00\n",
      "ip\n",
      "10.113.201.72    3\n",
      "172.31.6.51      1\n",
      "dtype: int64\n",
      "2017-10-11 00:00:00\n",
      "ip\n",
      "10.113.201.114    11\n",
      "10.113.201.204    10\n",
      "10.136.211.206    97\n",
      "172.31.6.51       69\n",
      "dtype: int64\n",
      "2017-10-12 00:00:00\n",
      "ip\n",
      "10.113.201.159     3\n",
      "10.113.201.186     5\n",
      "10.113.201.2      17\n",
      "10.113.201.233     4\n",
      "10.136.211.206     1\n",
      "10.136.211.70      8\n",
      "dtype: int64\n",
      "2017-10-13 00:00:00\n",
      "ip\n",
      "10.113.201.136      2\n",
      "10.113.201.189     23\n",
      "10.113.201.196      9\n",
      "10.136.211.206    123\n",
      "dtype: int64\n",
      "2017-10-14 00:00:00\n",
      "ip\n",
      "10.113.200.115    1\n",
      "dtype: int64\n",
      "2017-10-16 00:00:00\n",
      "ip\n",
      "10.113.201.102     2\n",
      "10.136.211.74      6\n",
      "10.136.211.78     71\n",
      "dtype: int64\n",
      "2017-10-17 00:00:00\n",
      "ip\n",
      "10.113.201.118    4\n",
      "10.113.201.124    5\n",
      "dtype: int64\n",
      "2017-10-18 00:00:00\n",
      "ip\n",
      "10.113.201.107    13\n",
      "10.113.201.180    15\n",
      "dtype: int64\n"
     ]
    }
   ],
   "source": [
    "from dateutil.relativedelta import relativedelta\n",
    "\n",
    "grouped = df1.groupby(['date'])\n",
    "for date, _ in grouped.groups.items():\n",
    "    print(date)\n",
    "    print(df1[\n",
    "        (df1['date'] >= date)\n",
    "        & (df1['date'] < (date + relativedelta(days=1)))].groupby('ip').size())\n",
    "# print(today - relativedelta(days=2))\n",
    "# print(df1[\n",
    "#     (df1['date'] >= today - relativedelta(days=2))\n",
    "#     & (df1['date'] < today - relativedelta(days=1))].groupby('ip').size())\n",
    "# print(today - relativedelta(days=1))\n",
    "# print(df1[\n",
    "#     (df1['date'] >= today - relativedelta(days=1))\n",
    "#     & (df1['date'] < today)].groupby('ip').size())\n",
    "# print(today)\n",
    "# print(df1[df1['date'] >= today].groupby('ip').size())"
   ]
  },
  {
   "cell_type": "code",
   "execution_count": 93,
   "metadata": {},
   "outputs": [],
   "source": [
    "# inspect top user\n",
    "# selected_ips = ['10.136.211.78']\n",
    "# df1 = df1[df1['ip'].isin(selected_ips)]"
   ]
  },
  {
   "cell_type": "markdown",
   "metadata": {},
   "source": [
    "### Type of activity"
   ]
  },
  {
   "cell_type": "markdown",
   "metadata": {},
   "source": [
    "#### Add"
   ]
  },
  {
   "cell_type": "code",
   "execution_count": 94,
   "metadata": {},
   "outputs": [
    {
     "data": {
      "text/plain": [
       "simple_url\n",
       "/admin/ambition_subject/adverseevent/add/                                   3\n",
       "/admin/ambition_subject/adverseeventfollowup/add/                           5\n",
       "/admin/ambition_subject/bloodresult/add/                                    7\n",
       "/admin/ambition_subject/clinicnote/add/                                    16\n",
       "/admin/ambition_subject/lumbarpuncturecsf/add/                              4\n",
       "/admin/ambition_subject/microbiology/add/                                   3\n",
       "/admin/ambition_subject/patienthistory/add/                                13\n",
       "/admin/ambition_subject/prnmodel/add/                                      15\n",
       "/admin/ambition_subject/radiology/add/                                      1\n",
       "/admin/ambition_subject/subjectconsent/add/                                 9\n",
       "/admin/ambition_subject/subjectrequisition/add/                             2\n",
       "/admin/ambition_subject/subjectscreening/add/                              11\n",
       "/admin/ambition_subject/subjectvisit/add/                                  16\n",
       "/admin/auth/user/add/                                                       1\n",
       "/subject/dashboard/092-40990013-8/994ea508-b6c6-4902-ba46-add653a36da0/     8\n",
       "dtype: int64"
      ]
     },
     "execution_count": 94,
     "metadata": {},
     "output_type": "execute_result"
    }
   ],
   "source": [
    "# add models\n",
    "add_group = df1[(df1['simple_url'].str.contains('add'))\n",
    "                & (-df1['simple_url'].str.contains('appointment'))\n",
    "               ].groupby(['simple_url'])\n",
    "add_group.size()"
   ]
  },
  {
   "cell_type": "markdown",
   "metadata": {},
   "source": [
    "#### Edit / Change"
   ]
  },
  {
   "cell_type": "code",
   "execution_count": 95,
   "metadata": {},
   "outputs": [
    {
     "data": {
      "text/plain": [
       "simple_url\n",
       "/admin/ambition_subject/adverseevent/aa54fddb-3716-4927-934f-23af141650d7/change/         3\n",
       "/admin/ambition_subject/bloodresult/ef82059f-7d34-4fb7-a69e-f200a2a518a1/change/          1\n",
       "/admin/ambition_subject/lumbarpuncturecsf/203a8c25-ec00-4f4b-bc00-2d7374aa2397/change/    2\n",
       "/admin/ambition_subject/patienthistory/92f8cca8-0d37-4056-8d95-8ea5010b45fa/change/       1\n",
       "/admin/ambition_subject/prnmodel/368c3016-c0cf-4914-bad8-5d80c4732262/change/             4\n",
       "/admin/ambition_subject/prnmodel/39c3c590-cd94-4c2a-8d2b-79649fbc4b73/change/             2\n",
       "/admin/ambition_subject/prnmodel/c2802920-221b-4568-b3b5-903ccd0fd416/change/             1\n",
       "/admin/ambition_subject/radiology/a4de55b4-18ee-4f0e-8a3e-7d7f130aca9c/change/            1\n",
       "/admin/ambition_subject/subjectconsent/6b261388-071c-4f74-bccc-27e1e6f57130/change/       2\n",
       "/admin/ambition_subject/subjectconsent/c2b19369-c892-49d3-8ff0-e5d7aa66a68b/change/       2\n",
       "/admin/ambition_subject/subjectscreening/33e1ea45-a554-4c95-ade3-3dc93b7c9a37/change/     2\n",
       "/admin/ambition_subject/subjectscreening/463c4811-eeea-4371-b69e-a04fd9a83d0b/change/     1\n",
       "/admin/ambition_subject/subjectscreening/be201781-cf20-4d01-af3b-7f97e6e88760/change/     3\n",
       "/admin/ambition_subject/subjectvisit/1a295684-e1ec-40d1-82c3-33749d29c69c/change/         4\n",
       "/admin/ambition_subject/subjectvisit/ba2cf71f-ed45-4d0f-b161-ddb71aeb5ef8/change/         1\n",
       "/admin/auth/user/7/change/                                                                1\n",
       "/admin/auth/user/9/change/                                                                2\n",
       "dtype: int64"
      ]
     },
     "execution_count": 95,
     "metadata": {},
     "output_type": "execute_result"
    }
   ],
   "source": [
    "# change models\n",
    "df1[(df1['simple_url'].str.contains('change'))\n",
    "    & (-df1['simple_url'].str.contains('appointment'))\n",
    "   ].groupby(['simple_url']).size()"
   ]
  },
  {
   "cell_type": "markdown",
   "metadata": {},
   "source": [
    "#### Delete"
   ]
  },
  {
   "cell_type": "code",
   "execution_count": 96,
   "metadata": {},
   "outputs": [
    {
     "data": {
      "text/plain": [
       "Series([], dtype: int64)"
      ]
     },
     "execution_count": 96,
     "metadata": {},
     "output_type": "execute_result"
    }
   ],
   "source": [
    "# delete models\n",
    "df1[(df1['simple_url'].str.contains('delete'))\n",
    "    & (-df1['simple_url'].str.contains('appointment'))\n",
    "    ].groupby(['simple_url']).size()"
   ]
  },
  {
   "cell_type": "markdown",
   "metadata": {},
   "source": [
    "####  Appointments"
   ]
  },
  {
   "cell_type": "code",
   "execution_count": 59,
   "metadata": {},
   "outputs": [
    {
     "data": {
      "text/plain": [
       "simple_url\n",
       "/admin/ambition_subject/appointment/                                                  8\n",
       "/admin/ambition_subject/appointment/00542ee2-b9e9-4624-a700-0711af34e7ba/change/      2\n",
       "/admin/ambition_subject/appointment/019fe083-4ec8-403b-98c2-fcd586400b2f/change/      2\n",
       "/admin/ambition_subject/appointment/04160671-d695-4934-8a06-feb46625b9bf/change/      2\n",
       "/admin/ambition_subject/appointment/049c72f7-b106-4714-ae57-484cd53b5dad/change/      8\n",
       "/admin/ambition_subject/appointment/04b390ee-61c3-4f83-a8d4-28e6bd267f74/change/      3\n",
       "/admin/ambition_subject/appointment/062f42c2-ac4f-47ba-b354-747c7600d768/change/      2\n",
       "/admin/ambition_subject/appointment/065ecaa3-6d45-4fb8-8d0b-4af875187505/change/      2\n",
       "/admin/ambition_subject/appointment/077badb1-584f-4e9b-8c2a-2458ba41947a/change/      7\n",
       "/admin/ambition_subject/appointment/084d6d16-6db1-446b-bec5-1b22e8c5098d/change/      3\n",
       "/admin/ambition_subject/appointment/08fdd5aa-df41-494e-a8e7-54f189d21b74/change/      8\n",
       "/admin/ambition_subject/appointment/0d872031-fc5d-4317-944b-dd09d6bf0293/change/      2\n",
       "/admin/ambition_subject/appointment/0dc620e7-44c3-4f12-bee2-604dd5dafb0b/change/      1\n",
       "/admin/ambition_subject/appointment/0e12c77e-41c1-48a7-9dbd-792191bc3384/change/      1\n",
       "/admin/ambition_subject/appointment/0e6f936c-5d05-4e5a-898f-ce7019b8fd3e/change/      3\n",
       "/admin/ambition_subject/appointment/101e596d-c040-4425-9fa3-9ad78ab53e98/change/      2\n",
       "/admin/ambition_subject/appointment/10627eb5-b52f-49de-98b2-44af29e4e07a/change/      1\n",
       "/admin/ambition_subject/appointment/10daba8a-4bbd-4d43-9ff3-588a9136342a/change/     11\n",
       "/admin/ambition_subject/appointment/12c02dfb-a051-4b27-a248-01b30155878a/change/      3\n",
       "/admin/ambition_subject/appointment/12e7c2ea-6a7c-4420-a9a2-d80ced8519ed/change/      2\n",
       "/admin/ambition_subject/appointment/131d842e-9d25-4e7b-9aa9-7df1d90b2367/change/      1\n",
       "/admin/ambition_subject/appointment/14327915-f83d-4bc4-b835-6964693e53b3/change/      9\n",
       "/admin/ambition_subject/appointment/1488afc1-752a-4382-beef-51821071aeb9/change/      1\n",
       "/admin/ambition_subject/appointment/15274e2f-6b5c-4ae3-b643-ce827f878c41/change/      2\n",
       "/admin/ambition_subject/appointment/1559d541-a52a-45ff-b513-5e93228a8f3b/change/      6\n",
       "/admin/ambition_subject/appointment/170667d1-c1e3-479c-be55-008c7d2025ee/change/      2\n",
       "/admin/ambition_subject/appointment/179d7a98-cce4-4619-b73a-83a73cc7392e/change/      2\n",
       "/admin/ambition_subject/appointment/17bc94bb-a2d1-4ed0-96e9-a18d26c25803/change/      2\n",
       "/admin/ambition_subject/appointment/181b17d2-43f4-4e2d-b415-63af8b7feb50/change/      1\n",
       "/admin/ambition_subject/appointment/18e1d18c-b760-4d81-9cb0-a394f3fdb74b/change/      1\n",
       "                                                                                     ..\n",
       "/admin/ambition_subject/appointment/edf56853-d4b2-4ac7-805d-87b2340fd928/change/      3\n",
       "/admin/ambition_subject/appointment/ee66c0e8-bfaf-4a2c-8cf1-72550ac4ad4e/change/      2\n",
       "/admin/ambition_subject/appointment/ef6f769f-8bb1-4885-9a52-0713d8f1392a/change/      2\n",
       "/admin/ambition_subject/appointment/efb91953-d5af-4534-99c3-1c8ce7f62a88/change/      3\n",
       "/admin/ambition_subject/appointment/f0696f91-7847-4d79-ae1e-2b2ae4ec67b7/change/      1\n",
       "/admin/ambition_subject/appointment/f0696f91-7847-4d79-ae1e-2b2ae4ec67b7/delete/      1\n",
       "/admin/ambition_subject/appointment/f1459381-8227-4796-822f-1e225e4877a3/change/      3\n",
       "/admin/ambition_subject/appointment/f14a8f0a-754b-4fe5-bdce-86bfb8a3f832/change/      2\n",
       "/admin/ambition_subject/appointment/f16d05fe-628f-4831-829f-7b5306ae8adc/change/      1\n",
       "/admin/ambition_subject/appointment/f3cd9613-7d5a-4f51-a0c5-ec98e6140cd6/change/      4\n",
       "/admin/ambition_subject/appointment/f475899b-ff82-4964-a155-a4c15b737ef7/change/      2\n",
       "/admin/ambition_subject/appointment/f684551e-c708-4f24-af47-3ebf44e86ace/change/      2\n",
       "/admin/ambition_subject/appointment/f6b24c06-3d7e-4abb-917b-cafcbf18080d/change/      1\n",
       "/admin/ambition_subject/appointment/f6c79170-88b6-46ca-bac5-a4697aa542d4/change/     19\n",
       "/admin/ambition_subject/appointment/f6c79170-88b6-46ca-bac5-a4697aa542d4/history/     1\n",
       "/admin/ambition_subject/appointment/f8f3a534-22ab-43a5-be9f-e9a5855f5321/change/      2\n",
       "/admin/ambition_subject/appointment/f9711aa2-a9f2-4a3c-a060-f0ca4a1f30ee/change/      2\n",
       "/admin/ambition_subject/appointment/f994cc9b-3e59-43e5-89c6-bb57dc27724a/change/      4\n",
       "/admin/ambition_subject/appointment/f9b56bb5-2100-44c1-9f81-be38e90c8005/change/      6\n",
       "/admin/ambition_subject/appointment/f9b5c3b2-66e0-41ce-8d6b-cbd95d505ff3/change/      4\n",
       "/admin/ambition_subject/appointment/fa468b19-67cc-4cb9-8a55-2a0c098c0df6/change/      4\n",
       "/admin/ambition_subject/appointment/fa7b33de-25de-405b-84d6-25e02c085771/change/      3\n",
       "/admin/ambition_subject/appointment/fb972460-bb0f-4077-be5f-760cd118ba79/change/      1\n",
       "/admin/ambition_subject/appointment/fc3041c8-5c4a-45b9-9f2e-377caa3433b4/change/      1\n",
       "/admin/ambition_subject/appointment/fc7339b5-56dd-4575-b335-1c21b5970dcb/change/      3\n",
       "/admin/ambition_subject/appointment/fc9800f7-ace2-4a19-b99f-f5f39106089b/change/     10\n",
       "/admin/ambition_subject/appointment/fd9ff79a-7e74-43cf-8eda-194bdfe844f8/change/      2\n",
       "/admin/ambition_subject/appointment/ff4ca994-1c67-4357-beb1-e3822b31b5c0/change/      2\n",
       "/admin/ambition_subject/appointment/ff5f182d-6256-4ee4-8a2d-3204c33dad97/change/      4\n",
       "/edc_appointment/admin/                                                               1\n",
       "Length: 343, dtype: int64"
      ]
     },
     "execution_count": 59,
     "metadata": {},
     "output_type": "execute_result"
    }
   ],
   "source": [
    "# accessing appointments\n",
    "df1[(df1['simple_url'].str.contains('appointment'))].groupby(['simple_url']).size()"
   ]
  },
  {
   "cell_type": "markdown",
   "metadata": {},
   "source": [
    "#### Dashboard"
   ]
  },
  {
   "cell_type": "code",
   "execution_count": 102,
   "metadata": {},
   "outputs": [
    {
     "data": {
      "text/plain": [
       "simple_url\n",
       "/subject/dashboard/092-40990004-7/                                          2\n",
       "/subject/dashboard/092-40990004-7/86962bc1-7d04-4290-a4ff-9e9929877c3e/     2\n",
       "/subject/dashboard/092-40990008-8/                                          4\n",
       "/subject/dashboard/092-40990008-8/5d612563-ffad-47b7-a378-557e566e9550/     3\n",
       "/subject/dashboard/092-40990009-6/                                          1\n",
       "/subject/dashboard/092-40990009-6/049c72f7-b106-4714-ae57-484cd53b5dad/     1\n",
       "/subject/dashboard/092-40990010-4/                                          4\n",
       "/subject/dashboard/092-40990010-4/17bc94bb-a2d1-4ed0-96e9-a18d26c25803/     3\n",
       "/subject/dashboard/092-40990011-2/                                         39\n",
       "/subject/dashboard/092-40990011-2/464de491-5812-44be-b92b-a069d47af4c3/     8\n",
       "/subject/dashboard/092-40990011-2/bbab7e54-1702-494d-a120-88c93378520b/     4\n",
       "/subject/dashboard/092-40990012-0/                                         22\n",
       "/subject/dashboard/092-40990012-0/21f42dca-4e15-4509-bc0d-515aec543012/     3\n",
       "/subject/dashboard/092-40990012-0/594b92f1-1513-4207-8382-0a99c81212bd/     1\n",
       "/subject/dashboard/092-40990012-0/c006e78d-a334-4e09-9085-91fab71ba39a/     4\n",
       "/subject/dashboard/092-40990012-0/f3cd9613-7d5a-4f51-a0c5-ec98e6140cd6/    22\n",
       "/subject/dashboard/092-40990013-8/                                         18\n",
       "/subject/dashboard/092-40990013-8/994ea508-b6c6-4902-ba46-add653a36da0/     8\n",
       "/subject/dashboard/092-40990013-8/dbf907b3-e74c-433d-9866-3a8e7a31c769/     6\n",
       "/subject/dashboard/092-40990014-6/                                          4\n",
       "/subject/dashboard/092-40990014-6/fd9ff79a-7e74-43cf-8eda-194bdfe844f8/     3\n",
       "dtype: int64"
      ]
     },
     "execution_count": 102,
     "metadata": {},
     "output_type": "execute_result"
    }
   ],
   "source": [
    "# accessing dashboards\n",
    "df1[(df1['simple_url'].str.contains('dashboard'))\n",
    "   & (-df1['simple_url'].str.contains('_dashboard'))].groupby(['simple_url']).size()"
   ]
  },
  {
   "cell_type": "markdown",
   "metadata": {},
   "source": [
    "#### Screening Listboards"
   ]
  },
  {
   "cell_type": "code",
   "execution_count": 103,
   "metadata": {},
   "outputs": [
    {
     "data": {
      "text/plain": [
       "simple_url\n",
       "/subject/screening_listboard/             29\n",
       "/subject/screening_listboard/1/            1\n",
       "/subject/screening_listboard/2/            1\n",
       "/subject/screening_listboard/3/            1\n",
       "/subject/screening_listboard/S9943ER9/     1\n",
       "/subject/screening_listboard/S99A9AKP/     1\n",
       "/subject/screening_listboard/S99WMDW9/     3\n",
       "dtype: int64"
      ]
     },
     "execution_count": 103,
     "metadata": {},
     "output_type": "execute_result"
    }
   ],
   "source": [
    "# accessing listboards\n",
    "df1[(df1['simple_url'].str.contains('screening_listboard'))].groupby(['simple_url']).size()"
   ]
  },
  {
   "cell_type": "markdown",
   "metadata": {},
   "source": [
    "#### Pharmacy"
   ]
  },
  {
   "cell_type": "code",
   "execution_count": 108,
   "metadata": {},
   "outputs": [
    {
     "data": {
      "text/plain": [
       "simple_url\n",
       "/edc_pharma_dashboard/                                               4\n",
       "/edc_pharma_dashboard/listboard/dispense/                            7\n",
       "/edc_pharma_dashboard/listboard/dispensetimepoint/092-40990007-0/    2\n",
       "/edc_pharma_dashboard/listboard/dispensetimepoint/092-40990010-4/    2\n",
       "/edc_pharma_dashboard/listboard/dispensetimepoint/092-40990011-2/    2\n",
       "dtype: int64"
      ]
     },
     "execution_count": 108,
     "metadata": {},
     "output_type": "execute_result"
    }
   ],
   "source": [
    "df1[(df1['simple_url'].str.contains('edc_pharma'))].groupby(['simple_url']).size()"
   ]
  },
  {
   "cell_type": "markdown",
   "metadata": {},
   "source": [
    "#### Lab"
   ]
  },
  {
   "cell_type": "code",
   "execution_count": 109,
   "metadata": {},
   "outputs": [
    {
     "data": {
      "text/plain": [
       "simple_url\n",
       "/edc_lab_dashboard//    1\n",
       "dtype: int64"
      ]
     },
     "execution_count": 109,
     "metadata": {},
     "output_type": "execute_result"
    }
   ],
   "source": [
    "df1[(df1['simple_url'].str.contains('edc_lab'))].groupby(['simple_url']).size()"
   ]
  },
  {
   "cell_type": "markdown",
   "metadata": {},
   "source": [
    "#### Edc"
   ]
  },
  {
   "cell_type": "code",
   "execution_count": 110,
   "metadata": {},
   "outputs": [
    {
     "data": {
      "text/plain": [
       "simple_url\n",
       "/edc/settings/                                                       1\n",
       "/edc_device/                                                         2\n",
       "/edc_identifier/admin/                                               1\n",
       "/edc_lab_dashboard//                                                 1\n",
       "/edc_pharma_dashboard/                                               4\n",
       "/edc_pharma_dashboard/listboard/dispense/                            7\n",
       "/edc_pharma_dashboard/listboard/dispensetimepoint/092-40990007-0/    2\n",
       "/edc_pharma_dashboard/listboard/dispensetimepoint/092-40990010-4/    2\n",
       "/edc_pharma_dashboard/listboard/dispensetimepoint/092-40990011-2/    2\n",
       "dtype: int64"
      ]
     },
     "execution_count": 110,
     "metadata": {},
     "output_type": "execute_result"
    }
   ],
   "source": [
    "# accessing edc modules\n",
    "df1[(df1['simple_url'].str.contains('edc'))].groupby(['simple_url']).size()"
   ]
  },
  {
   "cell_type": "code",
   "execution_count": null,
   "metadata": {},
   "outputs": [],
   "source": []
  },
  {
   "cell_type": "code",
   "execution_count": null,
   "metadata": {},
   "outputs": [],
   "source": []
  }
 ],
 "metadata": {
  "kernelspec": {
   "display_name": "Django Shell-Plus",
   "language": "python",
   "name": "django_extensions"
  },
  "language_info": {
   "codemirror_mode": {
    "name": "ipython",
    "version": 3
   },
   "file_extension": ".py",
   "mimetype": "text/x-python",
   "name": "python",
   "nbconvert_exporter": "python",
   "pygments_lexer": "ipython3",
   "version": "3.6.1"
  }
 },
 "nbformat": 4,
 "nbformat_minor": 2
}
