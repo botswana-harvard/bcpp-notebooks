{
 "cells": [
  {
   "cell_type": "code",
   "execution_count": null,
   "metadata": {},
   "outputs": [],
   "source": [
    "import base64\n",
    "import subprocess\n",
    "import pandas as pd\n",
    "import csv\n",
    "import os\n",
    "import re\n",
    "import sys\n",
    "import subprocess\n",
    "\n",
    "from paramiko.client import SSHClient\n",
    "from paramiko.sftp_client import SFTPClient\n",
    "from paramiko import AutoAddPolicy\n",
    "from dateutil.parser import parse\n",
    "from tqdm import tqdm\n",
    "\n",
    "df = pd.DataFrame()"
   ]
  },
  {
   "cell_type": "code",
   "execution_count": null,
   "metadata": {},
   "outputs": [],
   "source": [
    "remote_user = 'django'\n",
    "host = 'ambition-test.bhp.org.bw'\n",
    "path = os.path.expanduser('/home/django/source/ambition/logs/access.log')"
   ]
  },
  {
   "cell_type": "code",
   "execution_count": null,
   "metadata": {},
   "outputs": [],
   "source": [
    "pat = (r''\n",
    "       '(\\d+.\\d+.\\d+.\\d+)\\s-\\s-\\s' #IP address\n",
    "       '\\[(.+)\\]\\s' #datetime\n",
    "       '\"GET\\s(.+)\\s\\w+/.+\"\\s' #requested file\n",
    "       '(\\d+)\\s' #status\n",
    "       '(\\d+)\\s' #bandwidth\n",
    "       '\"(.+)\"\\s' #referrer\n",
    "       '\"(.+)\"' #user agent\n",
    "    )\n",
    "\n",
    "def blocks(files, size=65536):\n",
    "    while True:\n",
    "        b = files.read(size)\n",
    "        if not b: break\n",
    "        yield b\n",
    "\n",
    "def connect(ssh=None):\n",
    "    ssh.load_system_host_keys()\n",
    "    ssh.set_missing_host_key_policy(AutoAddPolicy())\n",
    "    ssh.connect(\n",
    "        host,\n",
    "        username=remote_user,\n",
    "        timeout=5,\n",
    "        # banner_timeout=self.banner_timeout,\n",
    "        compress=True,\n",
    "    )\n",
    "    return ssh"
   ]
  },
  {
   "cell_type": "code",
   "execution_count": null,
   "metadata": {},
   "outputs": [],
   "source": [
    "lines = []\n",
    "from pprint import pprint\n",
    "df = pd.DataFrame([], columns=['ip', 'datestring', 'url', 'status', 't', 'host', 'client'])\n",
    "index = 0\n",
    "with SSHClient() as ssh:\n",
    "    ssh = connect(ssh=ssh)\n",
    "    with SFTPClient.from_transport(ssh.get_transport()) as sftp_client:\n",
    "        with sftp_client.open(path, mode='r') as f:\n",
    "            total = sum(bl.decode('utf-8').count('\\n') for bl in blocks(f))\n",
    "            f.seek(0, 0)\n",
    "            for line in tqdm(f, total=total):\n",
    "                match = re.findall(pat, line)\n",
    "                df_ln = pd.DataFrame(\n",
    "                    list(match), columns=['ip', 'datestring', 'url', 'status', 't', 'host', 'client'])\n",
    "                df = pd.concat([df, df_ln], ignore_index=True)\n",
    "df.head()"
   ]
  },
  {
   "cell_type": "code",
   "execution_count": null,
   "metadata": {},
   "outputs": [],
   "source": [
    "# convert datestring to date\n",
    "def to_datetime(d):\n",
    "    d = d.split('/')\n",
    "    d = ' '.join([d[1], d[0], d[2]]).split(':')\n",
    "    d = d[0] + ' ' + ':'.join([d[1], d[2], d[3].replace('+0200', '')])\n",
    "    return parse(timestr=d)\n",
    "\n",
    "df['date'] = df.apply(lambda row: to_datetime(row['datestring']), axis=1)\n",
    "df['date'] = df['date'].astype('datetime64[ns]')\n",
    "\n",
    "# chop off querystring\n",
    "df['simple_url'] = df.apply(lambda row: row['url'].split('?')[0], axis=1)\n",
    "\n",
    "# remove junk urls\n",
    "df = df[\n",
    "   (-df['simple_url'].isin(['/', '/admin/jsi18n/']))\n",
    "   & (-df['simple_url'].str.contains('static'))\n",
    "   & (-df['simple_url'].str.contains('login'))]\n",
    "\n",
    "# show df info\n",
    "df.info()"
   ]
  },
  {
   "cell_type": "code",
   "execution_count": null,
   "metadata": {},
   "outputs": [],
   "source": [
    "# review min max date\n",
    "df['date'].describe()"
   ]
  },
  {
   "cell_type": "code",
   "execution_count": null,
   "metadata": {},
   "outputs": [],
   "source": [
    "# rank users effort\n",
    "from datetime import datetime, date\n",
    "now = date.today()\n",
    "today = datetime(now.year, now.month, now.day, 0, 0, 0)\n",
    "df[df['date'] >= today].groupby('ip').size()\n",
    "\n",
    "# remove logins, static, etc\n",
    "df1 = df[(-df['simple_url'].isin(['/', '/admin/jsi18n/']))\n",
    "   & (-df['simple_url'].str.contains('static'))\n",
    "   & (-df['simple_url'].str.contains('login'))]"
   ]
  },
  {
   "cell_type": "code",
   "execution_count": null,
   "metadata": {},
   "outputs": [],
   "source": [
    "timestamp = datetime.today().strftime('%Y%m%d%H%M%S')\n",
    "df1.to_csv(os.path.expanduser(f'~/{host.replace(\".\", \"-\")}-access-log-{timestamp}.csv'))"
   ]
  },
  {
   "cell_type": "code",
   "execution_count": null,
   "metadata": {},
   "outputs": [],
   "source": [
    "df1.groupby('ip').size()"
   ]
  },
  {
   "cell_type": "code",
   "execution_count": null,
   "metadata": {},
   "outputs": [],
   "source": [
    "# inspect top user\n",
    "selected_ips = ['10.136.211.206']\n",
    "df1 = df1[df1['ip'].isin(selected_ips)]"
   ]
  },
  {
   "cell_type": "code",
   "execution_count": null,
   "metadata": {},
   "outputs": [],
   "source": [
    "# add models\n",
    "add_group = df1[(df1['simple_url'].str.contains('add'))\n",
    "                & (-df1['simple_url'].str.contains('appointment'))\n",
    "               ].groupby(['simple_url'])\n",
    "add_group.size()"
   ]
  },
  {
   "cell_type": "code",
   "execution_count": null,
   "metadata": {},
   "outputs": [],
   "source": [
    "# change models\n",
    "df1[(df1['simple_url'].str.contains('change'))\n",
    "    & (-df1['simple_url'].str.contains('appointment'))\n",
    "   ].groupby(['simple_url']).size()"
   ]
  },
  {
   "cell_type": "code",
   "execution_count": null,
   "metadata": {},
   "outputs": [],
   "source": [
    "# delete models\n",
    "df1[(df1['simple_url'].str.contains('delete'))\n",
    "    & (-df1['simple_url'].str.contains('appointment'))\n",
    "    ].groupby(['simple_url']).size()"
   ]
  },
  {
   "cell_type": "code",
   "execution_count": null,
   "metadata": {},
   "outputs": [],
   "source": [
    "# accessing appointments\n",
    "df1[(df1['simple_url'].str.contains('appointment'))].groupby(['simple_url']).size()"
   ]
  },
  {
   "cell_type": "code",
   "execution_count": null,
   "metadata": {},
   "outputs": [],
   "source": [
    "# accessing dashboards\n",
    "df1[(df1['simple_url'].str.contains('dashboard'))].groupby(['simple_url']).size()"
   ]
  },
  {
   "cell_type": "code",
   "execution_count": null,
   "metadata": {},
   "outputs": [],
   "source": [
    "# accessing listboards\n",
    "df1[(df1['simple_url'].str.contains('screening_listboard'))].groupby(['simple_url']).size()"
   ]
  },
  {
   "cell_type": "code",
   "execution_count": null,
   "metadata": {},
   "outputs": [],
   "source": [
    "# accessing edc modules\n",
    "df1[(df1['simple_url'].str.contains('edc'))].groupby(['simple_url']).size()"
   ]
  },
  {
   "cell_type": "code",
   "execution_count": null,
   "metadata": {},
   "outputs": [],
   "source": []
  }
 ],
 "metadata": {
  "kernelspec": {
   "display_name": "Django Shell-Plus",
   "language": "python",
   "name": "django_extensions"
  },
  "language_info": {
   "codemirror_mode": {
    "name": "ipython",
    "version": 3
   },
   "file_extension": ".py",
   "mimetype": "text/x-python",
   "name": "python",
   "nbconvert_exporter": "python",
   "pygments_lexer": "ipython3",
   "version": "3.6.1"
  }
 },
 "nbformat": 4,
 "nbformat_minor": 2
}
