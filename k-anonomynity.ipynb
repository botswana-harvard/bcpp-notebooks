{
 "cells": [
  {
   "cell_type": "code",
   "execution_count": null,
   "metadata": {},
   "outputs": [],
   "source": [
    "import numpy as np\n",
    "import pandas as pd\n",
    "import sys\n",
    "\n",
    "from arrow import Arrow\n",
    "from bcpp_community import communities\n",
    "from bcpp_status.models import StatusHistory\n",
    "from bcpp_subject.models import SubjectVisit, SubjectConsent\n",
    "from edc_registration.models import RegisteredSubject\n",
    "from datetime import datetime\n",
    "from django.db import connection\n",
    "from edc_constants.constants import YES, NO, NEG, UNK, MALE, FEMALE\n",
    "from edc_pdutils.model_to_dataframe import ModelToDataframe\n",
    "from pprint import pprint\n",
    "\n",
    "VIRAL_LOAD = 'Viral Load'\n",
    "start_date = datetime(2017, 1, 1)\n",
    "date_format = '%Y-%m-%d %H:%M:%S.%f'\n",
    "export_date_format = '%Y-%m-%d'\n",
    "local_tz = 'Africa/Gaborone'\n",
    "\n",
    "load_consent_from_csv = True\n",
    "consent_csv_filename = '~/Documents/bcpp/referral/consent20170927142648.csv'\n",
    "split_csv_by_community = True\n",
    "delimiter = '|'"
   ]
  },
  {
   "cell_type": "code",
   "execution_count": null,
   "metadata": {},
   "outputs": [],
   "source": [
    "class SubjectModelToDataframe(ModelToDataframe):\n",
    "    \n",
    "    columns = {k: k for k in ['subject_identifier', 'gender', 'dob']}\n",
    "    \n",
    "    def __init__(self, columns=None, **kwargs):\n",
    "        if columns:\n",
    "            self.columns = {k: k for k in columns}\n",
    "        super().__init__(**kwargs)"
   ]
  },
  {
   "cell_type": "code",
   "execution_count": null,
   "metadata": {},
   "outputs": [],
   "source": [
    "# Load the data set.\n",
    "# df = pd.read_csv(consent_csv_filename)\n",
    "# df = df.where((pd.notnull(df)), None)\n",
    "# df['dob'] = df['dob'].astype('datetime64[ns]')\n",
    "\n",
    "# df.head()\n",
    "\n",
    "df = SubjectModelToDataframe(\n",
    "    model='edc_registration.registeredsubject',\n",
    "    columns=['subject_identifier', 'gender', 'dob', 'study_site'], decrypt=False).dataframe\n",
    "df = df.where((pd.notnull(df)), None)\n",
    "df = df[pd.notnull(df['dob'])]\n",
    "df = df[pd.notnull(df['study_site'])]\n",
    "df['dob'] = df['dob'].astype('datetime64[ns]')\n",
    "df['birth_year'] = df['dob'].map(lambda d: d.year)\n",
    "df['birth_decade'] = df['birth_year'] // 10 * 10\n",
    "df['gender'] = df['gender'].map({MALE: 1, FEMALE: 0})\n",
    "\n",
    "\n",
    "df.head()\n"
   ]
  },
  {
   "cell_type": "code",
   "execution_count": null,
   "metadata": {},
   "outputs": [],
   "source": [
    "# Define function to evaluate uniqueness of the provided dataset.\n",
    "def uniqueness(dataframe, pseudo):\n",
    "    groups = list(dataframe.groupby(pseudo).groups.values())\n",
    "    return sum(1. for g in groups if len(g) == 1) / len(dataframe)"
   ]
  },
  {
   "cell_type": "code",
   "execution_count": null,
   "metadata": {},
   "outputs": [],
   "source": [
    "print((uniqueness(df, ['subject_identifier'])))\n",
    "print((uniqueness(df, ['gender', 'dob'])))\n",
    "print((uniqueness(df, ['gender', 'dob', 'study_site'])))\n",
    "print((uniqueness(df, ['gender', 'birth_year', 'study_site'])))\n",
    "print((uniqueness(df, ['gender', 'birth_decade', 'study_site'])))"
   ]
  },
  {
   "cell_type": "code",
   "execution_count": null,
   "metadata": {},
   "outputs": [],
   "source": [
    "# Define function to evaluate k-anonymity of the provided data set.\n",
    "def k_anonymity(dataframe, pseudo):\n",
    "    return dataframe.groupby(pseudo).count().min()[0]"
   ]
  },
  {
   "cell_type": "code",
   "execution_count": null,
   "metadata": {},
   "outputs": [],
   "source": [
    "print((k_anonymity(df, ['gender', 'dob', 'study_site'])))\n",
    "print((k_anonymity(df, ['gender', 'birth_year', 'study_site'])))\n",
    "print((k_anonymity(df, ['gender', 'birth_decade', 'study_site'])))"
   ]
  },
  {
   "cell_type": "code",
   "execution_count": null,
   "metadata": {},
   "outputs": [],
   "source": [
    "df.groupby(['gender', 'dob', 'study_site']).count().mean()"
   ]
  },
  {
   "cell_type": "code",
   "execution_count": null,
   "metadata": {},
   "outputs": [],
   "source": [
    "df.groupby(['gender', 'birth_year', 'study_site']).count().mean()"
   ]
  },
  {
   "cell_type": "code",
   "execution_count": null,
   "metadata": {},
   "outputs": [],
   "source": [
    "df.groupby(['gender', 'birth_decade', 'study_site']).count().mean()"
   ]
  },
  {
   "cell_type": "code",
   "execution_count": null,
   "metadata": {},
   "outputs": [],
   "source": [
    "print((k_anonymity(df, ['gender', 'birth_year', 'study_site'])))\n",
    "grouped = df.groupby(['gender', 'birth_year', 'study_site'])\n",
    "df_filtered = grouped.filter(lambda x: len(x) > 5)\n",
    "print(('Reducing size:', len(df), '> ', len(df_filtered)))\n",
    "print(('K-anonymity after suppression:', k_anonymity(df_filtered, ['gender', 'birth_year', 'study_site'])))"
   ]
  },
  {
   "cell_type": "code",
   "execution_count": null,
   "metadata": {},
   "outputs": [],
   "source": [
    "df['birth_year'].describe()"
   ]
  },
  {
   "cell_type": "code",
   "execution_count": null,
   "metadata": {},
   "outputs": [],
   "source": [
    "df_filtered['birth_year'].describe()"
   ]
  },
  {
   "cell_type": "code",
   "execution_count": null,
   "metadata": {},
   "outputs": [],
   "source": [
    "df['gender'].describe()"
   ]
  },
  {
   "cell_type": "code",
   "execution_count": null,
   "metadata": {},
   "outputs": [],
   "source": [
    "df_filtered['gender'].describe()"
   ]
  },
  {
   "cell_type": "code",
   "execution_count": null,
   "metadata": {},
   "outputs": [],
   "source": []
  }
 ],
 "metadata": {
  "kernelspec": {
   "display_name": "Django Shell-Plus",
   "language": "python",
   "name": "django_extensions"
  },
  "language_info": {
   "codemirror_mode": {
    "name": "ipython",
    "version": 3
   },
   "file_extension": ".py",
   "mimetype": "text/x-python",
   "name": "python",
   "nbconvert_exporter": "python",
   "pygments_lexer": "ipython3",
   "version": "3.6.1"
  }
 },
 "nbformat": 4,
 "nbformat_minor": 2
}
