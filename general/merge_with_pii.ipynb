{
 "cells": [
  {
   "cell_type": "markdown",
   "metadata": {},
   "source": [
    "## Add an identity column to a SAS dataset"
   ]
  },
  {
   "cell_type": "code",
   "execution_count": null,
   "metadata": {},
   "outputs": [],
   "source": [
    "import numpy as np\n",
    "import pandas as pd\n",
    "import os\n",
    "import re\n",
    "\n",
    "from dateutil.parser import parse\n",
    "from edc_constants.constants import FEMALE, MALE, NAIVE, ON_ART, DEFAULTER, NEG, POS, IND\n",
    "from edc_constants.constants import YES, NO\n",
    "from edc_pdutils.utils import identity256\n",
    "\n",
    "csv_path = '/Users/erikvw/Documents/bcpp/cdc/201710/'\n",
    "file_ahs = 'CPC_AHS_PAIRS1_7_12OCT17.csv'\n",
    "file_y2 = 'year2CPC_ALL_12OCT17.csv'\n",
    "consent = '/Users/erikvw/Documents/bcpp/consent_data/consent20170927142648.csv'\n",
    "na_value = np.nan\n",
    "export_date_format = '%Y-%m-%d'\n",
    "delimiter = '|'\n",
    "\n",
    "# hiv_status = {0: NEG, 1: POS, 3: IND}\n",
    "# art_status = {1: NAIVE, 2: DEFAULTER, 3: ON_ART}\n",
    "# gender = {1: MALE, 2: FEMALE}\n",
    "# yes_no = {0: YES, 1: NO}\n"
   ]
  },
  {
   "cell_type": "code",
   "execution_count": null,
   "metadata": {},
   "outputs": [],
   "source": [
    "def convert_sas_date(value):\n",
    "    if pd.notnull(value):\n",
    "        try:\n",
    "            if not re.match('^[0-9]{2}[A-Z]{3}[0-9]{4}$', value):\n",
    "                raise ValueError(f'Invalid date format. Got {value}.')\n",
    "        except TypeError:\n",
    "            raise ValueError(f'Invalid date format. Got {value}.')\n",
    "        else:\n",
    "            year = value.split(re.match('^[0-9]{2}[A-Z]{3}', value).group())[1]\n",
    "            value = value.split(year)[0]\n",
    "            day = re.match('^[0-9]{2}', value).group()\n",
    "            month = value.split(day)[1]\n",
    "            value = parse(f'{day} {month} {year}')\n",
    "    return value\n"
   ]
  },
  {
   "cell_type": "code",
   "execution_count": null,
   "metadata": {},
   "outputs": [],
   "source": [
    "df_ahs = pd.read_csv(os.path.join(csv_path, file_ahs))\n",
    "df_ahs.head()"
   ]
  },
  {
   "cell_type": "code",
   "execution_count": null,
   "metadata": {},
   "outputs": [],
   "source": [
    "# convert date columns to datetime\n",
    "date_columns = ['interview_date', 'cd4_date', 'prev_result_date', 'final_hiv_status_date']\n",
    "for col in date_columns:\n",
    "    df_ahs[col] = df_ahs.apply(lambda row: convert_sas_date(row[col]), axis=1)"
   ]
  },
  {
   "cell_type": "code",
   "execution_count": null,
   "metadata": {},
   "outputs": [],
   "source": [
    "# misc\n",
    "df_ahs = df_ahs.fillna(value=na_value)\n",
    "df_ahs = df_ahs.rename(columns={'Pair': 'pair', 'Intervention': 'intervention'})"
   ]
  },
  {
   "cell_type": "code",
   "execution_count": null,
   "metadata": {},
   "outputs": [],
   "source": [
    "# remap\n",
    "# df_ahs['community'] = df_ahs['community'].apply(lambda row: row['community'].str.lower())\n",
    "# df_ahs['gender'] = df_ahs['gender'].apply(gender.get)\n",
    "# df_ahs['prev_result'] = df_ahs['prev_result'].apply(hiv_status.get)\n",
    "# df_ahs['final_hiv_status'] = df_ahs['final_hiv_status'].apply(hiv_status.get)\n",
    "# df_ahs['self_reported_result'] = df_ahs['self_reported_result'].apply(hiv_status.get)\n",
    "# df_ahs['final_arv_status'] = df_ahs['final_arv_status'].apply(art_status.get)\n",
    "# df_ahs['prev_result_known'] = df_ahs['prev_result_known'].apply(yes_no.get)\n",
    "# df_ahs['cd4_avail'] = df_ahs['cd4_avail'].apply(yes_no.get)\n",
    "# df_ahs['referred'] = df_ahs['referred'].apply(yes_no.get)\n",
    "# df_ahs['pregnant'] = df_ahs['pregnant'].apply(yes_no.get)\n",
    "# df_ahs['circumcised'] = df_ahs['circumcised'].apply(yes_no.get)\n",
    "# df_ahs['working'] = df_ahs['working'].apply(yes_no.get)"
   ]
  },
  {
   "cell_type": "code",
   "execution_count": null,
   "metadata": {},
   "outputs": [],
   "source": [
    "df_y2 = pd.read_csv(os.path.join(csv_path, file_y2))\n",
    "df_y2.head()"
   ]
  },
  {
   "cell_type": "code",
   "execution_count": null,
   "metadata": {},
   "outputs": [],
   "source": [
    "# convert date columns to datetime\n",
    "date_columns = ['interview_date', 'cd4_date', 'prev_result_date', 'final_hiv_status_date']\n",
    "for col in date_columns:\n",
    "    df_y2[col] = df_y2.apply(lambda row: convert_sas_date(row[col]), axis=1)"
   ]
  },
  {
   "cell_type": "code",
   "execution_count": null,
   "metadata": {},
   "outputs": [],
   "source": [
    "df_y2.info()"
   ]
  },
  {
   "cell_type": "code",
   "execution_count": null,
   "metadata": {},
   "outputs": [],
   "source": [
    "df_consent = pd.read_csv(consent)\n",
    "df_consent.head()"
   ]
  },
  {
   "cell_type": "code",
   "execution_count": null,
   "metadata": {},
   "outputs": [],
   "source": [
    "df_ahs = pd.merge(\n",
    "    df_ahs, df_consent[['subject_identifier', 'identity']],\n",
    "    on='subject_identifier', how='left')"
   ]
  },
  {
   "cell_type": "code",
   "execution_count": null,
   "metadata": {},
   "outputs": [],
   "source": [
    "df_ahs[pd.isnull(df_ahs['identity'])]"
   ]
  },
  {
   "cell_type": "code",
   "execution_count": null,
   "metadata": {},
   "outputs": [],
   "source": [
    "df_ahs['identity256'] = df_ahs.apply(lambda row: identity256(row, 'identity'), axis=1)\n",
    "df_ahs = df_ahs.drop('identity', axis=1)"
   ]
  },
  {
   "cell_type": "code",
   "execution_count": null,
   "metadata": {},
   "outputs": [],
   "source": [
    "df_ahs.head()"
   ]
  },
  {
   "cell_type": "code",
   "execution_count": null,
   "metadata": {},
   "outputs": [],
   "source": [
    "df_y2 = pd.merge(\n",
    "    df_y2, df_consent[['subject_identifier', 'identity']],\n",
    "    on='subject_identifier', how='left')"
   ]
  },
  {
   "cell_type": "code",
   "execution_count": null,
   "metadata": {},
   "outputs": [],
   "source": [
    "df_y2[pd.isnull(df_y2['identity'])]"
   ]
  },
  {
   "cell_type": "code",
   "execution_count": null,
   "metadata": {},
   "outputs": [],
   "source": [
    "df_y2['identity256'] = df_y2.apply(lambda row: identity256(row, 'identity'), axis=1)\n",
    "df_y2 = df_y2.drop('identity', axis=1)"
   ]
  },
  {
   "cell_type": "code",
   "execution_count": null,
   "metadata": {},
   "outputs": [],
   "source": [
    "df_y2.head()"
   ]
  },
  {
   "cell_type": "code",
   "execution_count": null,
   "metadata": {},
   "outputs": [],
   "source": [
    "file_ahs_new = f\"{file_ahs.split('.')[0]}_identity\"\n",
    "for delimiter, suffix in [(',', '_C'), ('|', '_P')]:\n",
    "    df_ahs.to_csv(\n",
    "        os.path.join(csv_path, f'{file_ahs_new}{suffix}.csv'),\n",
    "        index=False,\n",
    "        date_format=export_date_format,\n",
    "        sep=delimiter)"
   ]
  },
  {
   "cell_type": "code",
   "execution_count": null,
   "metadata": {},
   "outputs": [],
   "source": [
    "file_y2_new = f\"{file_y2.split('.')[0]}_identity\"\n",
    "for delimiter, suffix in [(',', '_C'), ('|', '_P')]:\n",
    "\n",
    "    df_y2.to_csv(\n",
    "        os.path.join(csv_path, f'{file_y2_new}{suffix}.csv'),\n",
    "        index=False,\n",
    "        date_format=export_date_format,\n",
    "        sep=delimiter)"
   ]
  },
  {
   "cell_type": "code",
   "execution_count": null,
   "metadata": {},
   "outputs": [],
   "source": [
    "df_ahs.groupby('visit_code').size()"
   ]
  },
  {
   "cell_type": "code",
   "execution_count": null,
   "metadata": {},
   "outputs": [],
   "source": [
    "df_ahs.groupby('community').size()"
   ]
  },
  {
   "cell_type": "code",
   "execution_count": null,
   "metadata": {},
   "outputs": [],
   "source": [
    "df_ahs.groupby('pair').size()"
   ]
  },
  {
   "cell_type": "code",
   "execution_count": null,
   "metadata": {},
   "outputs": [],
   "source": [
    "df_ahs.groupby('intervention').size()"
   ]
  },
  {
   "cell_type": "code",
   "execution_count": null,
   "metadata": {},
   "outputs": [],
   "source": [
    "df_ahs['interview_date'].describe()"
   ]
  },
  {
   "cell_type": "code",
   "execution_count": null,
   "metadata": {},
   "outputs": [],
   "source": [
    "df_ahs.groupby('final_arv_status').size()"
   ]
  },
  {
   "cell_type": "code",
   "execution_count": null,
   "metadata": {},
   "outputs": [],
   "source": [
    "df_ahs.groupby('final_hiv_status').size()"
   ]
  },
  {
   "cell_type": "code",
   "execution_count": null,
   "metadata": {},
   "outputs": [],
   "source": [
    "df_ahs.groupby('prev_result').size()"
   ]
  },
  {
   "cell_type": "code",
   "execution_count": null,
   "metadata": {},
   "outputs": [],
   "source": [
    "df_ahs.groupby('prev_result_known').size()"
   ]
  },
  {
   "cell_type": "code",
   "execution_count": null,
   "metadata": {},
   "outputs": [],
   "source": [
    "df_ahs.groupby('cd4_avail').size()"
   ]
  },
  {
   "cell_type": "code",
   "execution_count": null,
   "metadata": {},
   "outputs": [],
   "source": [
    "df_ahs.groupby('marital_status').size()"
   ]
  },
  {
   "cell_type": "code",
   "execution_count": null,
   "metadata": {},
   "outputs": [],
   "source": [
    "df_ahs.groupby('self_reported_result').size()"
   ]
  },
  {
   "cell_type": "code",
   "execution_count": null,
   "metadata": {},
   "outputs": [],
   "source": [
    "df_ahs.groupby('referred').size()"
   ]
  },
  {
   "cell_type": "code",
   "execution_count": null,
   "metadata": {},
   "outputs": [],
   "source": [
    "df_ahs.groupby('pregnant').size()"
   ]
  },
  {
   "cell_type": "code",
   "execution_count": null,
   "metadata": {},
   "outputs": [],
   "source": [
    "df_ahs.groupby('circumcised').size()"
   ]
  },
  {
   "cell_type": "code",
   "execution_count": null,
   "metadata": {},
   "outputs": [],
   "source": [
    "df_ahs.groupby('working').size()"
   ]
  },
  {
   "cell_type": "code",
   "execution_count": null,
   "metadata": {},
   "outputs": [],
   "source": [
    "df_ahs.groupby('timepoint').size()"
   ]
  },
  {
   "cell_type": "code",
   "execution_count": null,
   "metadata": {},
   "outputs": [],
   "source": []
  }
 ],
 "metadata": {
  "kernelspec": {
   "display_name": "Django Shell-Plus",
   "language": "python",
   "name": "django_extensions"
  },
  "language_info": {
   "codemirror_mode": {
    "name": "ipython",
    "version": 3
   },
   "file_extension": ".py",
   "mimetype": "text/x-python",
   "name": "python",
   "nbconvert_exporter": "python",
   "pygments_lexer": "ipython3",
   "version": "3.6.1"
  }
 },
 "nbformat": 4,
 "nbformat_minor": 2
}
