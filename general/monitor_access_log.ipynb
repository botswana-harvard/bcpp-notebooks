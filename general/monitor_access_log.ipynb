{
 "cells": [
  {
   "cell_type": "code",
   "execution_count": 1,
   "metadata": {},
   "outputs": [],
   "source": [
    "import base64\n",
    "import subprocess\n",
    "import pandas as pd\n",
    "import csv\n",
    "import os\n",
    "import re\n",
    "import sys\n",
    "import subprocess\n",
    "\n",
    "from datetime import datetime\n",
    "from paramiko.client import SSHClient\n",
    "from paramiko.sftp_client import SFTPClient\n",
    "from paramiko import AutoAddPolicy\n",
    "from pprint import pprint\n",
    "from dateutil.parser import parse\n",
    "from tqdm import tqdm\n",
    "\n",
    "df = pd.DataFrame()"
   ]
  },
  {
   "cell_type": "code",
   "execution_count": 2,
   "metadata": {},
   "outputs": [],
   "source": [
    "remote_user = 'django'\n",
    "host = 'ambition-test.bhp.org.bw'\n",
    "path = os.path.expanduser('/home/django/source/ambition/logs/access.log')\n",
    "timestamp = datetime.today().strftime('%Y%m%d%H%M%S')\n",
    "\n",
    "logfile = '~/ambition-test-bhp-org-bw-access-log-raw-20171027090111.csv'"
   ]
  },
  {
   "cell_type": "code",
   "execution_count": 3,
   "metadata": {},
   "outputs": [],
   "source": [
    "pat = (r''\n",
    "       '(\\d+.\\d+.\\d+.\\d+)\\s-\\s-\\s' #IP address\n",
    "       '\\[(.+)\\]\\s' #datetime\n",
    "       '\"GET\\s(.+)\\s\\w+/.+\"\\s' #requested file\n",
    "       '(\\d+)\\s' #status\n",
    "       '(\\d+)\\s' #bandwidth\n",
    "       '\"(.+)\"\\s' #referrer\n",
    "       '\"(.+)\"' #user agent\n",
    "    )\n",
    "\n",
    "def blocks(files, size=65536):\n",
    "    while True:\n",
    "        b = files.read(size)\n",
    "        if not b: break\n",
    "        yield b\n",
    "\n",
    "def connect(ssh=None):\n",
    "    ssh.load_system_host_keys()\n",
    "    ssh.set_missing_host_key_policy(AutoAddPolicy())\n",
    "    ssh.connect(\n",
    "        host,\n",
    "        username=remote_user,\n",
    "        timeout=5,\n",
    "        # banner_timeout=self.banner_timeout,\n",
    "        compress=True,\n",
    "    )\n",
    "    return ssh"
   ]
  },
  {
   "cell_type": "code",
   "execution_count": 4,
   "metadata": {},
   "outputs": [],
   "source": [
    "if logfile:\n",
    "    # load from csV\n",
    "    df = pd.read_csv(os.path.expanduser(logfile), low_memory=True)\n",
    "else:\n",
    "    lines = []\n",
    "    df = pd.DataFrame([], columns=['ip', 'datestring', 'url', 'status', 't', 'host', 'client'])\n",
    "    index = 0\n",
    "    with SSHClient() as ssh:\n",
    "        ssh = connect(ssh=ssh)\n",
    "        with SFTPClient.from_transport(ssh.get_transport()) as sftp_client:\n",
    "            with sftp_client.open(path, mode='r') as f:\n",
    "                total = sum(bl.decode('utf-8').count('\\n') for bl in blocks(f))\n",
    "                f.seek(0, 0)\n",
    "                for line in tqdm(f, total=total):\n",
    "                    match = re.findall(pat, line)\n",
    "                    df_ln = pd.DataFrame(\n",
    "                        list(match), columns=['ip', 'datestring', 'url', 'status', 't', 'host', 'client'])\n",
    "                    df = pd.concat([df, df_ln], ignore_index=True)"
   ]
  },
  {
   "cell_type": "code",
   "execution_count": 5,
   "metadata": {},
   "outputs": [],
   "source": [
    "if not logfile:\n",
    "    df.to_csv(os.path.expanduser(f'~/{host.replace(\".\", \"-\")}-access-log-raw-{timestamp}.csv'))\n",
    "    print(f'~/{host.replace(\".\", \"-\")}-access-log-raw-{timestamp}.csv')"
   ]
  },
  {
   "cell_type": "code",
   "execution_count": 6,
   "metadata": {},
   "outputs": [
    {
     "name": "stdout",
     "output_type": "stream",
     "text": [
      "<class 'pandas.core.frame.DataFrame'>\n",
      "RangeIndex: 44635 entries, 0 to 44634\n",
      "Data columns (total 8 columns):\n",
      "Unnamed: 0    44635 non-null int64\n",
      "ip            44635 non-null object\n",
      "datestring    44635 non-null object\n",
      "url           44635 non-null object\n",
      "status        44635 non-null int64\n",
      "t             44635 non-null int64\n",
      "host          44635 non-null object\n",
      "client        44635 non-null object\n",
      "dtypes: int64(3), object(5)\n",
      "memory usage: 2.7+ MB\n"
     ]
    }
   ],
   "source": [
    "df.info()"
   ]
  },
  {
   "cell_type": "code",
   "execution_count": 7,
   "metadata": {},
   "outputs": [
    {
     "data": {
      "text/html": [
       "<div>\n",
       "<style>\n",
       "    .dataframe thead tr:only-child th {\n",
       "        text-align: right;\n",
       "    }\n",
       "\n",
       "    .dataframe thead th {\n",
       "        text-align: left;\n",
       "    }\n",
       "\n",
       "    .dataframe tbody tr th {\n",
       "        vertical-align: top;\n",
       "    }\n",
       "</style>\n",
       "<table border=\"1\" class=\"dataframe\">\n",
       "  <thead>\n",
       "    <tr style=\"text-align: right;\">\n",
       "      <th></th>\n",
       "      <th>Unnamed: 0</th>\n",
       "      <th>ip</th>\n",
       "      <th>datestring</th>\n",
       "      <th>url</th>\n",
       "      <th>status</th>\n",
       "      <th>t</th>\n",
       "      <th>host</th>\n",
       "      <th>client</th>\n",
       "    </tr>\n",
       "  </thead>\n",
       "  <tbody>\n",
       "    <tr>\n",
       "      <th>0</th>\n",
       "      <td>0</td>\n",
       "      <td>10.113.201.182</td>\n",
       "      <td>01/Jun/2017:11:00:34 +0200</td>\n",
       "      <td>/</td>\n",
       "      <td>200</td>\n",
       "      <td>3224</td>\n",
       "      <td>-</td>\n",
       "      <td>Mozilla/5.0 (Macintosh; Intel Mac OS X 10_12_4...</td>\n",
       "    </tr>\n",
       "    <tr>\n",
       "      <th>1</th>\n",
       "      <td>1</td>\n",
       "      <td>10.113.201.182</td>\n",
       "      <td>01/Jun/2017:11:00:34 +0200</td>\n",
       "      <td>/static/edc_base/js/ie10-viewport-bug-workarou...</td>\n",
       "      <td>200</td>\n",
       "      <td>694</td>\n",
       "      <td>http://ambition-test.bhp.org.bw/</td>\n",
       "      <td>Mozilla/5.0 (Macintosh; Intel Mac OS X 10_12_4...</td>\n",
       "    </tr>\n",
       "    <tr>\n",
       "      <th>2</th>\n",
       "      <td>2</td>\n",
       "      <td>10.113.201.182</td>\n",
       "      <td>01/Jun/2017:11:00:34 +0200</td>\n",
       "      <td>/static/edc_base/js/edc-base.js</td>\n",
       "      <td>200</td>\n",
       "      <td>149</td>\n",
       "      <td>http://ambition-test.bhp.org.bw/</td>\n",
       "      <td>Mozilla/5.0 (Macintosh; Intel Mac OS X 10_12_4...</td>\n",
       "    </tr>\n",
       "    <tr>\n",
       "      <th>3</th>\n",
       "      <td>3</td>\n",
       "      <td>10.113.201.182</td>\n",
       "      <td>01/Jun/2017:11:00:34 +0200</td>\n",
       "      <td>/static/django_js_reverse/js/reverse.js</td>\n",
       "      <td>404</td>\n",
       "      <td>209</td>\n",
       "      <td>http://ambition-test.bhp.org.bw/</td>\n",
       "      <td>Mozilla/5.0 (Macintosh; Intel Mac OS X 10_12_4...</td>\n",
       "    </tr>\n",
       "    <tr>\n",
       "      <th>4</th>\n",
       "      <td>4</td>\n",
       "      <td>10.113.201.182</td>\n",
       "      <td>01/Jun/2017:11:00:35 +0200</td>\n",
       "      <td>/static/django_js_reverse/js/reverse.js</td>\n",
       "      <td>404</td>\n",
       "      <td>209</td>\n",
       "      <td>http://ambition-test.bhp.org.bw/</td>\n",
       "      <td>Mozilla/5.0 (Macintosh; Intel Mac OS X 10_12_4...</td>\n",
       "    </tr>\n",
       "  </tbody>\n",
       "</table>\n",
       "</div>"
      ],
      "text/plain": [
       "   Unnamed: 0              ip                  datestring  \\\n",
       "0           0  10.113.201.182  01/Jun/2017:11:00:34 +0200   \n",
       "1           1  10.113.201.182  01/Jun/2017:11:00:34 +0200   \n",
       "2           2  10.113.201.182  01/Jun/2017:11:00:34 +0200   \n",
       "3           3  10.113.201.182  01/Jun/2017:11:00:34 +0200   \n",
       "4           4  10.113.201.182  01/Jun/2017:11:00:35 +0200   \n",
       "\n",
       "                                                 url  status     t  \\\n",
       "0                                                  /     200  3224   \n",
       "1  /static/edc_base/js/ie10-viewport-bug-workarou...     200   694   \n",
       "2                    /static/edc_base/js/edc-base.js     200   149   \n",
       "3            /static/django_js_reverse/js/reverse.js     404   209   \n",
       "4            /static/django_js_reverse/js/reverse.js     404   209   \n",
       "\n",
       "                               host  \\\n",
       "0                                 -   \n",
       "1  http://ambition-test.bhp.org.bw/   \n",
       "2  http://ambition-test.bhp.org.bw/   \n",
       "3  http://ambition-test.bhp.org.bw/   \n",
       "4  http://ambition-test.bhp.org.bw/   \n",
       "\n",
       "                                              client  \n",
       "0  Mozilla/5.0 (Macintosh; Intel Mac OS X 10_12_4...  \n",
       "1  Mozilla/5.0 (Macintosh; Intel Mac OS X 10_12_4...  \n",
       "2  Mozilla/5.0 (Macintosh; Intel Mac OS X 10_12_4...  \n",
       "3  Mozilla/5.0 (Macintosh; Intel Mac OS X 10_12_4...  \n",
       "4  Mozilla/5.0 (Macintosh; Intel Mac OS X 10_12_4...  "
      ]
     },
     "execution_count": 7,
     "metadata": {},
     "output_type": "execute_result"
    }
   ],
   "source": [
    "df.head()"
   ]
  },
  {
   "cell_type": "code",
   "execution_count": 8,
   "metadata": {},
   "outputs": [
    {
     "name": "stdout",
     "output_type": "stream",
     "text": [
      "<class 'pandas.core.frame.DataFrame'>\n",
      "Int64Index: 12371 entries, 7 to 44613\n",
      "Data columns (total 10 columns):\n",
      "Unnamed: 0    12371 non-null int64\n",
      "ip            12371 non-null object\n",
      "datestring    12371 non-null object\n",
      "url           12371 non-null object\n",
      "status        12371 non-null int64\n",
      "t             12371 non-null int64\n",
      "host          12371 non-null object\n",
      "client        12371 non-null object\n",
      "date          12371 non-null datetime64[ns]\n",
      "simple_url    12371 non-null object\n",
      "dtypes: datetime64[ns](1), int64(3), object(6)\n",
      "memory usage: 1.0+ MB\n"
     ]
    }
   ],
   "source": [
    "# convert datestring to date\n",
    "def to_datetime(d):\n",
    "    d = d.split('/')\n",
    "    d = ' '.join([d[1], d[0], d[2]]).split(':')\n",
    "    d = d[0] + ' ' + ':'.join([d[1], d[2], d[3].replace('+0200', '')])\n",
    "    return parse(timestr=d)\n",
    "\n",
    "df['date'] = df.apply(lambda row: to_datetime(row['datestring']), axis=1)\n",
    "df['date'] = df['date'].astype('datetime64[ns]')\n",
    "\n",
    "# chop off querystring\n",
    "df['simple_url'] = df.apply(lambda row: row['url'].split('?')[0], axis=1)\n",
    "\n",
    "# remove junk urls\n",
    "df = df[\n",
    "   (-df['simple_url'].isin(['/', '/admin/jsi18n/']))\n",
    "   & (-df['simple_url'].str.contains('static'))\n",
    "   & (-df['simple_url'].str.contains('login'))]\n",
    "\n",
    "# show df info\n",
    "df.info()"
   ]
  },
  {
   "cell_type": "code",
   "execution_count": 9,
   "metadata": {},
   "outputs": [
    {
     "data": {
      "text/plain": [
       "count                   12371\n",
       "unique                  11941\n",
       "top       2017-09-08 09:51:25\n",
       "freq                        5\n",
       "first     2017-06-01 11:00:38\n",
       "last      2017-10-27 10:42:53\n",
       "Name: date, dtype: object"
      ]
     },
     "execution_count": 9,
     "metadata": {},
     "output_type": "execute_result"
    }
   ],
   "source": [
    "# review min max date\n",
    "df['date'].describe()"
   ]
  },
  {
   "cell_type": "code",
   "execution_count": 10,
   "metadata": {},
   "outputs": [],
   "source": [
    "# rank users effort\n",
    "from datetime import datetime, date\n",
    "now = date.today()\n",
    "today = datetime(now.year, now.month, now.day, 0, 0, 0)\n",
    "df[df['date'] >= today].groupby('ip').size()\n",
    "\n",
    "# remove logins, static, etc\n",
    "df1 = df[(-df['simple_url'].isin(['/', '/admin/jsi18n/']))\n",
    "   & (-df['simple_url'].str.contains('static'))\n",
    "   & (-df['simple_url'].str.contains('login'))]"
   ]
  },
  {
   "cell_type": "code",
   "execution_count": 11,
   "metadata": {},
   "outputs": [],
   "source": [
    "startdate = datetime(2017, 10, 10)\n",
    "df1['date'] = df1['date'].dt.normalize()\n",
    "df1 = df1[df1['date'] >= startdate]"
   ]
  },
  {
   "cell_type": "code",
   "execution_count": 12,
   "metadata": {},
   "outputs": [],
   "source": [
    "# timestamp = datetime.today().strftime('%Y%m%d%H%M%S')\n",
    "# df1.to_csv(os.path.expanduser(f'~/{host.replace(\".\", \"-\")}-access-log-{timestamp}.csv'))"
   ]
  },
  {
   "cell_type": "markdown",
   "metadata": {},
   "source": [
    "### Activity in hits per IP"
   ]
  },
  {
   "cell_type": "code",
   "execution_count": 13,
   "metadata": {},
   "outputs": [
    {
     "name": "stdout",
     "output_type": "stream",
     "text": [
      "2017-10-10 00:00:00\n",
      "ip\n",
      "10.113.201.72    3\n",
      "172.31.6.51      1\n",
      "dtype: int64\n",
      "2017-10-11 00:00:00\n",
      "ip\n",
      "10.113.201.114    11\n",
      "10.113.201.204    10\n",
      "10.136.211.206    97\n",
      "172.31.6.51       69\n",
      "dtype: int64\n",
      "2017-10-12 00:00:00\n",
      "ip\n",
      "10.113.201.159     3\n",
      "10.113.201.186     5\n",
      "10.113.201.2      17\n",
      "10.113.201.233     4\n",
      "10.136.211.206     1\n",
      "10.136.211.70      8\n",
      "dtype: int64\n",
      "2017-10-13 00:00:00\n",
      "ip\n",
      "10.113.201.136      2\n",
      "10.113.201.189     23\n",
      "10.113.201.196      9\n",
      "10.136.211.206    123\n",
      "dtype: int64\n",
      "2017-10-14 00:00:00\n",
      "ip\n",
      "10.113.200.115    1\n",
      "dtype: int64\n",
      "2017-10-16 00:00:00\n",
      "ip\n",
      "10.113.201.102     2\n",
      "10.136.211.74      6\n",
      "10.136.211.78     71\n",
      "dtype: int64\n",
      "2017-10-17 00:00:00\n",
      "ip\n",
      "10.113.201.118    4\n",
      "10.113.201.124    5\n",
      "dtype: int64\n",
      "2017-10-18 00:00:00\n",
      "ip\n",
      "10.113.201.107     13\n",
      "10.113.201.180     20\n",
      "10.113.201.209     48\n",
      "10.113.201.249      6\n",
      "10.136.211.78     140\n",
      "172.31.6.51         1\n",
      "dtype: int64\n",
      "2017-10-19 00:00:00\n",
      "ip\n",
      "10.113.201.185      5\n",
      "10.113.201.228      9\n",
      "10.136.211.18      13\n",
      "10.136.211.74       1\n",
      "154.70.150.41     304\n",
      "dtype: int64\n",
      "2017-10-20 00:00:00\n",
      "ip\n",
      "10.113.201.107      9\n",
      "154.70.150.41     133\n",
      "dtype: int64\n",
      "2017-10-23 00:00:00\n",
      "ip\n",
      "10.113.201.134    13\n",
      "154.70.150.41     26\n",
      "dtype: int64\n",
      "2017-10-24 00:00:00\n",
      "ip\n",
      "10.113.201.160     3\n",
      "10.113.201.216    19\n",
      "10.113.201.234    13\n",
      "10.113.201.242    12\n",
      "10.30.34.254       1\n",
      "154.70.150.41     14\n",
      "dtype: int64\n",
      "2017-10-25 00:00:00\n",
      "ip\n",
      "10.113.201.91     2\n",
      "10.113.201.93    10\n",
      "154.70.150.41    34\n",
      "dtype: int64\n",
      "2017-10-26 00:00:00\n",
      "ip\n",
      "10.113.201.114     31\n",
      "10.113.201.246      2\n",
      "154.70.150.41     107\n",
      "dtype: int64\n",
      "2017-10-27 00:00:00\n",
      "ip\n",
      "10.113.201.118     6\n",
      "154.70.150.41     26\n",
      "192.168.4.139      5\n",
      "192.168.4.163     11\n",
      "dtype: int64\n"
     ]
    }
   ],
   "source": [
    "from dateutil.relativedelta import relativedelta\n",
    "\n",
    "grouped = df1.groupby(['date'])\n",
    "for date, _ in grouped.groups.items():\n",
    "    print(date)\n",
    "    print(df1[\n",
    "        (df1['date'] >= date)\n",
    "        & (df1['date'] < (date + relativedelta(days=1)))].groupby('ip').size())\n",
    "# print(today - relativedelta(days=2))\n",
    "# print(df1[\n",
    "#     (df1['date'] >= today - relativedelta(days=2))\n",
    "#     & (df1['date'] < today - relativedelta(days=1))].groupby('ip').size())\n",
    "# print(today - relativedelta(days=1))\n",
    "# print(df1[\n",
    "#     (df1['date'] >= today - relativedelta(days=1))\n",
    "#     & (df1['date'] < today)].groupby('ip').size())\n",
    "# print(today)\n",
    "# print(df1[df1['date'] >= today].groupby('ip').size())"
   ]
  },
  {
   "cell_type": "code",
   "execution_count": 14,
   "metadata": {},
   "outputs": [],
   "source": [
    "# inspect top user\n",
    "# selected_ips = ['10.136.211.78']\n",
    "# df1 = df1[df1['ip'].isin(selected_ips)]"
   ]
  },
  {
   "cell_type": "markdown",
   "metadata": {},
   "source": [
    "### Type of activity"
   ]
  },
  {
   "cell_type": "markdown",
   "metadata": {},
   "source": [
    "#### Add"
   ]
  },
  {
   "cell_type": "code",
   "execution_count": 15,
   "metadata": {},
   "outputs": [
    {
     "data": {
      "text/plain": [
       "simple_url\n",
       "/admin/ambition_subject/adverseevent/add/                                            11\n",
       "/admin/ambition_subject/adverseeventfollowup/add/                                     5\n",
       "/admin/ambition_subject/bloodresult/add/                                             37\n",
       "/admin/ambition_subject/clinicnote/add/                                              35\n",
       "/admin/ambition_subject/healtheconomicsquestionnaire/add/                            18\n",
       "/admin/ambition_subject/lumbarpuncturecsf/add/                                       18\n",
       "/admin/ambition_subject/microbiology/add/                                             6\n",
       "/admin/ambition_subject/patienthistory/add/                                          23\n",
       "/admin/ambition_subject/prnmodel/add/                                                29\n",
       "/admin/ambition_subject/protocoldeviationviolation/add/                               2\n",
       "/admin/ambition_subject/radiology/add/                                                2\n",
       "/admin/ambition_subject/subjectconsent/add/                                          30\n",
       "/admin/ambition_subject/subjectlocator/add/                                           2\n",
       "/admin/ambition_subject/subjectrequisition/add/                                      13\n",
       "/admin/ambition_subject/subjectscreening/add/                                        33\n",
       "/admin/ambition_subject/subjectvisit/add/                                            61\n",
       "/admin/ambition_subject/subjectvisit/add1652f-804e-4e9e-8d04-e37993b5505a/change/     1\n",
       "/admin/ambition_subject/week2/add/                                                    2\n",
       "/admin/auth/user/add/                                                                 2\n",
       "/subject/dashboard/092-40990013-8/994ea508-b6c6-4902-ba46-add653a36da0/               8\n",
       "dtype: int64"
      ]
     },
     "execution_count": 15,
     "metadata": {},
     "output_type": "execute_result"
    }
   ],
   "source": [
    "# add models\n",
    "add_group = df1[(df1['simple_url'].str.contains('add'))\n",
    "                & (-df1['simple_url'].str.contains('appointment'))\n",
    "               ].groupby(['simple_url'])\n",
    "add_group.size()"
   ]
  },
  {
   "cell_type": "markdown",
   "metadata": {},
   "source": [
    "#### Edit / Change"
   ]
  },
  {
   "cell_type": "code",
   "execution_count": 16,
   "metadata": {},
   "outputs": [
    {
     "data": {
      "text/plain": [
       "simple_url\n",
       "/admin/ambition_subject/adverseevent/2b8c0747-0df3-4e11-91f7-600b2093388d/change/                    1\n",
       "/admin/ambition_subject/adverseevent/aa54fddb-3716-4927-934f-23af141650d7/change/                    4\n",
       "/admin/ambition_subject/adverseevent/d178a5ed-5206-4113-be0d-afd96f273272/change/                    1\n",
       "/admin/ambition_subject/adverseevent/d1ed3265-aee0-4d28-a9e7-c348b1f44279/change/                    1\n",
       "/admin/ambition_subject/adverseevent/f7f5caad-7240-41e3-903b-c86a77c90b15/change/                    3\n",
       "/admin/ambition_subject/bloodresult/0b33b1c3-71fc-4550-b24d-a65e92306bf1/change/                     1\n",
       "/admin/ambition_subject/bloodresult/587b55df-b24f-4386-8234-8dffd90f7833/change/                     1\n",
       "/admin/ambition_subject/bloodresult/90200c10-ea95-4855-8a63-3e5b1647704b/change/                     1\n",
       "/admin/ambition_subject/bloodresult/9c5e3d2c-aaab-427a-a74e-be5dc4124102/change/                     2\n",
       "/admin/ambition_subject/bloodresult/ed221d82-b5a0-4195-a92c-500bcd5e87f2/change/                     2\n",
       "/admin/ambition_subject/bloodresult/ef82059f-7d34-4fb7-a69e-f200a2a518a1/change/                     2\n",
       "/admin/ambition_subject/bloodresult/ffb168d6-c267-4a2b-8249-126c937c96ec/change/                     1\n",
       "/admin/ambition_subject/clinicnote/5d43e4f2-32c2-464a-8452-9826511e9708/change/                      1\n",
       "/admin/ambition_subject/healtheconomicsquestionnaire/73b8e3c8-7c9b-4679-b48f-8ddd2747bd0e/change/    2\n",
       "/admin/ambition_subject/lumbarpuncturecsf/203a8c25-ec00-4f4b-bc00-2d7374aa2397/change/               2\n",
       "/admin/ambition_subject/lumbarpuncturecsf/3f935f8b-ea52-49ed-b173-328793c59b66/change/               1\n",
       "/admin/ambition_subject/lumbarpuncturecsf/eadafd8a-35ec-497d-8e79-39d04e90f39b/change/               1\n",
       "/admin/ambition_subject/patienthistory/1cc4a132-d891-486a-a2f7-7f9e2e876066/change/                  1\n",
       "/admin/ambition_subject/patienthistory/3809e236-48b0-4156-8f83-b03339f63ed1/change/                  1\n",
       "/admin/ambition_subject/patienthistory/92f8cca8-0d37-4056-8d95-8ea5010b45fa/change/                  1\n",
       "/admin/ambition_subject/patienthistory/ff2f5735-cdbc-4ebf-9539-91a68bf68b11/change/                  3\n",
       "/admin/ambition_subject/prnmodel/01d95035-0df8-40ea-8d74-d2b0aea49c1f/change/                        1\n",
       "/admin/ambition_subject/prnmodel/19e30e28-6a1f-4eab-8a9e-716b322e82d8/change/                        1\n",
       "/admin/ambition_subject/prnmodel/368c3016-c0cf-4914-bad8-5d80c4732262/change/                        4\n",
       "/admin/ambition_subject/prnmodel/39c3c590-cd94-4c2a-8d2b-79649fbc4b73/change/                        2\n",
       "/admin/ambition_subject/prnmodel/c2802920-221b-4568-b3b5-903ccd0fd416/change/                        1\n",
       "/admin/ambition_subject/prnmodel/c88fb0d1-1a1b-44c1-a951-7594d3e29c12/change/                        1\n",
       "/admin/ambition_subject/prnmodel/f88eaa91-24f3-4acc-8088-842b322b2664/change/                        1\n",
       "/admin/ambition_subject/radiology/a4de55b4-18ee-4f0e-8a3e-7d7f130aca9c/change/                       1\n",
       "/admin/ambition_subject/subjectconsent/2bec9b43-010a-44ad-8466-ca8bfb783a83/change/                  1\n",
       "                                                                                                    ..\n",
       "/admin/ambition_subject/subjectconsent/5da93948-cccc-452e-af53-6dfb5a9eae46/change/                  2\n",
       "/admin/ambition_subject/subjectconsent/6b261388-071c-4f74-bccc-27e1e6f57130/change/                  2\n",
       "/admin/ambition_subject/subjectconsent/6bb51e16-b73e-40bf-a342-1cd5022efe69/change/                  2\n",
       "/admin/ambition_subject/subjectconsent/9af12b64-f4f7-4246-bae5-990cea3184ff/change/                  2\n",
       "/admin/ambition_subject/subjectconsent/c2b19369-c892-49d3-8ff0-e5d7aa66a68b/change/                  2\n",
       "/admin/ambition_subject/subjectconsent/d79cc140-0b34-47b3-aac1-34fb43ea24a5/change/                  1\n",
       "/admin/ambition_subject/subjectscreening/101fa437-b138-4bc0-9c8e-3a815aa42816/change/                2\n",
       "/admin/ambition_subject/subjectscreening/2ac71636-248d-4648-af8c-001bd94250a6/change/                1\n",
       "/admin/ambition_subject/subjectscreening/33e1ea45-a554-4c95-ade3-3dc93b7c9a37/change/                2\n",
       "/admin/ambition_subject/subjectscreening/463c4811-eeea-4371-b69e-a04fd9a83d0b/change/                1\n",
       "/admin/ambition_subject/subjectscreening/723d9369-f56f-4d38-93bb-d247ddbefe58/change/                1\n",
       "/admin/ambition_subject/subjectscreening/7911a6d7-3faa-4391-8903-dd8284debb93/change/                1\n",
       "/admin/ambition_subject/subjectscreening/a0fa01b2-d42c-4e87-b791-5ada18cd4b77/change/                4\n",
       "/admin/ambition_subject/subjectscreening/be201781-cf20-4d01-af3b-7f97e6e88760/change/                3\n",
       "/admin/ambition_subject/subjectscreening/d3445d10-1a76-4209-bfe8-630e0e9b4d75/change/                1\n",
       "/admin/ambition_subject/subjectscreening/d557e2a0-09f8-4167-8e85-e96351ba470c/change/                3\n",
       "/admin/ambition_subject/subjectscreening/e71a6ee4-c808-40df-83af-66b0020f0b63/change/                1\n",
       "/admin/ambition_subject/subjectscreening/fac0debb-65a2-4261-950e-df494e55d0eb/change/                7\n",
       "/admin/ambition_subject/subjectvisit/1a295684-e1ec-40d1-82c3-33749d29c69c/change/                    4\n",
       "/admin/ambition_subject/subjectvisit/5d977658-9b61-43dd-90c3-3c247711a49c/change/                    1\n",
       "/admin/ambition_subject/subjectvisit/add1652f-804e-4e9e-8d04-e37993b5505a/change/                    1\n",
       "/admin/ambition_subject/subjectvisit/ba2cf71f-ed45-4d0f-b161-ddb71aeb5ef8/change/                    1\n",
       "/admin/auth/user/1/change/                                                                           1\n",
       "/admin/auth/user/11/change/                                                                          1\n",
       "/admin/auth/user/3/change/                                                                           2\n",
       "/admin/auth/user/6/change/                                                                           1\n",
       "/admin/auth/user/7/change/                                                                           1\n",
       "/admin/auth/user/8/change/                                                                           3\n",
       "/admin/auth/user/9/change/                                                                           2\n",
       "/admin/password_change/                                                                              1\n",
       "Length: 61, dtype: int64"
      ]
     },
     "execution_count": 16,
     "metadata": {},
     "output_type": "execute_result"
    }
   ],
   "source": [
    "# change models\n",
    "df1[(df1['simple_url'].str.contains('change'))\n",
    "    & (-df1['simple_url'].str.contains('appointment'))\n",
    "   ].groupby(['simple_url']).size()"
   ]
  },
  {
   "cell_type": "markdown",
   "metadata": {},
   "source": [
    "#### Delete"
   ]
  },
  {
   "cell_type": "code",
   "execution_count": 17,
   "metadata": {},
   "outputs": [
    {
     "data": {
      "text/plain": [
       "Series([], dtype: int64)"
      ]
     },
     "execution_count": 17,
     "metadata": {},
     "output_type": "execute_result"
    }
   ],
   "source": [
    "# delete models\n",
    "df1[(df1['simple_url'].str.contains('delete'))\n",
    "    & (-df1['simple_url'].str.contains('appointment'))\n",
    "    ].groupby(['simple_url']).size()"
   ]
  },
  {
   "cell_type": "markdown",
   "metadata": {},
   "source": [
    "####  Appointments"
   ]
  },
  {
   "cell_type": "code",
   "execution_count": 18,
   "metadata": {},
   "outputs": [
    {
     "data": {
      "text/plain": [
       "simple_url\n",
       "/admin/ambition_subject/appointment/                                                 1\n",
       "/admin/ambition_subject/appointment/0275d7dc-35fe-4695-9253-be7f500eb2d5/change/     2\n",
       "/admin/ambition_subject/appointment/10daba8a-4bbd-4d43-9ff3-588a9136342a/change/     9\n",
       "/admin/ambition_subject/appointment/15a09c35-ae27-4776-9e93-dec9255256c4/change/     2\n",
       "/admin/ambition_subject/appointment/17bc94bb-a2d1-4ed0-96e9-a18d26c25803/change/     4\n",
       "/admin/ambition_subject/appointment/19bf1546-306c-43cc-81f5-32e9a02a2b04/change/     2\n",
       "/admin/ambition_subject/appointment/1a1ebf6d-de94-4cf0-bfed-4daeb3779802/change/     3\n",
       "/admin/ambition_subject/appointment/1b342b0e-1e8e-4d40-a9f9-7869afeb252a/change/     2\n",
       "/admin/ambition_subject/appointment/1caabaeb-d636-49b2-ac9f-d46050a2a0b1/change/     1\n",
       "/admin/ambition_subject/appointment/207fb144-0e89-416a-91ef-4065f997a1bd/change/     2\n",
       "/admin/ambition_subject/appointment/21f42dca-4e15-4509-bc0d-515aec543012/change/     2\n",
       "/admin/ambition_subject/appointment/229acb2c-255b-4cfa-a3c9-6439129b62bd/change/     1\n",
       "/admin/ambition_subject/appointment/2a9b1cc6-0c0f-4651-a44b-c43c17a0fa45/change/     2\n",
       "/admin/ambition_subject/appointment/3ab3ef0f-a5e9-4dfd-9c7e-6385c1fee35a/change/     5\n",
       "/admin/ambition_subject/appointment/464de491-5812-44be-b92b-a069d47af4c3/change/    18\n",
       "/admin/ambition_subject/appointment/4c5516df-1cad-4b2b-97ed-b6479a37210b/change/     1\n",
       "/admin/ambition_subject/appointment/54352821-4a51-4a18-b695-e1da2f0d2c52/change/     2\n",
       "/admin/ambition_subject/appointment/56d119c6-a967-4bee-946b-2e56c905e905/change/     4\n",
       "/admin/ambition_subject/appointment/594b92f1-1513-4207-8382-0a99c81212bd/change/     3\n",
       "/admin/ambition_subject/appointment/5b4f692a-ec06-4841-8f06-a30921a10069/change/     2\n",
       "/admin/ambition_subject/appointment/5d612563-ffad-47b7-a378-557e566e9550/change/     8\n",
       "/admin/ambition_subject/appointment/62a89c24-5678-4aa2-812c-759f01ad71f7/change/     2\n",
       "/admin/ambition_subject/appointment/718a4203-2092-40a0-a2c1-befc4db57646/change/     2\n",
       "/admin/ambition_subject/appointment/73478fd5-fe3e-47a3-98e4-594ec642201d/change/     2\n",
       "/admin/ambition_subject/appointment/73ad5627-4a57-452c-aacb-00c4f3dab186/change/     5\n",
       "/admin/ambition_subject/appointment/7f936e93-50a1-4a32-a826-8ed83644c569/change/     2\n",
       "/admin/ambition_subject/appointment/88695d21-fa7f-4f4c-9178-558ea3f4c6db/change/     1\n",
       "/admin/ambition_subject/appointment/994ea508-b6c6-4902-ba46-add653a36da0/change/     4\n",
       "/admin/ambition_subject/appointment/99c95fcd-0f7f-40bd-ad3d-08b45d4bd098/change/     2\n",
       "/admin/ambition_subject/appointment/9c37c895-c2f9-47d2-a064-c3e7e8fc4afa/change/     3\n",
       "/admin/ambition_subject/appointment/a22eb543-9ca1-4bce-9a3f-b568764803c0/change/     7\n",
       "/admin/ambition_subject/appointment/a6b92497-0954-4872-9561-bdd561055dfe/change/     1\n",
       "/admin/ambition_subject/appointment/b81c930e-505d-47f5-9ef4-e393f6b32fa2/change/     2\n",
       "/admin/ambition_subject/appointment/b94b0cd4-9d00-4a0d-8f0c-0bb56a67a1e3/change/     2\n",
       "/admin/ambition_subject/appointment/bbab7e54-1702-494d-a120-88c93378520b/change/     9\n",
       "/admin/ambition_subject/appointment/c006e78d-a334-4e09-9085-91fab71ba39a/change/     3\n",
       "/admin/ambition_subject/appointment/cb5f64a7-3492-4fc0-b1f2-e51b8ae88de0/change/     5\n",
       "/admin/ambition_subject/appointment/d3a388a5-d3cc-4a99-b71a-3715c06ae51c/change/     3\n",
       "/admin/ambition_subject/appointment/dbf907b3-e74c-433d-9866-3a8e7a31c769/change/     2\n",
       "/admin/ambition_subject/appointment/e1cf74cb-ba99-4838-aa9e-3f8d8d36d8fa/change/     2\n",
       "/admin/ambition_subject/appointment/e1cf74cb-ba99-4838-aa9e-3f8d8d36d8fa/delete/     1\n",
       "/admin/ambition_subject/appointment/e2fe8965-4d1d-488a-b73e-f7b16e017dfe/change/     1\n",
       "/admin/ambition_subject/appointment/f3cd9613-7d5a-4f51-a0c5-ec98e6140cd6/change/     4\n",
       "/admin/ambition_subject/appointment/f684551e-c708-4f24-af47-3ebf44e86ace/change/     2\n",
       "/admin/ambition_subject/appointment/f8f8313f-2bfc-4ca4-9689-7f6afd313a69/change/     3\n",
       "/admin/ambition_subject/appointment/fc7339b5-56dd-4575-b335-1c21b5970dcb/change/     1\n",
       "/admin/ambition_subject/appointment/fd9ff79a-7e74-43cf-8eda-194bdfe844f8/change/     3\n",
       "/admin/ambition_subject/appointment/ff212a6c-a367-4fa0-bf8c-6be2d2d8ac24/change/    10\n",
       "dtype: int64"
      ]
     },
     "execution_count": 18,
     "metadata": {},
     "output_type": "execute_result"
    }
   ],
   "source": [
    "# accessing appointments\n",
    "df1[(df1['simple_url'].str.contains('appointment'))].groupby(['simple_url']).size()"
   ]
  },
  {
   "cell_type": "markdown",
   "metadata": {},
   "source": [
    "#### Dashboard"
   ]
  },
  {
   "cell_type": "code",
   "execution_count": 19,
   "metadata": {},
   "outputs": [
    {
     "data": {
      "text/plain": [
       "simple_url\n",
       "/subject/dashboard/092-40990001-3/                                          1\n",
       "/subject/dashboard/092-40990002-1/                                          3\n",
       "/subject/dashboard/092-40990002-1/a6b92497-0954-4872-9561-bdd561055dfe/     1\n",
       "/subject/dashboard/092-40990004-7/                                          2\n",
       "/subject/dashboard/092-40990004-7/86962bc1-7d04-4290-a4ff-9e9929877c3e/     2\n",
       "/subject/dashboard/092-40990008-8/                                         62\n",
       "/subject/dashboard/092-40990008-8/10daba8a-4bbd-4d43-9ff3-588a9136342a/    15\n",
       "/subject/dashboard/092-40990008-8/56d119c6-a967-4bee-946b-2e56c905e905/     4\n",
       "/subject/dashboard/092-40990008-8/5d612563-ffad-47b7-a378-557e566e9550/    11\n",
       "/subject/dashboard/092-40990008-8/a22eb543-9ca1-4bce-9a3f-b568764803c0/     6\n",
       "/subject/dashboard/092-40990009-6/                                          1\n",
       "/subject/dashboard/092-40990009-6/049c72f7-b106-4714-ae57-484cd53b5dad/     1\n",
       "/subject/dashboard/092-40990010-4/                                         15\n",
       "/subject/dashboard/092-40990010-4/17bc94bb-a2d1-4ed0-96e9-a18d26c25803/     5\n",
       "/subject/dashboard/092-40990010-4/9c37c895-c2f9-47d2-a064-c3e7e8fc4afa/     5\n",
       "/subject/dashboard/092-40990011-2/                                         46\n",
       "/subject/dashboard/092-40990011-2/464de491-5812-44be-b92b-a069d47af4c3/    14\n",
       "/subject/dashboard/092-40990011-2/bbab7e54-1702-494d-a120-88c93378520b/     7\n",
       "/subject/dashboard/092-40990012-0/                                         22\n",
       "/subject/dashboard/092-40990012-0/21f42dca-4e15-4509-bc0d-515aec543012/     3\n",
       "/subject/dashboard/092-40990012-0/594b92f1-1513-4207-8382-0a99c81212bd/     1\n",
       "/subject/dashboard/092-40990012-0/c006e78d-a334-4e09-9085-91fab71ba39a/     4\n",
       "/subject/dashboard/092-40990012-0/f3cd9613-7d5a-4f51-a0c5-ec98e6140cd6/    22\n",
       "/subject/dashboard/092-40990013-8/                                         20\n",
       "/subject/dashboard/092-40990013-8/994ea508-b6c6-4902-ba46-add653a36da0/     8\n",
       "/subject/dashboard/092-40990013-8/dbf907b3-e74c-433d-9866-3a8e7a31c769/     7\n",
       "/subject/dashboard/092-40990014-6/                                         13\n",
       "/subject/dashboard/092-40990014-6/4c5516df-1cad-4b2b-97ed-b6479a37210b/    11\n",
       "/subject/dashboard/092-40990014-6/fd9ff79a-7e74-43cf-8eda-194bdfe844f8/    10\n",
       "/subject/dashboard/092-40990015-3/                                         30\n",
       "/subject/dashboard/092-40990015-3/1a1ebf6d-de94-4cf0-bfed-4daeb3779802/    13\n",
       "/subject/dashboard/092-40990015-3/1b342b0e-1e8e-4d40-a9f9-7869afeb252a/     4\n",
       "/subject/dashboard/092-40990015-3/207fb144-0e89-416a-91ef-4065f997a1bd/     3\n",
       "/subject/dashboard/092-40990015-3/718a4203-2092-40a0-a2c1-befc4db57646/     5\n",
       "/subject/dashboard/092-40990015-3/7f936e93-50a1-4a32-a826-8ed83644c569/     3\n",
       "/subject/dashboard/092-40990015-3/b81c930e-505d-47f5-9ef4-e393f6b32fa2/     2\n",
       "/subject/dashboard/092-40990015-3/b94b0cd4-9d00-4a0d-8f0c-0bb56a67a1e3/     4\n",
       "/subject/dashboard/092-40990016-1/                                         10\n",
       "/subject/dashboard/092-40990016-1/99c95fcd-0f7f-40bd-ad3d-08b45d4bd098/     2\n",
       "/subject/dashboard/092-40990016-1/d3a388a5-d3cc-4a99-b71a-3715c06ae51c/     1\n",
       "/subject/dashboard/092-40990016-1/f8f8313f-2bfc-4ca4-9689-7f6afd313a69/     4\n",
       "/subject/dashboard/092-40990017-9/                                          3\n",
       "/subject/dashboard/092-40990018-7/                                          4\n",
       "/subject/dashboard/092-40990018-7/e2fe8965-4d1d-488a-b73e-f7b16e017dfe/     8\n",
       "/subject/dashboard/092-40990019-5/                                         15\n",
       "/subject/dashboard/092-40990019-5/0275d7dc-35fe-4695-9253-be7f500eb2d5/     1\n",
       "/subject/dashboard/092-40990019-5/15a09c35-ae27-4776-9e93-dec9255256c4/     1\n",
       "/subject/dashboard/092-40990019-5/54352821-4a51-4a18-b695-e1da2f0d2c52/     1\n",
       "/subject/dashboard/092-40990019-5/5b4f692a-ec06-4841-8f06-a30921a10069/     3\n",
       "/subject/dashboard/092-40990020-3/                                         23\n",
       "/subject/dashboard/092-40990020-3/19bf1546-306c-43cc-81f5-32e9a02a2b04/     6\n",
       "/subject/dashboard/092-40990020-3/73478fd5-fe3e-47a3-98e4-594ec642201d/    17\n",
       "/subject/dashboard/092-40990020-3/73ad5627-4a57-452c-aacb-00c4f3dab186/     7\n",
       "/subject/dashboard/092-40990020-3/88695d21-fa7f-4f4c-9178-558ea3f4c6db/     5\n",
       "/subject/dashboard/092-40990021-1/                                          2\n",
       "/subject/dashboard/092-40990021-1/1caabaeb-d636-49b2-ac9f-d46050a2a0b1/     1\n",
       "dtype: int64"
      ]
     },
     "execution_count": 19,
     "metadata": {},
     "output_type": "execute_result"
    }
   ],
   "source": [
    "# accessing dashboards\n",
    "df1[(df1['simple_url'].str.contains('dashboard'))\n",
    "   & (-df1['simple_url'].str.contains('_dashboard'))].groupby(['simple_url']).size()"
   ]
  },
  {
   "cell_type": "markdown",
   "metadata": {},
   "source": [
    "#### Screening Listboards"
   ]
  },
  {
   "cell_type": "code",
   "execution_count": 20,
   "metadata": {},
   "outputs": [
    {
     "data": {
      "text/plain": [
       "simple_url\n",
       "/subject/screening_listboard/             97\n",
       "/subject/screening_listboard/1/            1\n",
       "/subject/screening_listboard/2/            4\n",
       "/subject/screening_listboard/3/            2\n",
       "/subject/screening_listboard/S993FX87/     3\n",
       "/subject/screening_listboard/S9943ER9/     1\n",
       "/subject/screening_listboard/S99A9AKP/     1\n",
       "/subject/screening_listboard/S99EEVZK/     2\n",
       "/subject/screening_listboard/S99EXAUZ/     4\n",
       "/subject/screening_listboard/S99WMDW9/     3\n",
       "dtype: int64"
      ]
     },
     "execution_count": 20,
     "metadata": {},
     "output_type": "execute_result"
    }
   ],
   "source": [
    "# accessing listboards\n",
    "df1[(df1['simple_url'].str.contains('screening_listboard'))].groupby(['simple_url']).size()"
   ]
  },
  {
   "cell_type": "markdown",
   "metadata": {},
   "source": [
    "#### Pharmacy"
   ]
  },
  {
   "cell_type": "code",
   "execution_count": 21,
   "metadata": {},
   "outputs": [
    {
     "data": {
      "text/plain": [
       "simple_url\n",
       "/edc_pharma_dashboard/                                                6\n",
       "/edc_pharma_dashboard/listboard/dispense/                            10\n",
       "/edc_pharma_dashboard/listboard/dispensetimepoint/                    1\n",
       "/edc_pharma_dashboard/listboard/dispensetimepoint/092-40990007-0/     2\n",
       "/edc_pharma_dashboard/listboard/dispensetimepoint/092-40990010-4/     2\n",
       "/edc_pharma_dashboard/listboard/dispensetimepoint/092-40990011-2/     2\n",
       "dtype: int64"
      ]
     },
     "execution_count": 21,
     "metadata": {},
     "output_type": "execute_result"
    }
   ],
   "source": [
    "df1[(df1['simple_url'].str.contains('edc_pharma'))].groupby(['simple_url']).size()"
   ]
  },
  {
   "cell_type": "markdown",
   "metadata": {},
   "source": [
    "#### Lab"
   ]
  },
  {
   "cell_type": "code",
   "execution_count": 22,
   "metadata": {},
   "outputs": [
    {
     "data": {
      "text/plain": [
       "simple_url\n",
       "/edc_lab_dashboard//                         9\n",
       "/edc_lab_dashboard/listboard/aliquot/        1\n",
       "/edc_lab_dashboard/listboard/manifest/       1\n",
       "/edc_lab_dashboard/listboard/pack/           1\n",
       "/edc_lab_dashboard/listboard/process/        2\n",
       "/edc_lab_dashboard/listboard/receive/        7\n",
       "/edc_lab_dashboard/listboard/requisition/    1\n",
       "dtype: int64"
      ]
     },
     "execution_count": 22,
     "metadata": {},
     "output_type": "execute_result"
    }
   ],
   "source": [
    "df1[(df1['simple_url'].str.contains('edc_lab'))].groupby(['simple_url']).size()"
   ]
  },
  {
   "cell_type": "markdown",
   "metadata": {},
   "source": [
    "#### Edc"
   ]
  },
  {
   "cell_type": "code",
   "execution_count": 23,
   "metadata": {},
   "outputs": [
    {
     "data": {
      "text/plain": [
       "simple_url\n",
       "/edc/settings/                                                        1\n",
       "/edc_consent/                                                         5\n",
       "/edc_consent/admin/                                                   3\n",
       "/edc_device/                                                          2\n",
       "/edc_identifier/admin/                                                1\n",
       "/edc_lab_dashboard//                                                  9\n",
       "/edc_lab_dashboard/listboard/aliquot/                                 1\n",
       "/edc_lab_dashboard/listboard/manifest/                                1\n",
       "/edc_lab_dashboard/listboard/pack/                                    1\n",
       "/edc_lab_dashboard/listboard/process/                                 2\n",
       "/edc_lab_dashboard/listboard/receive/                                 7\n",
       "/edc_lab_dashboard/listboard/requisition/                             1\n",
       "/edc_pharma_dashboard/                                                6\n",
       "/edc_pharma_dashboard/listboard/dispense/                            10\n",
       "/edc_pharma_dashboard/listboard/dispensetimepoint/                    1\n",
       "/edc_pharma_dashboard/listboard/dispensetimepoint/092-40990007-0/     2\n",
       "/edc_pharma_dashboard/listboard/dispensetimepoint/092-40990010-4/     2\n",
       "/edc_pharma_dashboard/listboard/dispensetimepoint/092-40990011-2/     2\n",
       "dtype: int64"
      ]
     },
     "execution_count": 23,
     "metadata": {},
     "output_type": "execute_result"
    }
   ],
   "source": [
    "# accessing edc modules\n",
    "df1[(df1['simple_url'].str.contains('edc'))].groupby(['simple_url']).size()"
   ]
  },
  {
   "cell_type": "code",
   "execution_count": null,
   "metadata": {},
   "outputs": [],
   "source": []
  },
  {
   "cell_type": "code",
   "execution_count": null,
   "metadata": {},
   "outputs": [],
   "source": []
  }
 ],
 "metadata": {
  "kernelspec": {
   "display_name": "Django Shell-Plus",
   "language": "python",
   "name": "django_extensions"
  },
  "language_info": {
   "codemirror_mode": {
    "name": "ipython",
    "version": 3
   },
   "file_extension": ".py",
   "mimetype": "text/x-python",
   "name": "python",
   "nbconvert_exporter": "python",
   "pygments_lexer": "ipython3",
   "version": "3.6.1"
  }
 },
 "nbformat": 4,
 "nbformat_minor": 2
}
