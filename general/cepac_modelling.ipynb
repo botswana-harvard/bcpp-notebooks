{
 "cells": [
  {
   "cell_type": "markdown",
   "metadata": {},
   "source": [
    "# CEPAC Model"
   ]
  },
  {
   "cell_type": "markdown",
   "metadata": {},
   "source": [
    "## References\n",
    "\n",
    "1. http://www.massgeneral.org/mpec/cepac/\n",
    "\n",
    "2. http://www.massgeneral.org/MPEC/Assets/Files/6-20-updates/Flowcharts-cepac50a_06-23-2016.pdf\n",
    "\n",
    "3. http://www.massgeneral.org/MPEC/Assets/Files/UpdatedFiles/Model_User_Guide_-_cepac50a_-09_26_2017.pdf\n",
    "\n",
    "4. http://www.massgeneral.org/MPEC/Assets/Files/UpdatedFiles/Pre-Exposure%20Prophylaxis%20_PrEP_.pdf"
   ]
  },
  {
   "cell_type": "code",
   "execution_count": null,
   "metadata": {},
   "outputs": [],
   "source": []
  },
  {
   "cell_type": "code",
   "execution_count": null,
   "metadata": {},
   "outputs": [],
   "source": []
  }
 ],
 "metadata": {
  "kernelspec": {
   "display_name": "Django Shell-Plus",
   "language": "python",
   "name": "django_extensions"
  },
  "language_info": {
   "codemirror_mode": {
    "name": "ipython",
    "version": 3
   },
   "file_extension": ".py",
   "mimetype": "text/x-python",
   "name": "python",
   "nbconvert_exporter": "python",
   "pygments_lexer": "ipython3",
   "version": "3.6.1"
  }
 },
 "nbformat": 4,
 "nbformat_minor": 2
}
