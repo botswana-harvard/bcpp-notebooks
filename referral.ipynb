{
 "cells": [
  {
   "cell_type": "code",
   "execution_count": 413,
   "metadata": {},
   "outputs": [],
   "source": [
    "import numpy as np\n",
    "import pandas as pd\n",
    "import sys\n",
    "\n",
    "from arrow import Arrow\n",
    "from bcpp_community import communities\n",
    "from bcpp_status.models import StatusHistory\n",
    "from bcpp_subject.models import SubjectVisit, SubjectConsent\n",
    "from datetime import datetime\n",
    "from django.db import connection\n",
    "from edc_constants.constants import YES, NO, NEG, UNK\n",
    "from edc_pdutils.model_to_dataframe import ModelToDataframe\n",
    "from pprint import pprint\n",
    "\n",
    "VIRAL_LOAD = 'Viral Load'\n",
    "start_date = datetime(2017, 1, 1)\n",
    "date_format = '%Y-%m-%d %H:%M:%S.%f'\n",
    "export_date_format = '%Y-%m-%d'\n",
    "local_tz = 'Africa/Gaborone'\n",
    "\n",
    "load_consent_from_csv = True\n",
    "consent_csv_filename = '~/Documents/bcpp/referral/consent20170927142648.csv'\n",
    "split_csv_by_community = True\n",
    "delimiter = '|'"
   ]
  },
  {
   "cell_type": "code",
   "execution_count": 362,
   "metadata": {},
   "outputs": [],
   "source": [
    "class MemberModelToDataframe(ModelToDataframe):\n",
    "    columns = {k: k for k in ['id', 'spouse_of_citizen', 'citizen', 'study_resident']}\n",
    "    \n",
    "class StatusHistoryModelToDataframe(ModelToDataframe):\n",
    "    columns = {fld.name: fld.name for fld in StatusHistory._meta.get_fields()}    \n",
    "\n",
    "class LocatorModelToDataframe(ModelToDataframe):\n",
    "    columns = {k: k for k in ['id', 'subject_identifier', 'may_follow_up']}\n",
    "\n",
    "\n",
    "class SubjectModelToDataframe(ModelToDataframe):\n",
    "    \n",
    "    columns = {k: k for k in ['subject_identifier', 'gender', 'dob']}\n",
    "    \n",
    "    def __init__(self, columns=None, **kwargs):\n",
    "        if columns:\n",
    "            self.columns = {k: k for k in columns}\n",
    "        super().__init__(**kwargs)"
   ]
  },
  {
   "cell_type": "code",
   "execution_count": 363,
   "metadata": {},
   "outputs": [],
   "source": [
    "def get_crf_dataframe(model=None, cols=None):\n",
    "    \"\"\"Returns a CRF dataframe characterized with index set\n",
    "    to 'subject_visit_id'.\n",
    "    \"\"\"\n",
    "    df_crf = ModelToDataframe(model=model, drop_sys_columns=True).dataframe\n",
    "    if cols:\n",
    "        cols.append('subject_visit_id')\n",
    "        df_crf = df_crf[cols]\n",
    "    df_crf = df_crf.set_index('subject_visit_id')\n",
    "    return df_crf\n",
    "\n",
    "def to_local_datetime(s):\n",
    "    \"\"\"Returns a localized datetime series given tz-aware dates.\n",
    "    \"\"\"\n",
    "    s = s.dt.tz_localize('UTC')\n",
    "    s = s.dt.tz_convert(local_tz)\n",
    "    return s\n",
    "\n",
    "def date_to_local_datetime(s):\n",
    "    \"\"\"Returns a localized datetime series given naive dates.\n",
    "    \"\"\"\n",
    "    s = pd.to_datetime(s, format=date_format, exact=True, utc=True, box=True)\n",
    "    s = s.dt.tz_localize(local_tz)\n",
    "    return s\n",
    "\n",
    "def get_yesno_etc(value):\n",
    "    \"\"\"Returns a value as Yes/No/not_sure given\n",
    "    1, 0 True, False, etc.\n",
    "    \"\"\"\n",
    "    try:\n",
    "        value = str(int(value))\n",
    "    except ValueError:\n",
    "        pass\n",
    "    if value in ['1', 'True']:\n",
    "        value = YES\n",
    "    elif value in ['0', 'False']:\n",
    "        value = NO\n",
    "    elif value == '2':\n",
    "        value = 'not_sure'\n",
    "    else:\n",
    "        pass\n",
    "    return value\n",
    "\n",
    "def tb_symptoms(row):\n",
    "    \"\"\"Returns a list of tb symptoms joined\n",
    "    by semi-colon.\n",
    "    \"\"\"\n",
    "    symptoms = ['--' for i in range(0,5)]\n",
    "    if row['cough'] == YES:\n",
    "        symptoms[0] = 'cough'\n",
    "    if row['lymph_nodes'] == YES:\n",
    "        symptoms[1] = 'lymph_nodes'\n",
    "    if row['night_sweat'] == YES:\n",
    "        symptoms[2] = 'night_sweat'\n",
    "    if row['cough_blood'] == YES:\n",
    "        symptoms[3] = 'cough_blood'\n",
    "    if row['weight_loss'] == YES:\n",
    "        symptoms[4] = 'weight_loss'\n",
    "    # symptoms.sort()\n",
    "    symptoms = ';'.join(symptoms)\n",
    "    symptoms =  symptoms.replace('--', '')\n",
    "    return np.nan if symptoms == ';;;;' else symptoms\n",
    "\n",
    "def find_missing_subject_identifiers(model=None, subject_identifiers=None):\n",
    "    # Validate all subject identifiers from subject_visit are in registered subject\n",
    "    df_subject_identifiers = pd.DataFrame(subject_identifiers, columns=['subject_identifier'])\n",
    "    df_subject_identifiers['identifier'] = df_subject_identifiers['subject_identifier']\n",
    "    df_subject_identifiers = df_subject_identifiers.set_index('subject_identifier')\n",
    "    df_subject_identifiers.head()\n",
    "\n",
    "    df_subject = SubjectModelToDataframe(model=model).dataframe\n",
    "    df_subject = df_subject.drop_duplicates()\n",
    "    # remove subject identifier as UUID\n",
    "    df_subject = df_subject[df_subject['subject_identifier'].str.len() != 32]\n",
    "    df_subject = df_subject.set_index('subject_identifier')\n",
    "\n",
    "    df_missing = df_subject_identifiers[-df_subject_identifiers['identifier'].isin(df_subject.index)]\n",
    "    # df_missing = df_missing[pd.isnull(df_missing['identifier'])]\n",
    "\n",
    "    if len(df_missing.index) > 0:\n",
    "        print(f'There are {len(df_missing[\"identifier\"])} subject identifiers in subject visit missing from {model}')\n",
    "        # pprint(list(df_missing['identifier']))\n",
    "    return df_missing"
   ]
  },
  {
   "cell_type": "code",
   "execution_count": 364,
   "metadata": {},
   "outputs": [
    {
     "name": "stdout",
     "output_type": "stream",
     "text": [
      "<class 'pandas.core.frame.DataFrame'>\n",
      "Int64Index: 19458 entries, 0 to 35033\n",
      "Data columns (total 3 columns):\n",
      "subject_identifier    19458 non-null object\n",
      "gender                19458 non-null object\n",
      "dob                   19458 non-null object\n",
      "dtypes: object(3)\n",
      "memory usage: 608.1+ KB\n"
     ]
    }
   ],
   "source": [
    "df_subjects = SubjectModelToDataframe(model='bcpp_subject.subjectconsent').dataframe\n",
    "df_subjects = df_subjects.drop_duplicates()\n",
    "df_subjects.info()"
   ]
  },
  {
   "cell_type": "code",
   "execution_count": 365,
   "metadata": {},
   "outputs": [],
   "source": [
    "# start with subject visit model\n",
    "cols = ['subject_identifier', 'report_date', 'visit_code', 'consent_version', 'survey', 'household_member_id', ]\n",
    "df = ModelToDataframe(model='bcpp_subject.subjectvisit', drop_sys_columns=True).dataframe\n",
    "df = df.rename(columns={'id': 'subject_visit_id'})\n",
    "df = df.set_index('subject_visit_id')\n",
    "df['report_date'] = to_local_datetime(df['report_datetime'])\n",
    "df['report_date'] = df['report_date'].dt.normalize()\n",
    "df = df[cols]\n",
    "df_original = df.copy()\n",
    "\n",
    "# only keep records after start_date\n",
    "df = df[df['report_date'] >= start_date]"
   ]
  },
  {
   "cell_type": "code",
   "execution_count": 366,
   "metadata": {},
   "outputs": [],
   "source": [
    "# df_original.groupby('visit_code').size()"
   ]
  },
  {
   "cell_type": "code",
   "execution_count": 367,
   "metadata": {},
   "outputs": [],
   "source": [
    "# df.groupby('visit_code').size()"
   ]
  },
  {
   "cell_type": "code",
   "execution_count": 368,
   "metadata": {},
   "outputs": [
    {
     "name": "stdout",
     "output_type": "stream",
     "text": [
      "There are 10492/19444 subject identifiers were reported on after 2017-01-01 00:00:00.\n"
     ]
    }
   ],
   "source": [
    "# unique list of all know subject identifiers\n",
    "total_subject_identifiers = df_original['subject_identifier']\n",
    "total_subject_identifiers = total_subject_identifiers.drop_duplicates()\n",
    "subject_identifiers = df['subject_identifier']\n",
    "subject_identifiers = subject_identifiers.drop_duplicates()\n",
    "# assert len(subject_identifiers) == len(df['subject_identifier'])\n",
    "print(f'There are {len(subject_identifiers)}/{len(total_subject_identifiers)} subject identifiers were reported on after {start_date}.')"
   ]
  },
  {
   "cell_type": "code",
   "execution_count": 369,
   "metadata": {},
   "outputs": [],
   "source": [
    "# Validate all subject identifiers from subject_visit are in registered subject\n",
    "# find_missing_subject_identifiers(\n",
    "#     model='edc_registration.registeredsubject', subject_identifiers=subject_identifiers)"
   ]
  },
  {
   "cell_type": "code",
   "execution_count": 370,
   "metadata": {},
   "outputs": [],
   "source": [
    "# Validate all subject identifiers from subject_visit are in subject consent\n",
    "# find_missing_subject_identifiers(\n",
    "#     model='bcpp_subject.subjectconsent', subject_identifiers=subject_identifiers)"
   ]
  },
  {
   "cell_type": "code",
   "execution_count": 371,
   "metadata": {},
   "outputs": [],
   "source": [
    "model = 'bcpp_subject.subjectreferral'\n",
    "cols = ['subject_referred', 'referral_code', 'referral_clinic', 'referral_appt_date', 'scheduled_appt_date']\n",
    "df_crf = get_crf_dataframe(model=model, cols=cols)\n",
    "df_crf = df_crf[df_crf['referral_code'] != 'not_referred']\n",
    "\n",
    "# remove not referred and pending\n",
    "df_pending = df_crf[(df_crf['referral_code'] == 'pending') & (df_crf['subject_referred'].isin([NO, 'refused']))]\n",
    "df_crf = df_crf.drop(df_pending.index, axis=0)\n",
    "\n",
    "# localize dates and datetimes\n",
    "df_crf['referral_appt_date'] = to_local_datetime(df_crf['referral_appt_date'])\n",
    "df_crf['scheduled_appt_date'] = date_to_local_datetime(df_crf['scheduled_appt_date'])\n",
    "\n",
    "# replace referral_appt_date with scheduled_appt_date if scheduled_appt_date\n",
    "df_crf['referral_appt_date'] = df_crf.apply(\n",
    "    lambda row: row['scheduled_appt_date']\n",
    "        if pd.notnull(row['scheduled_appt_date']) else row['referral_appt_date'], axis=1)\n",
    "# join to main df\n",
    "df = df.join(df_crf)\n",
    "# filter out those not referred\n",
    "df = df[-df['subject_referred'].isnull()]\n",
    "# df.head()"
   ]
  },
  {
   "cell_type": "code",
   "execution_count": 372,
   "metadata": {},
   "outputs": [],
   "source": [
    "# import subject consent model\n",
    "if load_consent_from_csv:\n",
    "    df_consent = pd.read_csv(consent_csv_filename)\n",
    "    df_consent['consent_datetime'] = date_to_local_datetime(df_consent['consent_datetime'])\n",
    "    df_consent['dob'] = date_to_local_datetime(df_consent['dob'])\n",
    "else:\n",
    "    # is slow because it gets the encrypted field \"identity\"\n",
    "    model = 'bcpp_subject.subjectconsent'\n",
    "    cols = ['subject_identifier', 'gender', 'dob', 'consent_datetime', 'version', 'identity', 'identity_type']\n",
    "    # query_filter = {'consent_datetime__gte': Arrow.fromdatetime(start_date).datetime}\n",
    "    consents = SubjectModelToDataframe(model=model, columns=cols)\n",
    "\n",
    "    # !!! is slow because it gets the encrypted field \"identity\"\n",
    "    df_consent = consents.dataframe\n",
    "    df_consent['consent_datetime'] = to_local_datetime(df_consent['consent_datetime'])\n",
    "    df_consent['dob'] = date_to_local_datetime(df_consent['dob'])"
   ]
  },
  {
   "cell_type": "code",
   "execution_count": 374,
   "metadata": {},
   "outputs": [],
   "source": [
    "# df_consent = df_consent.set_index('subject_identifier')\n",
    "\n",
    "# remove subject identifier as UUID\n",
    "df_consent = df_consent[df_consent['subject_identifier'].str.len() != 32]\n",
    "\n",
    "df_consent = df_consent.sort_values(['subject_identifier', 'consent_datetime'])\n",
    "df_consent = df_consent.drop_duplicates(['subject_identifier'], keep='first')\n",
    "df_consent = df_consent[['subject_identifier', 'gender', 'dob', 'consent_datetime', 'identity', 'identity_type']]"
   ]
  },
  {
   "cell_type": "code",
   "execution_count": 375,
   "metadata": {},
   "outputs": [],
   "source": [
    "# export consents to CSV\n",
    "if not load_consent_from_csv:\n",
    "    timestamp = datetime.today().strftime('%Y%m%d%H%M%S')\n",
    "    df_consent.to_csv(f'~/consent{timestamp}.csv', index=False, date_format=export_date_format, sep=',')"
   ]
  },
  {
   "cell_type": "code",
   "execution_count": 376,
   "metadata": {},
   "outputs": [],
   "source": [
    "# merge to main df\n",
    "df = df.reset_index()\n",
    "df = pd.merge(df, df_consent[['subject_identifier', 'gender', 'dob', 'consent_datetime', 'identity', 'identity_type']],\n",
    "              on='subject_identifier', how='left')"
   ]
  },
  {
   "cell_type": "code",
   "execution_count": 377,
   "metadata": {},
   "outputs": [],
   "source": [
    "# set index for joins with CRFs\n",
    "df = df.set_index('subject_visit_id')"
   ]
  },
  {
   "cell_type": "code",
   "execution_count": 378,
   "metadata": {},
   "outputs": [],
   "source": [
    "# circumcision\n",
    "df_crf = get_crf_dataframe(model='bcpp_subject.circumcision', cols=['circumcised'])\n",
    "\n",
    "# clean up column\n",
    "df_crf['circumcised'] = df_crf.apply(lambda row: get_yesno_etc(row['circumcised']), axis=1)\n",
    "\n",
    "# join to main df\n",
    "df = df.join(df_crf)\n",
    "\n",
    "# show grouping\n",
    "# df.groupby('circumcised').size()"
   ]
  },
  {
   "cell_type": "code",
   "execution_count": 379,
   "metadata": {},
   "outputs": [],
   "source": [
    "# residencymobility\n",
    "df_crf = get_crf_dataframe(model='bcpp_subject.residencymobility', cols=['permanent_resident'])\n",
    "\n",
    "# join to main df\n",
    "df = df.join(df_crf)\n",
    "\n",
    "# show grouping\n",
    "# df.groupby('permanent_resident').size()"
   ]
  },
  {
   "cell_type": "code",
   "execution_count": 380,
   "metadata": {},
   "outputs": [],
   "source": [
    "# subjectrequisition\n",
    "df_crf = get_crf_dataframe(\n",
    "    model='bcpp_subject.subjectrequisition', cols=['panel_name', 'is_drawn', 'drawn_datetime'])\n",
    "df_crf = df_crf[df_crf['panel_name'] == VIRAL_LOAD]\n",
    "df_crf['vl_sample_drawn_date'] = to_local_datetime(df_crf['drawn_datetime'])\n",
    "df_crf = df_crf.rename(columns={'is_drawn': 'vl_sample_drawn'})\n",
    "df_crf = df_crf[['vl_sample_drawn', 'vl_sample_drawn_date']]\n",
    "\n",
    "# join to main df\n",
    "df = df.join(df_crf)\n",
    "\n",
    "# show grouping\n",
    "# df.groupby('vl_sample_drawn').size()"
   ]
  },
  {
   "cell_type": "code",
   "execution_count": 381,
   "metadata": {},
   "outputs": [],
   "source": [
    "# 'bcpp_subject.tbsymptoms'\n",
    "model = 'bcpp_subject.tbsymptoms'\n",
    "cols = ['cough', 'lymph_nodes', 'night_sweat', 'cough_blood', 'weight_loss']\n",
    "df_crf = get_crf_dataframe(model=model, cols=cols)\n",
    "df_crf['tb_symptoms'] = df_crf.apply(lambda row: tb_symptoms(row), axis=1)\n",
    "df_crf = df_crf[['tb_symptoms']]\n",
    "\n",
    "# join to main df\n",
    "df = df.join(df_crf)\n",
    "# show grouping\n",
    "# print(df.groupby('symptoms').size())"
   ]
  },
  {
   "cell_type": "code",
   "execution_count": 382,
   "metadata": {},
   "outputs": [],
   "source": [
    "# 'bcpp_subject.hivcareadherence'\n",
    "model = 'bcpp_subject.hivcareadherence'\n",
    "df_crf = get_crf_dataframe(model=model, cols=['clinic_receiving_from'])\n",
    "df_crf = df_crf.rename(columns={'clinic_receiving_from': 'arv_clinic'})\n",
    "# join to main df\n",
    "df = df.join(df_crf)"
   ]
  },
  {
   "cell_type": "code",
   "execution_count": 383,
   "metadata": {},
   "outputs": [],
   "source": [
    "# 'bcpp_subject.reproductivehealth'\n",
    "model = 'bcpp_subject.reproductivehealth'\n",
    "df_crf = get_crf_dataframe(model=model, cols=['currently_pregnant'])\n",
    "# join to main df\n",
    "df = df.join(df_crf)"
   ]
  },
  {
   "cell_type": "code",
   "execution_count": 384,
   "metadata": {},
   "outputs": [],
   "source": [
    "# 'bcpp_subject.pimacd4'\n",
    "model = 'bcpp_subject.pimacd4'\n",
    "df_crf = get_crf_dataframe(model=model, cols=['result_value', 'result_datetime'])\n",
    "df_crf = df_crf.rename(columns={'result_value': 'cd4_result_value', 'result_datetime': 'cd4_result_datetime'})\n",
    "df_crf['cd4_result_datetime'] = to_local_datetime(df_crf['cd4_result_datetime'])\n",
    "# join to main df\n",
    "df = df.join(df_crf)"
   ]
  },
  {
   "cell_type": "code",
   "execution_count": 385,
   "metadata": {},
   "outputs": [],
   "source": [
    "# add community\n",
    "df['community'] = df.apply(lambda row: row['survey'].split('.')[-1], axis=1)\n",
    "df = df[df['community'] != 'botswana']"
   ]
  },
  {
   "cell_type": "code",
   "execution_count": 386,
   "metadata": {},
   "outputs": [],
   "source": [
    "# add pair\n",
    "pairs = {k: v.pair for k, v in communities.items()}\n",
    "df_pairs = pd.DataFrame.from_dict(pairs, orient='index')\n",
    "df_pairs.reset_index(level=0, inplace=True)\n",
    "df_pairs = df_pairs.rename(columns={'index': 'community', 0: 'pair'})\n",
    "\n",
    "df = pd.merge(df, df_pairs, on='community')"
   ]
  },
  {
   "cell_type": "code",
   "execution_count": 387,
   "metadata": {},
   "outputs": [],
   "source": [
    "# household member\n",
    "model = 'member.householdmember'\n",
    "cols = ['id', 'spouse_of_citizen', 'citizen', 'study_resident']\n",
    "df_members = MemberModelToDataframe(model=model).dataframe\n",
    "df_members = df_members.rename(columns={\n",
    "    'id': 'household_member_id',\n",
    "    'spouse_of_citizen': 'citizen_spouse',\n",
    "    'study_resident': 'part_time_resident'})\n",
    "# df_members = df_members.set_index('household_member_id')\n",
    "df_members['citizen'] = df_members.apply(lambda row: get_yesno_etc(row['citizen']), axis=1)\n",
    "df_members['citizen_spouse'] = df_members.apply(lambda row: get_yesno_etc(row['citizen_spouse']), axis=1)\n",
    "df_members['part_time_resident'] = df_members.apply(lambda row: get_yesno_etc(row['part_time_resident']), axis=1)\n",
    "\n",
    "df = pd.merge(df, df_members, on='household_member_id', how='left')"
   ]
  },
  {
   "cell_type": "code",
   "execution_count": 388,
   "metadata": {},
   "outputs": [],
   "source": [
    "# 'bcpp_status.statushistory'\n",
    "df_status = StatusHistoryModelToDataframe(model='bcpp_status.statushistory').dataframe\n",
    "cols = ['subject_identifier', 'status_date', 'timepoint', 'final_hiv_status', 'final_hiv_status_date', 'final_arv_status', ]\n",
    "df_status = df_status[cols]\n",
    "df_status = df_status.rename(columns={'status_date': 'report_date', 'timepoint': 'visit_code'})\n",
    "df_status['report_date'] = date_to_local_datetime(df_status['report_date'])\n",
    "df_status['final_hiv_status_date'] = date_to_local_datetime(df_status['final_hiv_status_date'])\n",
    "df_status = df_status.groupby(['subject_identifier', 'report_date']).last()\n",
    "df_status = df_status.reset_index()\n",
    "df_status = df_status[['subject_identifier',  'report_date', 'visit_code', 'final_hiv_status', 'final_hiv_status_date', 'final_arv_status']]\n",
    "df = pd.merge(df, df_status, on=['subject_identifier', 'report_date', 'visit_code'], how='left')"
   ]
  },
  {
   "cell_type": "code",
   "execution_count": 389,
   "metadata": {},
   "outputs": [],
   "source": [
    "# remove subjects with missing consent (15 recs)\n",
    "df = df[-df['identity'].isnull()]"
   ]
  },
  {
   "cell_type": "code",
   "execution_count": 391,
   "metadata": {},
   "outputs": [],
   "source": [
    "# set final_arv_status to null for NEGs/UNKs with arv status (13 recs)\n",
    "null_status = (df.final_arv_status.notnull()) & (df.final_hiv_status.isin([NEG, UNK]))\n",
    "df.loc[null_status, 'final_arv_status'] = np.nan"
   ]
  },
  {
   "cell_type": "code",
   "execution_count": 393,
   "metadata": {},
   "outputs": [],
   "source": [
    "timestamp = datetime.today().strftime('%Y%m%d%H%M%S')\n",
    "df.to_csv(f'~/referral{timestamp}.csv', index=False, date_format=export_date_format, sep=delimiter)"
   ]
  },
  {
   "cell_type": "code",
   "execution_count": 398,
   "metadata": {},
   "outputs": [],
   "source": [
    "# df.groupby(['final_hiv_status', 'final_arv_status']).size()"
   ]
  },
  {
   "cell_type": "code",
   "execution_count": 396,
   "metadata": {},
   "outputs": [
    {
     "data": {
      "text/plain": [
       "final_hiv_status\n",
       "NEG    1845\n",
       "POS    2730\n",
       "UNK      73\n",
       "dtype: int64"
      ]
     },
     "execution_count": 396,
     "metadata": {},
     "output_type": "execute_result"
    }
   ],
   "source": [
    "df.groupby(['final_hiv_status']).size()"
   ]
  },
  {
   "cell_type": "code",
   "execution_count": 397,
   "metadata": {},
   "outputs": [
    {
     "data": {
      "text/plain": [
       "final_arv_status\n",
       "NAIVE         269\n",
       "defaulter      17\n",
       "on_art       2442\n",
       "dtype: int64"
      ]
     },
     "execution_count": 397,
     "metadata": {},
     "output_type": "execute_result"
    }
   ],
   "source": [
    "df.groupby(['final_arv_status']).size()"
   ]
  },
  {
   "cell_type": "code",
   "execution_count": 399,
   "metadata": {},
   "outputs": [
    {
     "data": {
      "text/plain": [
       "community\n",
       "bokaa           177\n",
       "lentsweletau    173\n",
       "lerala          237\n",
       "letlhakeng      222\n",
       "maunatlala      649\n",
       "mmadinare       134\n",
       "mmankgodi       918\n",
       "mmathethe       947\n",
       "oodi            123\n",
       "ramokgonami     732\n",
       "sefophe         232\n",
       "shoshong        110\n",
       "dtype: int64"
      ]
     },
     "execution_count": 399,
     "metadata": {},
     "output_type": "execute_result"
    }
   ],
   "source": [
    "df.groupby('community').size()"
   ]
  },
  {
   "cell_type": "code",
   "execution_count": 401,
   "metadata": {},
   "outputs": [
    {
     "data": {
      "text/plain": [
       "pair\n",
       "3     395\n",
       "4     300\n",
       "5    1865\n",
       "6     469\n",
       "7    1381\n",
       "8     244\n",
       "dtype: int64"
      ]
     },
     "execution_count": 401,
     "metadata": {},
     "output_type": "execute_result"
    }
   ],
   "source": [
    "df.groupby('pair').size()"
   ]
  },
  {
   "cell_type": "code",
   "execution_count": 431,
   "metadata": {},
   "outputs": [
    {
     "name": "stdout",
     "output_type": "stream",
     "text": [
      "Files:\n",
      "* ~/referral_bokaa_20170927173600.csv\n",
      "* ~/referral_lentsweletau_20170927173600.csv\n",
      "* ~/referral_lerala_20170927173600.csv\n",
      "* ~/referral_letlhakeng_20170927173600.csv\n",
      "* ~/referral_maunatlala_20170927173600.csv\n",
      "* ~/referral_mmadinare_20170927173600.csv\n",
      "* ~/referral_mmankgodi_20170927173600.csv\n",
      "* ~/referral_mmathethe_20170927173600.csv\n",
      "* ~/referral_oodi_20170927173600.csv\n",
      "* ~/referral_ramokgonami_20170927173600.csv\n",
      "* ~/referral_sefophe_20170927173600.csv\n",
      "* ~/referral_shoshong_20170927173600.csv\n",
      "Date format: %Y-%m-%d\n",
      "Header:\n",
      "subject_identifier|community|arv_clinic|cd4_result_datetime|cd4_result_value|circumcised|citizen|citizen_spouse|consent_datetime|currently_pregnant|dob|final_arv_status|final_hiv_status|final_hiv_status_date|gender|identity|identity_type|pair|part_time_resident|permanent_resident|referral_appt_date|referral_clinic|referral_code|report_date|scheduled_appt_date|subject_referred|tb_symptoms|visit_code|vl_sample_drawn|vl_sample_drawn_date"
     ]
    }
   ],
   "source": [
    "def get_cdc_columns():\n",
    "    columns = list(df.columns)\n",
    "    columns.remove('household_member_id')\n",
    "    columns.remove('consent_version')\n",
    "    columns.remove('survey')\n",
    "    columns.remove('subject_identifier')\n",
    "    columns.remove('community')\n",
    "    columns.sort()\n",
    "    columns.insert(0, 'community')\n",
    "    columns.insert(0, 'subject_identifier')\n",
    "    return columns   \n",
    "\n",
    "    \n",
    "timestamp = datetime.today().strftime('%Y%m%d%H%M%S')\n",
    "if split_csv_by_community:\n",
    "    sys.stdout.write(f'Files:\\n')\n",
    "    for community in df.groupby('community').size().index:\n",
    "        path = f'~/referral_{community}_{timestamp}.csv'\n",
    "        df[df['community'] == community].to_csv(\n",
    "            f'~/referral_{community}_{timestamp}.csv',\n",
    "            columns=get_cdc_columns(),\n",
    "            index=False,\n",
    "            date_format=export_date_format,\n",
    "            sep=delimiter)\n",
    "        sys.stdout.write(f'* {path}\\n')\n",
    "    sys.stdout.write(f'Date format: {export_date_format}')\n",
    "    sys.stdout.write(f'\\nHeader:\\n')\n",
    "    sys.stdout.write(\n",
    "        f'{delimiter}'.join(list(pd.read_csv(path, sep=delimiter).columns)))"
   ]
  },
  {
   "cell_type": "code",
   "execution_count": 424,
   "metadata": {},
   "outputs": [
    {
     "data": {
      "text/plain": [
       "['subject_identifier',\n",
       " 'report_date',\n",
       " 'visit_code',\n",
       " 'consent_version',\n",
       " 'survey',\n",
       " 'household_member_id',\n",
       " 'subject_referred',\n",
       " 'referral_code',\n",
       " 'referral_clinic',\n",
       " 'referral_appt_date',\n",
       " 'scheduled_appt_date',\n",
       " 'gender',\n",
       " 'dob',\n",
       " 'consent_datetime',\n",
       " 'identity',\n",
       " 'identity_type',\n",
       " 'circumcised',\n",
       " 'permanent_resident',\n",
       " 'vl_sample_drawn',\n",
       " 'vl_sample_drawn_date',\n",
       " 'tb_symptoms',\n",
       " 'arv_clinic',\n",
       " 'currently_pregnant',\n",
       " 'cd4_result_value',\n",
       " 'cd4_result_datetime',\n",
       " 'community',\n",
       " 'pair',\n",
       " 'citizen_spouse',\n",
       " 'citizen',\n",
       " 'part_time_resident',\n",
       " 'final_hiv_status',\n",
       " 'final_hiv_status_date',\n",
       " 'final_arv_status']"
      ]
     },
     "execution_count": 424,
     "metadata": {},
     "output_type": "execute_result"
    }
   ],
   "source": [
    "list(df.columns)\n",
    "\n"
   ]
  },
  {
   "cell_type": "code",
   "execution_count": null,
   "metadata": {},
   "outputs": [],
   "source": []
  }
 ],
 "metadata": {
  "kernelspec": {
   "display_name": "Django Shell-Plus",
   "language": "python",
   "name": "django_extensions"
  },
  "language_info": {
   "codemirror_mode": {
    "name": "ipython",
    "version": 3
   },
   "file_extension": ".py",
   "mimetype": "text/x-python",
   "name": "python",
   "nbconvert_exporter": "python",
   "pygments_lexer": "ipython3",
   "version": "3.6.1"
  }
 },
 "nbformat": 4,
 "nbformat_minor": 2
}
