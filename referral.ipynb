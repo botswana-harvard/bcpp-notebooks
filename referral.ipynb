{
 "cells": [
  {
   "cell_type": "code",
   "execution_count": 1,
   "metadata": {},
   "outputs": [],
   "source": [
    "import numpy as np\n",
    "import pandas as pd\n",
    "import sys\n",
    "\n",
    "from arrow import Arrow\n",
    "from bcpp_community import communities\n",
    "from bcpp_status.models import StatusHistory\n",
    "from bcpp_subject.models import SubjectVisit, SubjectConsent\n",
    "from datetime import datetime\n",
    "from django.db import connections\n",
    "from edc_constants.constants import YES, NO, NEG, UNK\n",
    "from edc_pdutils.model_to_dataframe import ModelToDataframe, SubjectModelToDataframe\n",
    "from edc_pdutils.model_to_dataframe import Helper as HelperBase, missing_subject_identifiers\n",
    "from pprint import pprint\n",
    "\n",
    "VIRAL_LOAD = 'Viral Load'\n",
    "start_date = datetime(2017, 1, 1)\n",
    "date_format = '%Y-%m-%d %H:%M:%S.%f'\n",
    "export_date_format = '%Y-%m-%d'\n",
    "local_tz = 'Africa/Gaborone'\n",
    "\n",
    "load_consent_from_csv = True\n",
    "consent_csv_filename = '~/Documents/bcpp/referral/consent20170927142648.csv'\n",
    "split_csv_by_community = True\n",
    "delimiter = '|'"
   ]
  },
  {
   "cell_type": "code",
   "execution_count": 49,
   "metadata": {},
   "outputs": [
    {
     "name": "stdout",
     "output_type": "stream",
     "text": [
      "{'database': 'edc',\n",
      " 'default-character-set': 'utf8',\n",
      " 'host': '127.0.0.1',\n",
      " 'port': '5002',\n",
      " 'user': 'dmc'}\n"
     ]
    }
   ],
   "source": [
    "configfile = connections['default'].__dict__['settings_dict']['OPTIONS']['read_default_file']\n",
    "with open(configfile, 'r') as f:\n",
    "    data = f.read()\n",
    "data = data.split('\\n')\n",
    "values = {}\n",
    "for d in data:\n",
    "    d = d.split('#')[0]\n",
    "    d = d.split('=')\n",
    "    try:\n",
    "        values.update({d[0].strip(): d[1].strip()})\n",
    "    except IndexError:\n",
    "        pass\n",
    "values.pop('password')\n",
    "if values.get('port') != '3306' and values.get('user') == 'root':\n",
    "    raise ValueError(\n",
    "        'Connection to remote DB is with user=root! Use a readonly acccount.')\n",
    "pprint(values)\n",
    "#     if 'password' not in d:\n",
    "#         print(d)\n",
    "#     elif 'root' in d:\n",
    "#         raise ValueError('Connection user=root! Use \\'dmc\\'.')\n",
    "#     else:\n",
    "#         print('password: *******')"
   ]
  },
  {
   "cell_type": "code",
   "execution_count": 2,
   "metadata": {},
   "outputs": [],
   "source": [
    "class MemberModelToDataframe(ModelToDataframe):\n",
    "    columns = {k: k for k in ['id', 'spouse_of_citizen', 'citizen', 'study_resident']}\n",
    "    \n",
    "class StatusHistoryModelToDataframe(ModelToDataframe):\n",
    "    columns = {fld.name: fld.name for fld in StatusHistory._meta.get_fields()}    \n",
    "\n",
    "class LocatorModelToDataframe(ModelToDataframe):\n",
    "    columns = {k: k for k in ['id', 'subject_identifier', 'may_follow_up']}"
   ]
  },
  {
   "cell_type": "code",
   "execution_count": 3,
   "metadata": {},
   "outputs": [],
   "source": [
    "def get_cdc_columns():\n",
    "    \"\"\"Returns a list of column names.\n",
    "    \"\"\"\n",
    "    columns = list(df.columns)\n",
    "    columns.remove('household_member_id')\n",
    "    columns.remove('consent_version')\n",
    "    columns.remove('survey')\n",
    "    columns.remove('subject_identifier')\n",
    "    columns.remove('community')\n",
    "    columns.sort()\n",
    "    columns.insert(0, 'community')\n",
    "    columns.insert(0, 'subject_identifier')\n",
    "    return columns"
   ]
  },
  {
   "cell_type": "code",
   "execution_count": 4,
   "metadata": {},
   "outputs": [],
   "source": [
    "class Helper(HelperBase):\n",
    "\n",
    "    def tb_symptoms(self, row):\n",
    "        \"\"\"Returns a list of tb symptoms joined\n",
    "        by semi-colon.\n",
    "        \"\"\"\n",
    "        symptoms = ['--' for i in range(0,5)]\n",
    "        if row['cough'] == YES:\n",
    "            symptoms[0] = 'cough'\n",
    "        if row['lymph_nodes'] == YES:\n",
    "            symptoms[1] = 'lymph_nodes'\n",
    "        if row['night_sweat'] == YES:\n",
    "            symptoms[2] = 'night_sweat'\n",
    "        if row['cough_blood'] == YES:\n",
    "            symptoms[3] = 'cough_blood'\n",
    "        if row['weight_loss'] == YES:\n",
    "            symptoms[4] = 'weight_loss'\n",
    "        # symptoms.sort()\n",
    "        symptoms = ';'.join(symptoms)\n",
    "        symptoms =  symptoms.replace('--', '')\n",
    "        return np.nan if symptoms == ';;;;' else symptoms"
   ]
  },
  {
   "cell_type": "code",
   "execution_count": 5,
   "metadata": {},
   "outputs": [],
   "source": [
    "helper = Helper(local_tz=local_tz, date_format=date_format)"
   ]
  },
  {
   "cell_type": "code",
   "execution_count": 6,
   "metadata": {},
   "outputs": [],
   "source": [
    "df_subjects = SubjectModelToDataframe(model='bcpp_subject.subjectconsent').dataframe\n",
    "df_subjects = df_subjects.drop_duplicates()\n",
    "# df_subjects.info()"
   ]
  },
  {
   "cell_type": "code",
   "execution_count": 7,
   "metadata": {},
   "outputs": [],
   "source": [
    "# start with subject visit model\n",
    "cols = ['subject_identifier', 'report_date', 'visit_code', 'consent_version', 'survey', 'household_member_id', ]\n",
    "df = ModelToDataframe(model='bcpp_subject.subjectvisit', drop_sys_columns=True).dataframe\n",
    "df = df.rename(columns={'id': 'subject_visit_id'})\n",
    "df = df.set_index('subject_visit_id')\n",
    "df['report_date'] = helper.to_local_datetime(df['report_datetime'])\n",
    "df['report_date'] = df['report_date'].dt.normalize()\n",
    "df = df[cols]\n",
    "df_original = df.copy()\n",
    "\n",
    "# only keep records after start_date\n",
    "df = df[df['report_date'] >= start_date]"
   ]
  },
  {
   "cell_type": "code",
   "execution_count": null,
   "metadata": {},
   "outputs": [],
   "source": [
    "# df_original.groupby('visit_code').size()"
   ]
  },
  {
   "cell_type": "code",
   "execution_count": null,
   "metadata": {},
   "outputs": [],
   "source": [
    "# df.groupby('visit_code').size()"
   ]
  },
  {
   "cell_type": "code",
   "execution_count": null,
   "metadata": {},
   "outputs": [],
   "source": [
    "# unique list of all know subject identifiers\n",
    "total_subject_identifiers = df_original['subject_identifier']\n",
    "total_subject_identifiers = total_subject_identifiers.drop_duplicates()\n",
    "subject_identifiers = df['subject_identifier']\n",
    "subject_identifiers = subject_identifiers.drop_duplicates()\n",
    "# assert len(subject_identifiers) == len(df['subject_identifier'])\n",
    "print(f'There are {len(subject_identifiers)}/{len(total_subject_identifiers)} subject identifiers were reported on after {start_date}.')"
   ]
  },
  {
   "cell_type": "code",
   "execution_count": null,
   "metadata": {},
   "outputs": [],
   "source": [
    "# Validate all subject identifiers from subject_visit are in registered subject\n",
    "# find_missing_subject_identifiers(\n",
    "#     model='edc_registration.registeredsubject', subject_identifiers=subject_identifiers)"
   ]
  },
  {
   "cell_type": "code",
   "execution_count": null,
   "metadata": {},
   "outputs": [],
   "source": [
    "# Validate all subject identifiers from subject_visit are in subject consent\n",
    "# find_missing_subject_identifiers(\n",
    "#     model='bcpp_subject.subjectconsent', subject_identifiers=subject_identifiers)"
   ]
  },
  {
   "cell_type": "code",
   "execution_count": null,
   "metadata": {},
   "outputs": [],
   "source": [
    "model = 'bcpp_subject.subjectreferral'\n",
    "cols = ['subject_referred', 'referral_code', 'referral_clinic', 'referral_appt_date', 'scheduled_appt_date']\n",
    "df_crf = helper.get_crf_dataframe(model=model, cols=cols)\n",
    "df_crf = df_crf[df_crf['referral_code'] != 'not_referred']\n",
    "\n",
    "# remove not referred and pending\n",
    "df_pending = df_crf[(df_crf['referral_code'] == 'pending') & (df_crf['subject_referred'].isin([NO, 'refused']))]\n",
    "df_crf = df_crf.drop(df_pending.index, axis=0)\n",
    "\n",
    "# localize dates and datetimes\n",
    "df_crf['referral_appt_date'] = helper.to_local_datetime(df_crf['referral_appt_date'])\n",
    "df_crf['scheduled_appt_date'] = helper.date_to_local_datetime(df_crf['scheduled_appt_date'])\n",
    "\n",
    "# replace referral_appt_date with scheduled_appt_date if scheduled_appt_date\n",
    "df_crf['referral_appt_date'] = df_crf.apply(\n",
    "    lambda row: row['scheduled_appt_date']\n",
    "        if pd.notnull(row['scheduled_appt_date']) else row['referral_appt_date'], axis=1)\n",
    "# join to main df\n",
    "df = df.join(df_crf)\n",
    "# filter out those not referred\n",
    "df = df[-df['subject_referred'].isnull()]\n",
    "# df.head()"
   ]
  },
  {
   "cell_type": "code",
   "execution_count": null,
   "metadata": {},
   "outputs": [],
   "source": [
    "# import subject consent model\n",
    "if load_consent_from_csv:\n",
    "    df_consent = pd.read_csv(consent_csv_filename)\n",
    "    df_consent['consent_datetime'] = helper.date_to_local_datetime(df_consent['consent_datetime'])\n",
    "    df_consent['dob'] = helper.date_to_local_datetime(df_consent['dob'])\n",
    "else:\n",
    "    # is slow because it gets the encrypted field \"identity\"\n",
    "    model = 'bcpp_subject.subjectconsent'\n",
    "    cols = ['subject_identifier', 'gender', 'dob', 'consent_datetime', 'version', 'identity', 'identity_type']\n",
    "    # query_filter = {'consent_datetime__gte': Arrow.fromdatetime(start_date).datetime}\n",
    "    consents = SubjectModelToDataframe(model=model, columns=cols)\n",
    "\n",
    "    # !!! is slow because it gets the encrypted field \"identity\"\n",
    "    df_consent = consents.dataframe\n",
    "    df_consent['consent_datetime'] = helper.to_local_datetime(df_consent['consent_datetime'])\n",
    "    df_consent['dob'] = helper.date_to_local_datetime(df_consent['dob'])"
   ]
  },
  {
   "cell_type": "code",
   "execution_count": null,
   "metadata": {},
   "outputs": [],
   "source": [
    "# df_consent = df_consent.set_index('subject_identifier')\n",
    "\n",
    "# remove subject identifier as UUID\n",
    "df_consent = df_consent[df_consent['subject_identifier'].str.len() != 32]\n",
    "\n",
    "df_consent = df_consent.sort_values(['subject_identifier', 'consent_datetime'])\n",
    "df_consent = df_consent.drop_duplicates(['subject_identifier'], keep='first')\n",
    "df_consent = df_consent[['subject_identifier', 'gender', 'dob', 'consent_datetime', 'identity', 'identity_type']]"
   ]
  },
  {
   "cell_type": "code",
   "execution_count": null,
   "metadata": {},
   "outputs": [],
   "source": [
    "# export consents to CSV\n",
    "if not load_consent_from_csv:\n",
    "    timestamp = datetime.today().strftime('%Y%m%d%H%M%S')\n",
    "    df_consent.to_csv(f'~/consent{timestamp}.csv', index=False, date_format=export_date_format, sep=',')"
   ]
  },
  {
   "cell_type": "code",
   "execution_count": null,
   "metadata": {},
   "outputs": [],
   "source": [
    "# merge to main df\n",
    "df = df.reset_index()\n",
    "df = pd.merge(df, df_consent[['subject_identifier', 'gender', 'dob', 'consent_datetime', 'identity', 'identity_type']],\n",
    "              on='subject_identifier', how='left')"
   ]
  },
  {
   "cell_type": "code",
   "execution_count": null,
   "metadata": {},
   "outputs": [],
   "source": [
    "# set index for joins with CRFs\n",
    "df = df.set_index('subject_visit_id')"
   ]
  },
  {
   "cell_type": "code",
   "execution_count": null,
   "metadata": {},
   "outputs": [],
   "source": [
    "# circumcision\n",
    "df_crf = helper.get_crf_dataframe(\n",
    "    model='bcpp_subject.circumcision', cols=['circumcised'])\n",
    "\n",
    "# clean up column\n",
    "df_crf['circumcised'] = df_crf.apply(\n",
    "    lambda row: helper.get_yesno_etc(row['circumcised']), axis=1)\n",
    "\n",
    "# join to main df\n",
    "df = df.join(df_crf)\n",
    "\n",
    "# show grouping\n",
    "# df.groupby('circumcised').size()"
   ]
  },
  {
   "cell_type": "code",
   "execution_count": null,
   "metadata": {},
   "outputs": [],
   "source": [
    "# residencymobility\n",
    "df_crf = helper.get_crf_dataframe(\n",
    "    model='bcpp_subject.residencymobility', cols=['permanent_resident'])\n",
    "\n",
    "# join to main df\n",
    "df = df.join(df_crf)\n",
    "\n",
    "# show grouping\n",
    "# df.groupby('permanent_resident').size()"
   ]
  },
  {
   "cell_type": "code",
   "execution_count": null,
   "metadata": {},
   "outputs": [],
   "source": [
    "# subjectrequisition\n",
    "df_crf = helper.get_crf_dataframe(\n",
    "    model='bcpp_subject.subjectrequisition', cols=['panel_name', 'is_drawn', 'drawn_datetime'])\n",
    "df_crf = df_crf[df_crf['panel_name'] == VIRAL_LOAD]\n",
    "df_crf['vl_sample_drawn_date'] = helper.to_local_datetime(df_crf['drawn_datetime'])\n",
    "df_crf = df_crf.rename(columns={'is_drawn': 'vl_sample_drawn'})\n",
    "df_crf = df_crf[['vl_sample_drawn', 'vl_sample_drawn_date']]\n",
    "\n",
    "# join to main df\n",
    "df = df.join(df_crf)\n",
    "\n",
    "# show grouping\n",
    "# df.groupby('vl_sample_drawn').size()"
   ]
  },
  {
   "cell_type": "code",
   "execution_count": null,
   "metadata": {},
   "outputs": [],
   "source": [
    "# 'bcpp_subject.tbsymptoms'\n",
    "model = 'bcpp_subject.tbsymptoms'\n",
    "cols = ['cough', 'lymph_nodes', 'night_sweat', 'cough_blood', 'weight_loss']\n",
    "df_crf = helper.get_crf_dataframe(model=model, cols=cols)\n",
    "df_crf['tb_symptoms'] = df_crf.apply(lambda row: tb_symptoms(row), axis=1)\n",
    "df_crf = df_crf[['tb_symptoms']]\n",
    "\n",
    "# join to main df\n",
    "df = df.join(df_crf)\n",
    "# show grouping\n",
    "# print(df.groupby('symptoms').size())"
   ]
  },
  {
   "cell_type": "code",
   "execution_count": null,
   "metadata": {},
   "outputs": [],
   "source": [
    "# 'bcpp_subject.hivcareadherence'\n",
    "model = 'bcpp_subject.hivcareadherence'\n",
    "df_crf = helper.get_crf_dataframe(model=model, cols=['clinic_receiving_from'])\n",
    "df_crf = df_crf.rename(columns={'clinic_receiving_from': 'arv_clinic'})\n",
    "# join to main df\n",
    "df = df.join(df_crf)"
   ]
  },
  {
   "cell_type": "code",
   "execution_count": null,
   "metadata": {},
   "outputs": [],
   "source": [
    "# 'bcpp_subject.reproductivehealth'\n",
    "model = 'bcpp_subject.reproductivehealth'\n",
    "df_crf = helper.get_crf_dataframe(model=model, cols=['currently_pregnant'])\n",
    "# join to main df\n",
    "df = df.join(df_crf)"
   ]
  },
  {
   "cell_type": "code",
   "execution_count": null,
   "metadata": {},
   "outputs": [],
   "source": [
    "# 'bcpp_subject.pimacd4'\n",
    "model = 'bcpp_subject.pimacd4'\n",
    "df_crf = helper.get_crf_dataframe(\n",
    "    model=model, cols=['result_value', 'result_datetime'])\n",
    "df_crf = df_crf.rename(\n",
    "    columns={'result_value': 'cd4_result_value', 'result_datetime': 'cd4_result_datetime'})\n",
    "df_crf['cd4_result_datetime'] = helper.to_local_datetime(df_crf['cd4_result_datetime'])\n",
    "# join to main df\n",
    "df = df.join(df_crf)"
   ]
  },
  {
   "cell_type": "code",
   "execution_count": null,
   "metadata": {},
   "outputs": [],
   "source": [
    "# add community\n",
    "df['community'] = df.apply(lambda row: row['survey'].split('.')[-1], axis=1)\n",
    "df = df[df['community'] != 'botswana']"
   ]
  },
  {
   "cell_type": "code",
   "execution_count": null,
   "metadata": {},
   "outputs": [],
   "source": [
    "# add pair\n",
    "pairs = {k: v.pair for k, v in communities.items()}\n",
    "df_pairs = pd.DataFrame.from_dict(pairs, orient='index')\n",
    "df_pairs.reset_index(level=0, inplace=True)\n",
    "df_pairs = df_pairs.rename(columns={'index': 'community', 0: 'pair'})\n",
    "\n",
    "df = pd.merge(df, df_pairs, on='community')"
   ]
  },
  {
   "cell_type": "code",
   "execution_count": null,
   "metadata": {},
   "outputs": [],
   "source": [
    "# household member\n",
    "model = 'member.householdmember'\n",
    "cols = ['id', 'spouse_of_citizen', 'citizen', 'study_resident']\n",
    "df_members = MemberModelToDataframe(model=model).dataframe\n",
    "df_members = df_members.rename(columns={\n",
    "    'id': 'household_member_id',\n",
    "    'spouse_of_citizen': 'citizen_spouse',\n",
    "    'study_resident': 'part_time_resident'})\n",
    "# df_members = df_members.set_index('household_member_id')\n",
    "df_members['citizen'] = df_members.apply(\n",
    "    lambda row: helper.get_yesno_etc(row['citizen']), axis=1)\n",
    "df_members['citizen_spouse'] = df_members.apply(\n",
    "    lambda row: helper.get_yesno_etc(row['citizen_spouse']), axis=1)\n",
    "df_members['part_time_resident'] = df_members.apply(\n",
    "    lambda row: helper.get_yesno_etc(row['part_time_resident']), axis=1)\n",
    "\n",
    "df = pd.merge(df, df_members, on='household_member_id', how='left')"
   ]
  },
  {
   "cell_type": "code",
   "execution_count": null,
   "metadata": {},
   "outputs": [],
   "source": [
    "# 'bcpp_status.statushistory'\n",
    "df_status = StatusHistoryModelToDataframe(model='bcpp_status.statushistory').dataframe\n",
    "cols = ['subject_identifier', 'status_date', 'timepoint', 'final_hiv_status', 'final_hiv_status_date', 'final_arv_status', ]\n",
    "df_status = df_status[cols]\n",
    "df_status = df_status.rename(\n",
    "    columns={'status_date': 'report_date', 'timepoint': 'visit_code'})\n",
    "df_status['report_date'] = helper.date_to_local_datetime(df_status['report_date'])\n",
    "df_status['final_hiv_status_date'] = helper.date_to_local_datetime(df_status['final_hiv_status_date'])\n",
    "df_status = df_status.groupby(['subject_identifier', 'report_date']).last()\n",
    "df_status = df_status.reset_index()\n",
    "df_status = df_status[['subject_identifier',  'report_date', 'visit_code', 'final_hiv_status', 'final_hiv_status_date', 'final_arv_status']]\n",
    "df = pd.merge(df, df_status, on=['subject_identifier', 'report_date', 'visit_code'], how='left')"
   ]
  },
  {
   "cell_type": "code",
   "execution_count": null,
   "metadata": {},
   "outputs": [],
   "source": [
    "# remove subjects with missing consent (15 recs)\n",
    "df = df[-df['identity'].isnull()]"
   ]
  },
  {
   "cell_type": "code",
   "execution_count": null,
   "metadata": {},
   "outputs": [],
   "source": [
    "# set final_arv_status to null for NEGs/UNKs with arv status (13 recs)\n",
    "null_status = (df.final_arv_status.notnull()) & (df.final_hiv_status.isin([NEG, UNK]))\n",
    "df.loc[null_status, 'final_arv_status'] = np.nan"
   ]
  },
  {
   "cell_type": "code",
   "execution_count": null,
   "metadata": {},
   "outputs": [],
   "source": [
    "# export to CSV as a single file\n",
    "timestamp = datetime.today().strftime('%Y%m%d%H%M%S')\n",
    "path = f'~/referral_{timestamp}.csv'\n",
    "df.to_csv(path, index=False, date_format=export_date_format, sep=delimiter)\n",
    "sys.stdout.write(f'* {path}\\n')"
   ]
  },
  {
   "cell_type": "code",
   "execution_count": null,
   "metadata": {},
   "outputs": [],
   "source": [
    "# Write a CSV file for each community\n",
    "if split_csv_by_community:\n",
    "    timestamp = datetime.today().strftime('%Y%m%d%H%M%S')\n",
    "    sys.stdout.write(f'Files:\\n')\n",
    "    for community in df.groupby('community').size().index:\n",
    "        path = f'~/referral_{community}_{timestamp}.csv'\n",
    "        df[df['community'] == community].to_csv(\n",
    "            f'~/referral_{community}_{timestamp}.csv',\n",
    "            columns=get_cdc_columns(),\n",
    "            index=False,\n",
    "            date_format=export_date_format,\n",
    "            sep=delimiter)\n",
    "        sys.stdout.write(f'* {path}\\n')\n",
    "    sys.stdout.write(f'Date format: {export_date_format}')\n",
    "    sys.stdout.write(f'\\nHeader:\\n')\n",
    "    sys.stdout.write(\n",
    "        f'{delimiter}'.join(list(pd.read_csv(path, sep=delimiter).columns)))"
   ]
  },
  {
   "cell_type": "code",
   "execution_count": null,
   "metadata": {},
   "outputs": [],
   "source": [
    "df.groupby(['final_hiv_status']).size()"
   ]
  },
  {
   "cell_type": "code",
   "execution_count": null,
   "metadata": {},
   "outputs": [],
   "source": [
    "df.groupby(['final_arv_status']).size()"
   ]
  },
  {
   "cell_type": "code",
   "execution_count": null,
   "metadata": {},
   "outputs": [],
   "source": [
    "df.groupby('community').size()"
   ]
  },
  {
   "cell_type": "code",
   "execution_count": null,
   "metadata": {},
   "outputs": [],
   "source": [
    "df.groupby('pair').size()"
   ]
  }
 ],
 "metadata": {
  "kernelspec": {
   "display_name": "Django Shell-Plus",
   "language": "python",
   "name": "django_extensions"
  },
  "language_info": {
   "codemirror_mode": {
    "name": "ipython",
    "version": 3
   },
   "file_extension": ".py",
   "mimetype": "text/x-python",
   "name": "python",
   "nbconvert_exporter": "python",
   "pygments_lexer": "ipython3",
   "version": "3.6.1"
  }
 },
 "nbformat": 4,
 "nbformat_minor": 2
}
