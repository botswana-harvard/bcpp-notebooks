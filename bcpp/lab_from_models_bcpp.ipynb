{
 "cells": [
  {
   "cell_type": "markdown",
   "metadata": {},
   "source": [
    "# Generate BCPP requisition and aliquot datasets\n",
    "\n",
    "This notebook creates two files:\n",
    "1. `lab_requisition_{timestamp}.csv`\n",
    "2. `lab_aliquot_{timestamp}.csv`\n",
    "\n",
    "## Usage:\n",
    "\n",
    "* Run the notebook server in a valid BCPP VENV\n",
    "* Start the `jupyter notebook` server in the root of the main project (e.g. bcpp/) or, if the main project is part of the VENV, from any folder with this notebook file.\n",
    "* the database connection is that configured in `bcpp.settings.py`. To change this, create your own `settings.py` and specify with `manage.py`'s `--settings` option.\n",
    "* start the server using:\n",
    "\n",
    "        python manage.py shell_plus --notebook --settings=bcpp.settings\n",
    "        \n",
    "## Tunnel to DB\n",
    "\n",
    "Open a tunnel to the live DB:\n",
    "\n",
    "    ssh -f <user>@<server> -L5002:localhost:3306 -N\n",
    "\n",
    "Change the mysql settings (e.g. in your `/etc/bcpp/mysql.conf`):\n",
    "\n",
    "    port: 5002\n",
    "    name: <database name>\n",
    "    user: <readonly user>\n",
    "    password: <password>\n",
    "    \n"
   ]
  },
  {
   "cell_type": "code",
   "execution_count": null,
   "metadata": {},
   "outputs": [],
   "source": [
    "import numpy as np\n",
    "import os\n",
    "import pandas as pd\n",
    "import sys\n",
    "\n",
    "\n",
    "from arrow import Arrow\n",
    "from bcpp_community import communities\n",
    "from bcpp_status.models import StatusHistory\n",
    "from bcpp_subject.models import SubjectVisit, SubjectConsent\n",
    "from copy import copy\n",
    "from datetime import datetime\n",
    "from django.db import connection\n",
    "from edc_constants.constants import YES, NO, NEG, UNK\n",
    "from edc_pdutils.model_to_dataframe import ModelToDataframe, SubjectModelToDataframe, Helper\n",
    "from pprint import pprint\n",
    "from edc_base.constants import DEFAULT_BASE_FIELDS\n",
    "from edc_lab.model_mixins.requisition import RequisitionStatusMixin\n",
    "\n",
    "date_format = '%Y-%m-%d %H:%M:%S.%f'\n",
    "export_date_format = '%Y-%m-%d'\n",
    "local_tz = 'Africa/Gaborone'\n",
    "yes_no = {True: YES, False: NO}\n",
    "timestamp = datetime.today().strftime('%Y%m%d%H%M%S')\n",
    "\n",
    "export_path = '~/Documents/bcpp/moyo/'\n",
    "export_path = os.path.expanduser(export_path)\n",
    "\n",
    "delimiter = ',' # '|'\n",
    "start_date = datetime(2013, 10, 1)\n",
    "\n"
   ]
  },
  {
   "cell_type": "code",
   "execution_count": null,
   "metadata": {},
   "outputs": [],
   "source": [
    "class StatusHistoryModelToDataframe(ModelToDataframe):\n",
    "    columns = {fld.name: fld.name for fld in StatusHistory._meta.get_fields()}    "
   ]
  },
  {
   "cell_type": "code",
   "execution_count": null,
   "metadata": {},
   "outputs": [],
   "source": [
    "helper = Helper()"
   ]
  },
  {
   "cell_type": "code",
   "execution_count": null,
   "metadata": {},
   "outputs": [],
   "source": [
    "df_subjects = SubjectModelToDataframe(model='bcpp_subject.subjectconsent').dataframe\n",
    "df_subjects = df_subjects.drop_duplicates()\n",
    "# df_subjects.info()"
   ]
  },
  {
   "cell_type": "code",
   "execution_count": null,
   "metadata": {},
   "outputs": [],
   "source": [
    "df_subjects.head()"
   ]
  },
  {
   "cell_type": "code",
   "execution_count": null,
   "metadata": {},
   "outputs": [],
   "source": [
    "# start with subject visit model\n",
    "cols = ['subject_identifier', 'report_date', 'visit_code', 'consent_version', 'survey', 'household_member_id', ]\n",
    "df = ModelToDataframe(model='bcpp_subject.subjectvisit', drop_sys_columns=True).dataframe\n",
    "df = df.rename(columns={'id': 'subject_visit_id'})\n",
    "df = df.set_index('subject_visit_id')\n",
    "df['report_date'] = helper.to_local_datetime(df['report_datetime'])\n",
    "df['report_date'] = df['report_date'].dt.normalize()\n",
    "df = df[cols]\n",
    "df_original = df.copy()\n",
    "\n",
    "# only keep records after start_date\n",
    "# df = df[df['report_date'] >= start_date]"
   ]
  },
  {
   "cell_type": "code",
   "execution_count": null,
   "metadata": {},
   "outputs": [],
   "source": [
    "# subjectconsent\n",
    "model = 'bcpp_subject.subjectconsent'\n",
    "cols = ['subject_identifier', 'gender', 'dob', 'consent_datetime', 'version']\n",
    "df_consent = SubjectModelToDataframe(model=model, columns=cols).dataframe\n",
    "df_consent['consent_datetime'] = helper.to_local_datetime(df_consent['consent_datetime'])\n",
    "df_consent['dob'] = helper.date_to_local_datetime(df_consent['dob'])\n",
    "\n",
    "# remove subject identifier as UUID\n",
    "df_consent = df_consent[df_consent['subject_identifier'].str.len() != 32]\n",
    "\n",
    "# drop duplicates (because of versions)\n",
    "df_consent = df_consent.sort_values(['subject_identifier'])\n",
    "df_consent = df_consent.drop_duplicates(['subject_identifier'], keep='first')\n",
    "df_consent = df_consent[['subject_identifier', 'gender', 'dob']]"
   ]
  },
  {
   "cell_type": "code",
   "execution_count": null,
   "metadata": {},
   "outputs": [],
   "source": [
    "# merge subjectconsent to main df\n",
    "df = df.reset_index()\n",
    "df = pd.merge(df, df_consent, on='subject_identifier', how='left')"
   ]
  },
  {
   "cell_type": "code",
   "execution_count": null,
   "metadata": {},
   "outputs": [],
   "source": [
    "# set index for joins with CRFs\n",
    "df = df.set_index('subject_visit_id')"
   ]
  },
  {
   "cell_type": "code",
   "execution_count": null,
   "metadata": {},
   "outputs": [],
   "source": [
    "# subjectrequisition\n",
    "status_cols = [f.name for f in RequisitionStatusMixin._meta.get_fields()\n",
    "               if f not in ['processed_datetime', 'packed_datetime', 'shipped_datetime']]\n",
    "cols = ['requisition_identifier', 'panel_name', 'requisition_datetime', 'is_drawn', 'reason_not_drawn',\n",
    "        'drawn_datetime', 'specimen_type', 'study_site', 'study_site_name']\n",
    "cols.extend([f.name for f in RequisitionStatusMixin._meta.get_fields()])\n",
    "df_crf = helper.get_crf_dataframe(\n",
    "    model='bcpp_subject.subjectrequisition', cols=cols)\n",
    "df_crf['requisition_datetime'] = helper.to_local_datetime(df_crf['requisition_datetime'])\n",
    "df_crf['drawn_datetime'] = helper.to_local_datetime(df_crf['drawn_datetime'])\n",
    "df_crf['received_datetime'] = helper.to_local_datetime(df_crf['received_datetime'])\n",
    "df_crf['received'] = df_crf['received'].map(yes_no, na_action='ignore')\n",
    "df_crf['processed'] = df_crf['processed'].map(yes_no, na_action='ignore')\n",
    "df_crf['packed'] = df_crf['packed'].map(yes_no, na_action='ignore')\n",
    "df_crf['shipped'] = df_crf['shipped'].map(yes_no, na_action='ignore')\n",
    "\n",
    "# join to main df\n",
    "df = df.join(df_crf)\n",
    "\n",
    "# show grouping\n",
    "# df.groupby('circumcised').size()"
   ]
  },
  {
   "cell_type": "code",
   "execution_count": null,
   "metadata": {},
   "outputs": [],
   "source": [
    "df.head()"
   ]
  },
  {
   "cell_type": "code",
   "execution_count": null,
   "metadata": {},
   "outputs": [],
   "source": [
    "df.groupby('panel_name').size()"
   ]
  },
  {
   "cell_type": "code",
   "execution_count": null,
   "metadata": {},
   "outputs": [],
   "source": [
    "# 'bcpp_status.statushistory'\n",
    "df_status = StatusHistoryModelToDataframe(model='bcpp_status.statushistory').dataframe\n",
    "cols = ['subject_identifier', 'status_date', 'timepoint', 'final_hiv_status', 'final_hiv_status_date', 'final_arv_status', ]\n",
    "df_status = df_status[cols]\n",
    "df_status = df_status.rename(columns={'status_date': 'report_date', 'timepoint': 'visit_code'})\n",
    "df_status['report_date'] = helper.date_to_local_datetime(df_status['report_date'])\n",
    "df_status['final_hiv_status_date'] = helper.date_to_local_datetime(df_status['final_hiv_status_date'])\n",
    "df_status = df_status.groupby(['subject_identifier', 'report_date']).last()\n",
    "df_status = df_status.reset_index()\n",
    "df_status = df_status[['subject_identifier',  'report_date', 'visit_code', 'final_hiv_status', 'final_hiv_status_date', 'final_arv_status']]\n",
    "df = pd.merge(df, df_status, on=['subject_identifier', 'report_date', 'visit_code'], how='left')\n"
   ]
  },
  {
   "cell_type": "code",
   "execution_count": null,
   "metadata": {},
   "outputs": [],
   "source": [
    "# remove invalid sites\n",
    "df = df[-df['study_site_name'].isin(['bhp', 'test_community'])]\n",
    "df = df.drop(['specimen_type', 'household_member_id', 'final_hiv_status', 'final_hiv_status_date', 'final_arv_status'], axis=1)"
   ]
  },
  {
   "cell_type": "code",
   "execution_count": null,
   "metadata": {},
   "outputs": [],
   "source": [
    "# fix reason_not_drawn\n",
    "is_blank = (df.reason_not_drawn.notnull()) & (df.is_drawn == YES)\n",
    "df.loc[is_blank, 'reason_not_drawn'] = np.nan"
   ]
  },
  {
   "cell_type": "code",
   "execution_count": null,
   "metadata": {},
   "outputs": [],
   "source": [
    "df.head()"
   ]
  },
  {
   "cell_type": "code",
   "execution_count": null,
   "metadata": {},
   "outputs": [],
   "source": [
    "# export requisitions to CSV as a single file\n",
    "path = os.path.join(export_path, f'lab_requisitions_{timestamp}.csv')\n",
    "df.to_csv(path, index=True, date_format=export_date_format, sep=delimiter)\n",
    "sys.stdout.write(f'* {path}\\n')"
   ]
  },
  {
   "cell_type": "code",
   "execution_count": null,
   "metadata": {},
   "outputs": [],
   "source": [
    "# df.groupby('study_site_name').size()\n",
    "# df.groupby('is_drawn').size()\n",
    "# df.groupby('panel_name').size()\n",
    "# df.groupby('visit_code').size()\n",
    "# df.groupby('survey').size()\n",
    "# df.groupby('gender').size()\n",
    "# print(df['report_date'].min())\n",
    "# print(df['report_date'].max())\n",
    "# print(df['drawn_datetime'].min())\n",
    "# print(df['drawn_datetime'].max())\n",
    "# print(df['requisition_datetime'].min())\n",
    "# print(df['requisition_datetime'].max())\n",
    "# print(df['dob'].min())\n",
    "# print(df['dob'].max())\n"
   ]
  },
  {
   "cell_type": "code",
   "execution_count": null,
   "metadata": {},
   "outputs": [],
   "source": [
    "model = 'edc_lab.aliquot'\n",
    "cols = None\n",
    "df_aliquot = ModelToDataframe(model=model).dataframe\n",
    "df_aliquot['aliquot_datetime'] = helper.to_local_datetime(df_aliquot['aliquot_datetime'])"
   ]
  },
  {
   "cell_type": "code",
   "execution_count": null,
   "metadata": {},
   "outputs": [],
   "source": [
    "# df_aliquot.groupby('hostname_created').size()"
   ]
  },
  {
   "cell_type": "code",
   "execution_count": null,
   "metadata": {},
   "outputs": [],
   "source": [
    "# drop sys and other unwanted columns\n",
    "base_cols = copy(DEFAULT_BASE_FIELDS)\n",
    "base_cols.pop(base_cols.index('hostname_created'))\n",
    "base_cols\n",
    "# columns = DEFAULT_BASE_FIELDS + ['slug', 'comment', 'shipped']\n",
    "# df_aliquot = df_aliquot.drop(columns, axis=1)"
   ]
  },
  {
   "cell_type": "code",
   "execution_count": null,
   "metadata": {},
   "outputs": [],
   "source": [
    "df_aliquot['is_primary'] = df_aliquot['is_primary'].map(yes_no, na_action='ignore')\n",
    "df_aliquot['medium'] = df_aliquot['medium'].str.lower()"
   ]
  },
  {
   "cell_type": "code",
   "execution_count": null,
   "metadata": {},
   "outputs": [],
   "source": [
    "# add column to indicate missing requisitions\n",
    "cols = ['requisition_identifier',\n",
    "        'panel_name', 'requisition_datetime',\n",
    "        'gender', 'dob', 'study_site', 'study_site_name']\n",
    "df1 = pd.merge(df_aliquot, df[cols],\n",
    "               on='requisition_identifier', how='left')\n",
    "df_aliquot['missing_requisition'] = df1['panel_name'].isnull()\n",
    "df_aliquot['is_primary'] = df_aliquot['is_primary'].map(yes_no, na_action='ignore')\n",
    "df_aliquot.head()\n",
    "df_aliquot.info()"
   ]
  },
  {
   "cell_type": "code",
   "execution_count": null,
   "metadata": {},
   "outputs": [],
   "source": [
    "# export aliquots to CSV as a single file\n",
    "path = path = os.path.join(export_path, f'lab_aliquots_{timestamp}.csv')\n",
    "df_aliquot.to_csv(path, index=True, date_format=export_date_format, sep=delimiter)\n",
    "sys.stdout.write(f'* {path}\\n')"
   ]
  },
  {
   "cell_type": "code",
   "execution_count": null,
   "metadata": {},
   "outputs": [],
   "source": [
    "# show some stats\n",
    "print(df_aliquot.groupby('medium').size())\n",
    "print('---')\n",
    "\n",
    "print(df_aliquot.groupby('aliquot_type').size())\n",
    "print('---')\n",
    "\n",
    "print(df_aliquot.groupby('alpha_code').size())\n",
    "print('---')\n",
    "\n",
    "print(df_aliquot.groupby('numeric_code').size())\n",
    "print('---')\n",
    "\n",
    "print(df_aliquot.groupby('condition').size())\n",
    "print('---')\n",
    "\n",
    "print(df_aliquot.groupby('missing_requisition').size())\n",
    "print('---')"
   ]
  },
  {
   "cell_type": "markdown",
   "metadata": {},
   "source": [
    "### Missing requisitions"
   ]
  },
  {
   "cell_type": "code",
   "execution_count": null,
   "metadata": {},
   "outputs": [],
   "source": [
    "df1 = df_aliquot[df_aliquot['missing_requisition']]\n",
    "df1 = df1.sort_values(['aliquot_datetime'])"
   ]
  },
  {
   "cell_type": "code",
   "execution_count": null,
   "metadata": {},
   "outputs": [],
   "source": [
    "df1.groupby(['hostname_created', 'device_created']).size()"
   ]
  },
  {
   "cell_type": "code",
   "execution_count": null,
   "metadata": {},
   "outputs": [],
   "source": [
    "df1[['requisition_identifier']].drop_duplicates()\n"
   ]
  },
  {
   "cell_type": "code",
   "execution_count": null,
   "metadata": {},
   "outputs": [],
   "source": [
    "cols = ['subject_identifier', 'aliquot_identifier', 'requisition_identifier', 'created',\n",
    "        'device_created', 'hostname_created']\n",
    "df1[cols].to_csv(os.path.join(export_path, 'missing_requisition_{timestamp}.csv'))"
   ]
  },
  {
   "cell_type": "code",
   "execution_count": null,
   "metadata": {},
   "outputs": [],
   "source": []
  }
 ],
 "metadata": {
  "kernelspec": {
   "display_name": "Django Shell-Plus",
   "language": "python",
   "name": "django_extensions"
  },
  "language_info": {
   "codemirror_mode": {
    "name": "ipython",
    "version": 3
   },
   "file_extension": ".py",
   "mimetype": "text/x-python",
   "name": "python",
   "nbconvert_exporter": "python",
   "pygments_lexer": "ipython3",
   "version": "3.6.1"
  }
 },
 "nbformat": 4,
 "nbformat_minor": 2
}
