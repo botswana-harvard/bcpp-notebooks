{
 "cells": [
  {
   "cell_type": "markdown",
   "metadata": {},
   "source": [
    "## Members and HouseholdStructure\n",
    "\n",
    "1. This notebook reads CSV files\n",
    "2. It does not need the complete bcpp ENV.\n",
    "\n",
    "\n",
    "### Problem: \n",
    "When filtering members on  `bcpp-year-1`; that is `survey_schedule='bcpp-year-1'`, too many members are returned (expected 20174).\n",
    "\n",
    "How was the original member dataset for bcpp-year-1 filtered?\n",
    "\n",
    "households = 11582\n",
    "members = 20174"
   ]
  },
  {
   "cell_type": "code",
   "execution_count": 186,
   "metadata": {},
   "outputs": [],
   "source": [
    "expected_members = 20174"
   ]
  },
  {
   "cell_type": "code",
   "execution_count": 187,
   "metadata": {},
   "outputs": [],
   "source": [
    "path = os.path.expanduser('~/Documents/bcpp')\n",
    "member_csv = 'members_20171016.csv'\n",
    "household_structure_csv = 'householdstructure_20171016.csv'"
   ]
  },
  {
   "cell_type": "code",
   "execution_count": 188,
   "metadata": {},
   "outputs": [],
   "source": [
    "import numpy as np\n",
    "import pandas as pd\n",
    "import os\n",
    "\n",
    "from arrow import Arrow\n",
    "from datetime import datetime\n",
    "from django.db import connection\n",
    "from edc_constants.constants import YES, NO, NEG, UNK\n",
    "from pprint import pprint"
   ]
  },
  {
   "cell_type": "code",
   "execution_count": 189,
   "metadata": {},
   "outputs": [],
   "source": [
    "def survey_year(row):\n",
    "    value = row['survey_schedule']\n",
    "    if pd.notnull(value):\n",
    "        print(value)\n",
    "        return value.split('.')[1][0]\n",
    "    return value"
   ]
  },
  {
   "cell_type": "code",
   "execution_count": 190,
   "metadata": {},
   "outputs": [],
   "source": [
    "df_member = pd.read_csv(os.path.join(path, member_csv))\n",
    "df_household_structure = pd.read_csv(os.path.join(path, household_structure_csv))"
   ]
  },
  {
   "cell_type": "code",
   "execution_count": 191,
   "metadata": {},
   "outputs": [],
   "source": [
    "# df_member.head()"
   ]
  },
  {
   "cell_type": "code",
   "execution_count": 192,
   "metadata": {},
   "outputs": [],
   "source": [
    "# df_household_structure.head()"
   ]
  },
  {
   "cell_type": "markdown",
   "metadata": {},
   "source": [
    "Create new column `survey_year` on both dataframes by spliting `survey_schedule`"
   ]
  },
  {
   "cell_type": "code",
   "execution_count": 193,
   "metadata": {},
   "outputs": [],
   "source": [
    "# print(list(df_member.columns))\n",
    "df_household_structure['survey_year'] = df_household_structure.apply(\n",
    "    lambda row: row['survey_schedule'].split('.')[1], axis=1)\n",
    "df_member['survey_year'] = df_member.apply(\n",
    "    lambda row: row['survey_schedule'].split('.')[1], axis=1)"
   ]
  },
  {
   "cell_type": "markdown",
   "metadata": {},
   "source": [
    "filtering on `bcpp-year-1` members (`survey_year='bcpp-year-1'`) returns too many members"
   ]
  },
  {
   "cell_type": "code",
   "execution_count": 194,
   "metadata": {},
   "outputs": [
    {
     "name": "stdout",
     "output_type": "stream",
     "text": [
      "32113 == 20174 is False.\n"
     ]
    }
   ],
   "source": [
    "count = len(df_member[df_member['survey_year'] == 'bcpp-year-1'])\n",
    "print(f\"{count} == {expected_members} is {count == expected_members}.\")"
   ]
  },
  {
   "cell_type": "markdown",
   "metadata": {},
   "source": [
    "Create new column `survey_community` on both dataframes by spliting `survey_schedule`"
   ]
  },
  {
   "cell_type": "code",
   "execution_count": 195,
   "metadata": {},
   "outputs": [],
   "source": [
    "df_household_structure['survey_community'] = df_household_structure.apply(\n",
    "    lambda row: row['survey_schedule'].split('.')[2], axis=1)\n",
    "df_member['survey_community'] = df_member.apply(\n",
    "    lambda row: row['survey_schedule'].split('.')[2], axis=1)"
   ]
  },
  {
   "cell_type": "markdown",
   "metadata": {},
   "source": [
    "Are the values of `survey_schedule` on household_structure inconsistent with `survey_schedule` on member?\n",
    "\n",
    "Merge members with household_structure on the foreign key; `'household_structure_id'='id'`"
   ]
  },
  {
   "cell_type": "code",
   "execution_count": 196,
   "metadata": {},
   "outputs": [],
   "source": [
    "df = pd.merge(\n",
    "    df_member, df_household_structure,\n",
    "    left_on='household_structure_id', right_on='id', how='left', suffixes=['_mem', '_hhs'])"
   ]
  },
  {
   "cell_type": "markdown",
   "metadata": {},
   "source": [
    "Show survey_year is the same for each member regardless"
   ]
  },
  {
   "cell_type": "code",
   "execution_count": 197,
   "metadata": {},
   "outputs": [
    {
     "name": "stdout",
     "output_type": "stream",
     "text": [
      "True. survey_year is consistent between models\n"
     ]
    }
   ],
   "source": [
    "value = len(df[df['survey_year_mem'] != df['survey_year_hhs']]) == 0\n",
    "if value:\n",
    "    print(f'{value}. survey_year is consistent between models')\n",
    "else:\n",
    "    print(f'{value}. survey_year is NOT consistent between models!')"
   ]
  },
  {
   "cell_type": "code",
   "execution_count": 198,
   "metadata": {},
   "outputs": [
    {
     "name": "stdout",
     "output_type": "stream",
     "text": [
      "Add present_today in ['Yes', 'No'] ...\n"
     ]
    },
    {
     "data": {
      "text/plain": [
       "present_today\n",
       "No      7256\n",
       "Yes    20949\n",
       "dtype: int64"
      ]
     },
     "execution_count": 198,
     "metadata": {},
     "output_type": "execute_result"
    }
   ],
   "source": [
    "# show if present_today was possibly used to filter\n",
    "# df_member[(df['survey_year_mem'] == 'bcpp-year-1')\n",
    "#           & (pd.isnull(df['cloned_datetime']))\n",
    "#           & (df['present_today'].isin(['Yes', 'No']))        \n",
    "#          ].info()\n",
    "\n",
    "print('Add present_today in [\\'Yes\\', \\'No\\'] ...')\n",
    "df_member[(df['survey_year_mem'] == 'bcpp-year-1')\n",
    "          & (pd.isnull(df['cloned_datetime']))\n",
    "          & (df['present_today'].isin(['Yes', 'No']))        \n",
    "         ].groupby('present_today').size()\n",
    "\n"
   ]
  },
  {
   "cell_type": "code",
   "execution_count": 200,
   "metadata": {},
   "outputs": [
    {
     "name": "stdout",
     "output_type": "stream",
     "text": [
      "Add subject_identifier as a filter (startswith '066') ...\n",
      "12902\n",
      "This many were excluded ...\n",
      "3435\n",
      "Show min max created dates ...\n",
      "2013-10-30 16:57:04.000000\n",
      "2015-11-24 17:43:43.000000\n"
     ]
    }
   ],
   "source": [
    "print('Add subject_identifier as a filter (startswith \\'066\\') ...')\n",
    "print(len(df_member[(df['survey_year_mem'] == 'bcpp-year-1')\n",
    "          & (pd.isnull(df['cloned_datetime']))\n",
    "          & (df['present_today'].isin(['Yes', 'No']))        \n",
    "          & (df['subject_identifier'].str.startswith('066'))\n",
    "         ]))\n",
    "\n",
    "print('This many were excluded ...')\n",
    "print(len(df_member[(df['survey_year_mem'] == 'bcpp-year-1')\n",
    "          & (pd.isnull(df['cloned_datetime']))\n",
    "          & (pd.isnull(df['present_today']))\n",
    "          & (df['subject_identifier'].str.startswith('066'))\n",
    "         ]))\n",
    "\n",
    "print('Show min max created dates ...')\n",
    "print(df_member[(df['survey_year_mem'] == 'bcpp-year-1')\n",
    "          & (pd.isnull(df['cloned_datetime']))\n",
    "          & (df['present_today'].isin(['Yes', 'No']))        \n",
    "          & (df['subject_identifier'].str.startswith('066'))\n",
    "         ]['created'].min())\n",
    "print(df_member[(df['survey_year_mem'] == 'bcpp-year-1')\n",
    "          & (pd.isnull(df['cloned_datetime']))\n",
    "          & (df['present_today'].isin(['Yes', 'No']))        \n",
    "          & (df['subject_identifier'].str.startswith('066'))\n",
    "         ]['created'].max())"
   ]
  },
  {
   "cell_type": "markdown",
   "metadata": {},
   "source": [
    "Merge with subject consent"
   ]
  },
  {
   "cell_type": "code",
   "execution_count": null,
   "metadata": {},
   "outputs": [],
   "source": []
  }
 ],
 "metadata": {
  "kernelspec": {
   "display_name": "Django Shell-Plus",
   "language": "python",
   "name": "django_extensions"
  },
  "language_info": {
   "codemirror_mode": {
    "name": "ipython",
    "version": 3
   },
   "file_extension": ".py",
   "mimetype": "text/x-python",
   "name": "python",
   "nbconvert_exporter": "python",
   "pygments_lexer": "ipython3",
   "version": "3.6.1"
  }
 },
 "nbformat": 4,
 "nbformat_minor": 2
}
