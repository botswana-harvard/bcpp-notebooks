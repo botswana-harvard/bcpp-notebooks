{
 "cells": [
  {
   "cell_type": "markdown",
   "metadata": {},
   "source": [
    "# Export CRF data as CSV\n",
    "\n",
    "\n",
    "## Connect to live / remote DB\n",
    "To connect to the live database, open a tunnel, for example:\n",
    "\n",
    "    ssh -f <username>@<live_server> -L5001:localhost:3306 -N\n",
    "    \n",
    "Change the PORT in `settings.py`.\n"
   ]
  },
  {
   "cell_type": "code",
   "execution_count": null,
   "metadata": {},
   "outputs": [],
   "source": [
    "import os\n",
    "import pandas as pd\n",
    "\n",
    "from edc_pdutils.csv_exporters import CsvCrfTablesExporter\n",
    "from td_export.csv_exporters import CsvMaternalCrfTablesExporter\n",
    "from td_export.csv_exporters import CsvInfantCrfTablesExporter, CsvNonCrfTablesExporter\n",
    "\n",
    "path = '/Users/erikvw/Documents/tshilo-dikotla/data'"
   ]
  },
  {
   "cell_type": "markdown",
   "metadata": {},
   "source": [
    "### Export maternal CRFs"
   ]
  },
  {
   "cell_type": "code",
   "execution_count": null,
   "metadata": {},
   "outputs": [],
   "source": [
    "maternal_path = os.path.join(path, 'maternal')\n",
    "exporter = CsvMaternalCrfTablesExporter()\n",
    "exporter.to_csv(export_folder=maternal_path)"
   ]
  },
  {
   "cell_type": "markdown",
   "metadata": {},
   "source": [
    "### Export infant CRFs"
   ]
  },
  {
   "cell_type": "code",
   "execution_count": null,
   "metadata": {},
   "outputs": [],
   "source": [
    "infant_path = os.path.join(path, 'infant')\n",
    "exporter = CsvInfantCrfTablesExporter()\n",
    "exporter.to_csv(export_folder=infant_path)"
   ]
  },
  {
   "cell_type": "markdown",
   "metadata": {},
   "source": [
    "### Export tshilo-dikgotla non-crf tables with `registered_subject_id`"
   ]
  },
  {
   "cell_type": "code",
   "execution_count": 2,
   "metadata": {},
   "outputs": [
    {
     "name": "stderr",
     "output_type": "stream",
     "text": [
      "/Users/erikvw/.venvs/edc-export/lib/python3.6/site-packages/pandas/core/frame.py:2754: SettingWithCopyWarning: \n",
      "A value is trying to be set on a copy of a slice from a DataFrame\n",
      "\n",
      "See the caveats in the documentation: http://pandas.pydata.org/pandas-docs/stable/indexing.html#indexing-view-versus-copy\n",
      "  downcast=downcast, **kwargs)\n"
     ]
    },
    {
     "name": "stdout",
     "output_type": "stream",
     "text": [
      "td_infant_infantbirth\r",
      "( ) td_infant_infantbirth ...     \r",
      "(*) td_infant_infantbirth 157       \n",
      "td_infant_infantdeathreport\r",
      "( ) td_infant_infantdeathreport ...     \r",
      "(*) td_infant_infantdeathreport 2       \n"
     ]
    },
    {
     "name": "stderr",
     "output_type": "stream",
     "text": [
      "/Users/erikvw/source/edc-pdutils/edc_pdutils/column_handlers/column_apply.py:17: SettingWithCopyWarning: \n",
      "A value is trying to be set on a copy of a slice from a DataFrame.\n",
      "Try using .loc[row_indexer,col_indexer] = value instead\n",
      "\n",
      "See the caveats in the documentation: http://pandas.pydata.org/pandas-docs/stable/indexing.html#indexing-view-versus-copy\n",
      "  self.apply)\n"
     ]
    },
    {
     "name": "stdout",
     "output_type": "stream",
     "text": [
      "(*) td_lab_receive 2435       \n",
      "(*) td_maternal_antenatalenrollment 322       \n",
      "(*) td_maternal_antenatalvisitmembership 243       \n",
      "(*) td_maternal_maternalcontact 1853       \n",
      "(*) td_maternal_maternaleligibility 324       \n",
      "(*) td_maternal_maternallabourdel 162       \n",
      "(*) td_maternal_maternallocator 315       \n",
      "(*) td_maternal_specimenconsent 324       \n"
     ]
    }
   ],
   "source": [
    "non_crf_path = os.path.join(path, 'non_crf')\n",
    "exporter = CsvNonCrfTablesExporter(\n",
    "    with_columns=['registered_subject_id'], exclude_history_tables=True, exclude_hints=['td_lab'])\n",
    "exporter.to_csv(export_folder=non_crf_path)\n"
   ]
  },
  {
   "cell_type": "markdown",
   "metadata": {},
   "source": [
    "### Export data from LIS"
   ]
  },
  {
   "cell_type": "code",
   "execution_count": 5,
   "metadata": {},
   "outputs": [
    {
     "data": {
      "text/plain": [
       "['is', 'erik']"
      ]
     },
     "execution_count": 5,
     "metadata": {},
     "output_type": "execute_result"
    }
   ],
   "source": [
    "# export from LIS\n",
    "names = []\n",
    "for a in ['is', 'erik']:\n",
    "    for name in ['erik', 'is', 'a',  'bonehead']:\n",
    "        if a in name:\n",
    "            names.append(name)\n",
    "names"
   ]
  },
  {
   "cell_type": "code",
   "execution_count": null,
   "metadata": {},
   "outputs": [],
   "source": []
  }
 ],
 "metadata": {
  "kernelspec": {
   "display_name": "Django Shell-Plus",
   "language": "python",
   "name": "django_extensions"
  },
  "language_info": {
   "codemirror_mode": {
    "name": "ipython",
    "version": 3
   },
   "file_extension": ".py",
   "mimetype": "text/x-python",
   "name": "python",
   "nbconvert_exporter": "python",
   "pygments_lexer": "ipython3",
   "version": "3.6.1"
  }
 },
 "nbformat": 4,
 "nbformat_minor": 2
}
