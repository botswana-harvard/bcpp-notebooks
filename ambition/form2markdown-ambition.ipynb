{
 "cells": [
  {
   "cell_type": "markdown",
   "metadata": {},
   "source": [
    "# Creating a Forms Reference markdown file.\n",
    "\n",
    "This notebook show how to create a Forms Reference markdown document using `edc_forms_describer`.\n",
    "\n",
    "`edc_forms_describer` has two classes:\n",
    "    \n",
    "    * `FormDescriber`: describes a single form in markdown\n",
    "    * `FormsReference`: describes all forms in a list of schedules in markdown."
   ]
  },
  {
   "cell_type": "code",
   "execution_count": null,
   "metadata": {},
   "outputs": [],
   "source": [
    "from edc_form_describer import FormDescriber, FormsReference\n",
    "from IPython.display import Markdown, display\n",
    "from pprint import pprint"
   ]
  },
  {
   "cell_type": "code",
   "execution_count": null,
   "metadata": {},
   "outputs": [],
   "source": [
    "from ambition_visit_schedule.visit_schedules import visit_schedule1\n",
    "from ambition_subject.admin_site import ambition_subject_admin"
   ]
  },
  {
   "cell_type": "markdown",
   "metadata": {},
   "source": [
    "To create a single document for all forms use `FormsReference`. With `FormsReference` you specify a list of visit schedules. The schedules will be inspected for the crf models and requisition panel names. Each model's admin class will be used to render a form reference.\n",
    "\n",
    "> Note: If a model is not registered in the Admin site, it will not be included."
   ]
  },
  {
   "cell_type": "code",
   "execution_count": null,
   "metadata": {},
   "outputs": [],
   "source": [
    "forms_reference = FormsReference(\n",
    "    visit_schedules=[visit_schedule1],\n",
    "    admin_site=ambition_subject_admin,\n",
    "    title='Ambition Forms Reference')"
   ]
  },
  {
   "cell_type": "markdown",
   "metadata": {},
   "source": [
    "Now write the entire set of forms to a markdown file.\n",
    "\n",
    "> Note: you can convert markdown to .html using Sublime Text or a number of other utils"
   ]
  },
  {
   "cell_type": "code",
   "execution_count": null,
   "metadata": {},
   "outputs": [],
   "source": [
    "forms_reference.to_file(path='ambition_forms_latest.md', exists_ok=True)"
   ]
  },
  {
   "cell_type": "code",
   "execution_count": null,
   "metadata": {},
   "outputs": [],
   "source": []
  },
  {
   "cell_type": "code",
   "execution_count": null,
   "metadata": {},
   "outputs": [],
   "source": []
  }
 ],
 "metadata": {
  "kernelspec": {
   "display_name": "Django Shell-Plus",
   "language": "python",
   "name": "django_extensions"
  },
  "language_info": {
   "codemirror_mode": {
    "name": "ipython",
    "version": 3
   },
   "file_extension": ".py",
   "mimetype": "text/x-python",
   "name": "python",
   "nbconvert_exporter": "python",
   "pygments_lexer": "ipython3",
   "version": "3.6.1"
  }
 },
 "nbformat": 4,
 "nbformat_minor": 2
}
