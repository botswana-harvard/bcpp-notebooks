{
 "cells": [
  {
   "cell_type": "code",
   "execution_count": 47,
   "metadata": {},
   "outputs": [],
   "source": [
    "import numpy as np\n",
    "import pandas as pd\n",
    "import sys\n",
    "\n",
    "from arrow import Arrow\n",
    "from bcpp_community import communities\n",
    "from bcpp_status.models import StatusHistory\n",
    "from bcpp_subject.models import SubjectVisit, SubjectConsent, HivCareAdherence\n",
    "from datetime import datetime\n",
    "from django.db import connection\n",
    "from edc_constants.constants import YES, NO, NEG, UNK\n",
    "from edc_pdutils.model_to_dataframe import ModelToDataframe\n",
    "from pprint import pprint\n",
    "from math import floor\n",
    "from bcpp_subject.admin import HivCareAdherenceAdmin\n",
    "from edc_base.model_mixins.constants import DEFAULT_BASE_FIELDS\n",
    "from IPython.display import Markdown, display\n"
   ]
  },
  {
   "cell_type": "code",
   "execution_count": 48,
   "metadata": {},
   "outputs": [],
   "source": [
    "include_hidden_fields = False"
   ]
  },
  {
   "cell_type": "code",
   "execution_count": 49,
   "metadata": {},
   "outputs": [],
   "source": [
    "def printmd(string):\n",
    "    display(Markdown(string))"
   ]
  },
  {
   "cell_type": "code",
   "execution_count": 50,
   "metadata": {},
   "outputs": [],
   "source": [
    "class FormDescriber:\n",
    "\n",
    "    def __init__(self, admin_cls=None, include_hidden_fields=None):\n",
    "        self.lines = []\n",
    "        self.admin_cls = admin_cls\n",
    "        self.model_cls = admin_cls.form._meta.model\n",
    "        self.models_fields = {fld.name: fld for fld in self.model_cls._meta.get_fields()}\n",
    "        self.describe()\n",
    "        if include_hidden_fields:\n",
    "            self.add_hidden_fields()\n",
    "\n",
    "    def describe(self):\n",
    "        \"\"\"Appends all form features to a list `lines`.\n",
    "        \"\"\"\n",
    "        number = 0.0\n",
    "        self.lines.append(f'## {self.model_cls._meta.verbose_name}')\n",
    "        self.lines.append(self.model_cls.__doc__)\n",
    "        self.lines.append(f'*Instructions*: {describer.admin_cls.instructions}\\n')\n",
    "        self.lines.append(f'*Additional instructions*: {describer.admin_cls.additional_instructions}\\n')\n",
    "\n",
    "        for fieldset_name, fields in self.admin_cls.fieldsets:\n",
    "            if fieldset_name not in ['Audit']:\n",
    "                fieldset_name = fieldset_name or 'Main'\n",
    "                self.lines.append(f'\\n**Section: {fieldset_name}**')\n",
    "                for fnames in fields.values():\n",
    "                    for fname in fnames:\n",
    "                        if fname not in DEFAULT_BASE_FIELDS:\n",
    "                            number = self.get_next_number(number, fname)\n",
    "                            self.add_field(fname=fname, number=number)\n",
    "\n",
    "\n",
    "    def add_foreign_keys(self):\n",
    "        self.lines.append(f'\\n**Foreign keys:**')\n",
    "\n",
    "    def add_m2ms(self):\n",
    "        self.lines.append(f'\\n**Many2Many keys:**')\n",
    "        \n",
    "    def add_hidden_fields(self):\n",
    "        self.lines.append(f'\\n**Hidden fields:**')\n",
    "        self.add_field(fname='report_datetime')\n",
    "        base_fields = DEFAULT_BASE_FIELDS\n",
    "        base_fields.sort()\n",
    "        for fname in base_fields:\n",
    "            self.add_field(fname=fname)\n",
    "            \n",
    "    def add_field(self, fname=None, number=None):\n",
    "        number = number or '@'\n",
    "        field_cls = self.models_fields.get(fname)\n",
    "        self.lines.append(f'\\n**{number}.** {field_cls.verbose_name}')\n",
    "        if field_cls.help_text:\n",
    "            self.lines.append(f'\\n&nbsp;&nbsp;&nbsp;&nbsp; *{field_cls.help_text}*')\n",
    "        self.lines.append(f'* db_table: {self.model_cls._meta.db_table}')\n",
    "        self.lines.append(f'* column: {field_cls.name}')\n",
    "        self.lines.append(f'* type: {field_cls.get_internal_type()}')\n",
    "        if field_cls.max_length: \n",
    "            self.lines.append(f'* length: {field_cls.max_length}')\n",
    "        if field_cls.get_internal_type() == 'DateField':\n",
    "            self.lines.append(f'* format: YYYY-MM-DD')\n",
    "        if field_cls.get_internal_type() == 'DateTimeField':\n",
    "            self.lines.append(f'* format: YYYY-MM-DD HH:MM:SS.sss (tz=UTC)')\n",
    "        self.add_field_responses(field_cls=field_cls)\n",
    "        self.lines.append('---')\n",
    "        \n",
    "        \n",
    "    def add_field_responses(self, field_cls=None):\n",
    "        if field_cls.get_internal_type() == 'CharField':\n",
    "            if field_cls.choices:\n",
    "                self.lines.append(f'* responses:')\n",
    "                for response in [f'`{tpl[0]}`: *{tpl[1]}*' for tpl in field_cls.choices]:\n",
    "                    self.lines.append(f'  - {response} ')\n",
    "            else:\n",
    "                self.lines.append('* responses: *free text*')\n",
    "        elif field_cls.get_internal_type() == 'ManyToManyField':\n",
    "            self.lines.append('* responses: *Select all that apply*')\n",
    "            for obj in field_cls.related_model.objects.all().order_by('display_index'):\n",
    "                self.lines.append(f'  - `{obj.short_name}`: *{obj.name}* ')\n",
    "    \n",
    "    def get_next_number(self, number=None, fname=None):\n",
    "        if '_other' in fname:\n",
    "            number += 0.1\n",
    "        else:\n",
    "            number = floor(number)\n",
    "            number += 1.0\n",
    "        return number\n"
   ]
  },
  {
   "cell_type": "code",
   "execution_count": 51,
   "metadata": {},
   "outputs": [],
   "source": [
    "# call main class. \n",
    "describer = FormDescriber(\n",
    "    admin_cls=HivCareAdherenceAdmin,\n",
    "    include_hidden_fields=include_hidden_fields)\n",
    "\n",
    "# add document title\n",
    "describer.lines.insert(0, f'# Forms')\n",
    "\n",
    "# add footer showing render datetime\n",
    "timestamp = datetime.today().strftime('%Y-%m-%d %H:%M')\n",
    "describer.lines.insert(len(describer.lines) - 1, f'\\n\\n*Rendered on {timestamp}*\\n')"
   ]
  },
  {
   "cell_type": "code",
   "execution_count": 52,
   "metadata": {},
   "outputs": [],
   "source": [
    "text = '\\n'.join(describer.lines)\n",
    "# display(Markdown(text))\n",
    "filename = f'forms_latest.md'\n",
    "with open(filename, 'w') as f:\n",
    "    f.write(text)"
   ]
  },
  {
   "cell_type": "code",
   "execution_count": 53,
   "metadata": {},
   "outputs": [],
   "source": [
    "# add rules related to this model\n",
    "# rules that this form triggers\n",
    "\n",
    "# rules that target this form\n"
   ]
  },
  {
   "cell_type": "code",
   "execution_count": 54,
   "metadata": {},
   "outputs": [],
   "source": [
    "# validation\n"
   ]
  }
 ],
 "metadata": {
  "kernelspec": {
   "display_name": "Django Shell-Plus",
   "language": "python",
   "name": "django_extensions"
  },
  "language_info": {
   "codemirror_mode": {
    "name": "ipython",
    "version": 3
   },
   "file_extension": ".py",
   "mimetype": "text/x-python",
   "name": "python",
   "nbconvert_exporter": "python",
   "pygments_lexer": "ipython3",
   "version": "3.6.1"
  }
 },
 "nbformat": 4,
 "nbformat_minor": 2
}
