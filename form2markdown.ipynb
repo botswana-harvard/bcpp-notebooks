{
 "cells": [
  {
   "cell_type": "markdown",
   "metadata": {},
   "source": [
    "# Creating a Forms Reference markdown file.\n",
    "\n",
    "This notebook show how to create a Forms Reference markdown document using `edc_forms_describer`.\n",
    "\n",
    "`edc_forms_describer` has two classes:\n",
    "    \n",
    "    * `FormDescriber`: describes a single form in markdown\n",
    "    * `FormsReference`: describes all forms in a list of schedules in markdown."
   ]
  },
  {
   "cell_type": "code",
   "execution_count": null,
   "metadata": {},
   "outputs": [],
   "source": [
    "from bcpp_subject.admin import HivCareAdherenceAdmin, CircumcisionAdmin, DemographicsAdmin\n",
    "from edc_form_describer import FormDescriber, FormsReference\n",
    "from IPython.display import Markdown, display\n",
    "from pprint import pprint\n",
    "from bcpp_visit_schedule.visit_schedule import visit_schedule_ahs, visit_schedule_ess\n",
    "from bcpp_subject.admin_site import bcpp_subject_admin"
   ]
  },
  {
   "cell_type": "markdown",
   "metadata": {},
   "source": [
    "In this example we use modules from the BCPP project.\n",
    "\n",
    "> Note: The notebook should be loaded in a VENV that is set up to load the BCPP project."
   ]
  },
  {
   "cell_type": "markdown",
   "metadata": {},
   "source": [
    "To create a reference for just one form, instantiate `FormDescriber` for given admin class."
   ]
  },
  {
   "cell_type": "code",
   "execution_count": null,
   "metadata": {},
   "outputs": [],
   "source": [
    "describer = FormDescriber(\n",
    "    admin_cls=HivCareAdherenceAdmin,\n",
    "    include_hidden_fields=False)"
   ]
  },
  {
   "cell_type": "markdown",
   "metadata": {},
   "source": [
    "... and display the markdown as a string"
   ]
  },
  {
   "cell_type": "code",
   "execution_count": null,
   "metadata": {},
   "outputs": [],
   "source": [
    "markdown = describer.to_markdown(title='Forms', add_timestamp=True)\n",
    "# display(Markdown(markdown))"
   ]
  },
  {
   "cell_type": "markdown",
   "metadata": {},
   "source": [
    "... or export to a markdown file (.md)."
   ]
  },
  {
   "cell_type": "code",
   "execution_count": null,
   "metadata": {},
   "outputs": [],
   "source": [
    "describer.to_file(path='forms_latest.md', title='Forms', add_timestamp=True)"
   ]
  },
  {
   "cell_type": "markdown",
   "metadata": {},
   "source": [
    "You can also specify a visit code for admin classes using conditional features:"
   ]
  },
  {
   "cell_type": "code",
   "execution_count": null,
   "metadata": {},
   "outputs": [],
   "source": [
    "# specify a visit code for admin classes using conditional features\n",
    "describer = FormDescriber(\n",
    "    admin_cls=DemographicsAdmin,\n",
    "    include_hidden_fields=include_hidden_fields,\n",
    "    visit_code='E0')"
   ]
  },
  {
   "cell_type": "markdown",
   "metadata": {},
   "source": [
    "To create a single document for all forms use `FormsReference`. With `FormsReference` you specify a list of visit schedules. The schedules will be inspected for the crf models and requisition panel names. Each model's admin class will be used to render a form reference.\n",
    "\n",
    "> Note: If a model is not registered in the Admin site, it will not be included."
   ]
  },
  {
   "cell_type": "code",
   "execution_count": null,
   "metadata": {},
   "outputs": [],
   "source": [
    "forms_reference = FormsReference(\n",
    "    schedules=[visit_schedule_ahs, visit_schedule_ess],\n",
    "    admin_site=bcpp_subject_admin,\n",
    "    title='BCPP Forms Reference')"
   ]
  },
  {
   "cell_type": "markdown",
   "metadata": {},
   "source": [
    "Now write the entire set of forms to a markdown file.\n",
    "\n",
    "> Note: you can convert markdown to .html using Sublime Text or a number of other utils"
   ]
  },
  {
   "cell_type": "code",
   "execution_count": null,
   "metadata": {},
   "outputs": [],
   "source": [
    "forms_reference.to_file(path='forms_latest.md', exists_ok=True)"
   ]
  }
 ],
 "metadata": {
  "kernelspec": {
   "display_name": "Django Shell-Plus",
   "language": "python",
   "name": "django_extensions"
  },
  "language_info": {
   "codemirror_mode": {
    "name": "ipython",
    "version": 3
   },
   "file_extension": ".py",
   "mimetype": "text/x-python",
   "name": "python",
   "nbconvert_exporter": "python",
   "pygments_lexer": "ipython3",
   "version": "3.6.1"
  }
 },
 "nbformat": 4,
 "nbformat_minor": 2
}
