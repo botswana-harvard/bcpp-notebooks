{
 "cells": [
  {
   "cell_type": "code",
   "execution_count": null,
   "metadata": {},
   "outputs": [],
   "source": [
    "import numpy as np\n",
    "import pandas as pd\n",
    "\n",
    "from arrow import Arrow\n",
    "from bcpp_community import communities\n",
    "from bcpp_status.models import StatusHistory\n",
    "from bcpp_subject.models import SubjectVisit, SubjectConsent\n",
    "from datetime import datetime\n",
    "from django.db import connection\n",
    "from edc_constants.constants import YES, NO, NEG, UNK\n",
    "from edc_pdutils.model_to_dataframe import ModelToDataframe\n",
    "from pprint import pprint\n",
    "\n",
    "from member.models import AbsentMember"
   ]
  },
  {
   "cell_type": "code",
   "execution_count": null,
   "metadata": {},
   "outputs": [],
   "source": [
    "class SubjectModelToDataframe(ModelToDataframe):\n",
    "    \n",
    "    columns = {k: k for k in ['subject_identifier', 'gender']}\n",
    "    \n",
    "    def __init__(self, columns=None, **kwargs):\n",
    "        if columns:\n",
    "            self.columns = {k: k for k in columns}\n",
    "        super().__init__(**kwargs)"
   ]
  },
  {
   "cell_type": "code",
   "execution_count": null,
   "metadata": {},
   "outputs": [],
   "source": [
    "df_absent = ModelToDataframe(model='member.absentmember', drop_sys_columns=True).dataframe"
   ]
  },
  {
   "cell_type": "code",
   "execution_count": null,
   "metadata": {},
   "outputs": [],
   "source": [
    "df_absent.groupby('reason').size()"
   ]
  },
  {
   "cell_type": "code",
   "execution_count": null,
   "metadata": {},
   "outputs": [],
   "source": [
    "df_absent[df_absent['reason'] == 'OTHER'].groupby('reason_other').size()"
   ]
  },
  {
   "cell_type": "code",
   "execution_count": null,
   "metadata": {},
   "outputs": [],
   "source": [
    "# Load the table\n",
    "df_refused = ModelToDataframe(model='member.refusedmember', drop_sys_columns=True).dataframe"
   ]
  },
  {
   "cell_type": "code",
   "execution_count": null,
   "metadata": {},
   "outputs": [],
   "source": [
    "# Group by reason\n",
    "df_refused.groupby('reason').size()"
   ]
  },
  {
   "cell_type": "code",
   "execution_count": null,
   "metadata": {},
   "outputs": [],
   "source": [
    "# Group by reason_other for those where reason = OTHER\n",
    "df_refused[df_refused['reason'] == 'OTHER'].groupby('reason_other').size()"
   ]
  },
  {
   "cell_type": "code",
   "execution_count": null,
   "metadata": {},
   "outputs": [],
   "source": [
    "# absent_reason is not none\n",
    "cols = ['subject_identifier', 'internal_identifier', 'absent', 'refused', 'undecided']\n",
    "df_member = SubjectModelToDataframe(model='member.householdmember', columns=cols).dataframe"
   ]
  },
  {
   "cell_type": "code",
   "execution_count": null,
   "metadata": {},
   "outputs": [],
   "source": [
    "df_member.groupby(['absent', 'refused', 'undecided']).size()"
   ]
  },
  {
   "cell_type": "code",
   "execution_count": null,
   "metadata": {},
   "outputs": [],
   "source": []
  }
 ],
 "metadata": {
  "kernelspec": {
   "display_name": "Django Shell-Plus",
   "language": "python",
   "name": "django_extensions"
  },
  "language_info": {
   "codemirror_mode": {
    "name": "ipython",
    "version": 3
   },
   "file_extension": ".py",
   "mimetype": "text/x-python",
   "name": "python",
   "nbconvert_exporter": "python",
   "pygments_lexer": "ipython3",
   "version": "3.6.1"
  }
 },
 "nbformat": 4,
 "nbformat_minor": 2
}
