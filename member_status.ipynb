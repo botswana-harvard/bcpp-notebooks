{
 "cells": [
  {
   "cell_type": "code",
   "execution_count": 1,
   "metadata": {},
   "outputs": [],
   "source": [
    "import numpy as np\n",
    "import pandas as pd\n",
    "\n",
    "from arrow import Arrow\n",
    "from bcpp_community import communities\n",
    "from bcpp_status.models import StatusHistory\n",
    "from bcpp_subject.models import SubjectVisit, SubjectConsent\n",
    "from datetime import datetime\n",
    "from django.db import connection\n",
    "from edc_constants.constants import YES, NO, NEG, UNK\n",
    "from edc_pdutils.model_to_dataframe import ModelToDataframe\n",
    "from pprint import pprint\n",
    "\n",
    "from member.models import AbsentMember"
   ]
  },
  {
   "cell_type": "code",
   "execution_count": 2,
   "metadata": {},
   "outputs": [],
   "source": [
    "class SubjectModelToDataframe(ModelToDataframe):\n",
    "    \n",
    "    columns = {k: k for k in ['subject_identifier', 'gender']}\n",
    "    \n",
    "    def __init__(self, columns=None, **kwargs):\n",
    "        if columns:\n",
    "            self.columns = {k: k for k in columns}\n",
    "        super().__init__(**kwargs)"
   ]
  },
  {
   "cell_type": "code",
   "execution_count": 3,
   "metadata": {},
   "outputs": [],
   "source": [
    "df_absent = ModelToDataframe(model='member.absentmember', drop_sys_columns=True).dataframe"
   ]
  },
  {
   "cell_type": "code",
   "execution_count": 4,
   "metadata": {},
   "outputs": [
    {
     "data": {
      "text/plain": [
       "reason\n",
       "OTHER                                                         1704\n",
       "goes to school in village and comes home daily                 199\n",
       "goes to school outside village and comes home daily             88\n",
       "goes to school outside village and comes home irregularly      303\n",
       "goes to school outside village and comes home monthly          112\n",
       "goes to school outside village and comes home on weekends       22\n",
       "gone visiting (relatives,holidays,weddings,funerals)          2050\n",
       "stays at lands or cattlepost                                   660\n",
       "stepped out(shops, errands etc)                                663\n",
       "works in village and comes home daily                          351\n",
       "works outside village and comes home daily                     505\n",
       "works outside village and comes home irregularly               612\n",
       "works outside village and comes home monthly                   211\n",
       "works outside village and comes home on weekends                89\n",
       "dtype: int64"
      ]
     },
     "execution_count": 4,
     "metadata": {},
     "output_type": "execute_result"
    }
   ],
   "source": [
    "df_absent.groupby('reason').size()"
   ]
  },
  {
   "cell_type": "code",
   "execution_count": 5,
   "metadata": {},
   "outputs": [
    {
     "data": {
      "text/plain": [
       "reason_other\n",
       "                                       20\n",
       "ABSENT WITHOUT NOTICE                   4\n",
       "ADMITED AT BOKAMOSO HOSPITAL            1\n",
       "APPOINTED LATER DATE                    1\n",
       "AT CHURCH CAMP                          1\n",
       "AT MAURITIUS                            3\n",
       "AT WORK                                 3\n",
       "ATTENDED A FUNERAL                      1\n",
       "ATTENDED FAMILY MATTERS IN KANYE        1\n",
       "AVAILABLE ON SUNDAYS ONLY               2\n",
       "AVAILABLE ON WEEKENDS                   2\n",
       "BDF TRAINING AT FRANCISTOWN             2\n",
       "BOARDING SCHOOL OUTSIDE THE VILLAGE     3\n",
       "BUSY                                    3\n",
       "BUSY AT THE FIELD                       1\n",
       "BUSY IN THE FUNERAL,                    2\n",
       "BUSY NOW                                1\n",
       "BUSY TODAY                             10\n",
       "CAN NOT  BE FOUND                       2\n",
       "CATTLE POST                             1\n",
       "CHECK UP AT HOME                        1\n",
       "CONTACTS NOT AVAILABLE                 18\n",
       "DOES NOT ANSWER THE PHONE,AFTER APP     1\n",
       "DONT KNOW AS THERES NOBODY HOME         1\n",
       "DONT KNOW WHERE                         1\n",
       "DONT KNOW WHERE HE IS                   9\n",
       "DONT KNOW WHERE HE VSTAYS               1\n",
       "DONT KNOW WHERE SHE IS                  1\n",
       "DONT KNOW WHERE THEY ARE NOBODY HOM     1\n",
       "FAILED METHODS OF CONTACT               1\n",
       "                                       ..\n",
       "gone to catle post                      1\n",
       "gone to school trip                     1\n",
       "gone to the lands                       1\n",
       "hospitalised                            1\n",
       "moved to hukuntsi                       2\n",
       "no body home                            3\n",
       "no information                          2\n",
       "no one  home                            1\n",
       "no one home                            12\n",
       "no such person staying there            1\n",
       "no such person stays                    1\n",
       "no such person stays there             14\n",
       "no such persons stays there             1\n",
       "no such syays there                     1\n",
       "no uch persons stays there              1\n",
       "nobody home                             4\n",
       "not at reach                            1\n",
       "r                                       1\n",
       "relocated                               5\n",
       "relocated to Lobatse                    1\n",
       "relocated to gaborone                   1\n",
       "relocated to ghanzi                     1\n",
       "relocated to maun                       1\n",
       "relocated to nata                       1\n",
       "relocated to oodi                       6\n",
       "relocated to ramatlabama                1\n",
       "relocated to ramotswa                   1\n",
       "stays at dutlwe                         3\n",
       "stays in Gabs                           1\n",
       "went to letlhakeng                      1\n",
       "Length: 479, dtype: int64"
      ]
     },
     "execution_count": 5,
     "metadata": {},
     "output_type": "execute_result"
    }
   ],
   "source": [
    "df_absent[df_absent['reason'] == 'OTHER'].groupby('reason_other').size()"
   ]
  },
  {
   "cell_type": "code",
   "execution_count": 6,
   "metadata": {},
   "outputs": [],
   "source": [
    "# Load the table\n",
    "df_refused = ModelToDataframe(model='member.refusedmember', drop_sys_columns=True).dataframe"
   ]
  },
  {
   "cell_type": "code",
   "execution_count": 7,
   "metadata": {},
   "outputs": [
    {
     "data": {
      "text/plain": [
       "reason\n",
       "Already on HAART                                    9\n",
       "DWTA                                                5\n",
       "Fear of needles                                     5\n",
       "I already know I am HIV-positive                   20\n",
       "I already know my status                           59\n",
       "I am afraid my information will not be private      5\n",
       "I am afraid of testing                              7\n",
       "I am not ready to test                             25\n",
       "I don't have time                                  35\n",
       "I don't want to answer the questions                9\n",
       "I don't want to have the blood drawn               11\n",
       "I don't want to take part                         129\n",
       "I haven't had a chance to think about it            2\n",
       "I want to test where i always test                 15\n",
       "Illiterate does not want a witness                  1\n",
       "OTHER                                              33\n",
       "not_sure                                            1\n",
       "dtype: int64"
      ]
     },
     "execution_count": 7,
     "metadata": {},
     "output_type": "execute_result"
    }
   ],
   "source": [
    "# Group by reason\n",
    "df_refused.groupby('reason').size()"
   ]
  },
  {
   "cell_type": "code",
   "execution_count": 8,
   "metadata": {},
   "outputs": [
    {
     "data": {
      "text/plain": [
       "reason_other\n",
       "ALREADY TAKE PART WITH HAVARD ESS      1\n",
       "ALWAYS SAYING SHE IS AT THE FIELD      1\n",
       "CANT DO IT WITHOUT HUSBANDS APPROVL    1\n",
       "CHASED ME FROM HIS HOUSEHOLD           1\n",
       "DO HAVE INTEREST                       1\n",
       "DOES NOT WANT TO TEST                  1\n",
       "I AM NOT INTERESTED                    1\n",
       "I DON'T WANT TO PARTICIPATE            1\n",
       "I DON'T WANT TO TAKE PART              1\n",
       "I HAVE MY OWN DOCTOR                   1\n",
       "I HAVE NO INTEREST                     1\n",
       "JUST DONT WANT TO TEST AT ALL          1\n",
       "NO LONGER INTERESTED                   1\n",
       "NOT INTERESTED                         6\n",
       "PARTICIPANT SAYS NOT TO BE BOTHERED    1\n",
       "PERSONAL REASONS                       1\n",
       "REFUSING TO GET OUT OF THE HOUSE       1\n",
       "REFUSING TO TALK TO US                 1\n",
       "RELIGIOUS BELIEVES                     3\n",
       "RELOCATED                              1\n",
       "SHE IS A SANGOMA,NO PIERCINGS          1\n",
       "TRAUMA DUE TO CAR RECENT ACCIDENT      1\n",
       "WILL DO SOME OTHER TIME SOMEWHERE      1\n",
       "WILL TEST AT TEBELOPELE VCTC           1\n",
       "i dont want to participate             1\n",
       "not taking call,hiding in the house    1\n",
       "dtype: int64"
      ]
     },
     "execution_count": 8,
     "metadata": {},
     "output_type": "execute_result"
    }
   ],
   "source": [
    "# Group by reason_other for those where reason = OTHER\n",
    "df_refused[df_refused['reason'] == 'OTHER'].groupby('reason_other').size()"
   ]
  },
  {
   "cell_type": "code",
   "execution_count": 9,
   "metadata": {},
   "outputs": [],
   "source": [
    "# absent_reason is not none\n",
    "cols = ['subject_identifier', 'internal_identifier', 'absent', 'refused', 'undecided']\n",
    "df_member = SubjectModelToDataframe(model='member.householdmember', columns=cols).dataframe"
   ]
  },
  {
   "cell_type": "code",
   "execution_count": 10,
   "metadata": {},
   "outputs": [
    {
     "data": {
      "text/plain": [
       "absent  refused  undecided\n",
       "False   False    False        72855\n",
       "                 True           342\n",
       "        True     False         1636\n",
       "                 True            21\n",
       "True    False    False         8830\n",
       "                 True            96\n",
       "        True     False          130\n",
       "                 True             3\n",
       "dtype: int64"
      ]
     },
     "execution_count": 10,
     "metadata": {},
     "output_type": "execute_result"
    }
   ],
   "source": [
    "df_member.groupby(['absent', 'refused', 'undecided']).size()"
   ]
  },
  {
   "cell_type": "code",
   "execution_count": null,
   "metadata": {},
   "outputs": [],
   "source": []
  }
 ],
 "metadata": {
  "kernelspec": {
   "display_name": "Django Shell-Plus",
   "language": "python",
   "name": "django_extensions"
  },
  "language_info": {
   "codemirror_mode": {
    "name": "ipython",
    "version": 3
   },
   "file_extension": ".py",
   "mimetype": "text/x-python",
   "name": "python",
   "nbconvert_exporter": "python",
   "pygments_lexer": "ipython3",
   "version": "3.6.1"
  }
 },
 "nbformat": 4,
 "nbformat_minor": 2
}
