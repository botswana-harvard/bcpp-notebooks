{
 "cells": [
  {
   "cell_type": "markdown",
   "metadata": {},
   "source": [
    "# Create requisition and aliquot datasets and export to CSV\n",
    "\n",
    "### This notebook creates two files:\n",
    "1. `lab_requisition_{project}_{timestamp}.csv`\n",
    "2. `lab_aliquot_{project}_{timestamp}.csv`\n",
    "\n",
    "\n",
    "### This notebook accesses mysql tables not models\n",
    "This notebook accesses mysql tables directly and not through model classes. A complete project VENV is not required.\n"
   ]
  },
  {
   "cell_type": "code",
   "execution_count": null,
   "metadata": {},
   "outputs": [],
   "source": [
    "# imports\n",
    "import os\n",
    "import numpy as np\n",
    "import pandas as pd\n",
    "import sys\n",
    "\n",
    "from copy import copy\n",
    "from datetime import datetime\n",
    "from edc_base.model_mixins.constants import DEFAULT_BASE_FIELDS\n",
    "from edc_lab.model_mixins.requisition import RequisitionStatusMixin\n",
    "from edc_constants.constants import YES, NO, NEG, UNK\n",
    "from edc_pdutils import Database, Aliquot, Consent, Visit, Requisition\n",
    "from edc_pdutils.table_to_dataframe import Helper, TableToDataframe\n",
    "from pprint import pprint"
   ]
  },
  {
   "cell_type": "code",
   "execution_count": null,
   "metadata": {},
   "outputs": [],
   "source": [
    "# settings\n",
    "date_format = '%Y-%m-%d %H:%M:%S.%f'\n",
    "export_date_format = '%Y-%m-%d'\n",
    "local_tz = 'Africa/Gaborone'\n",
    "delimiter = ',' # '|'\n",
    "start_date = None   # datetime(2013, 10, 1)\n",
    "\n",
    "project = 'bcpp'  # for export file name\n",
    "table_prefix = 'bcpp'  \n",
    "\n",
    "# tables\n",
    "consent_table = f'{table_prefix}_subject_subjectconsent'\n",
    "visit_table = f'{table_prefix}_subject_subjectvisit'\n",
    "requisition_table = f'{table_prefix}_subject_subjectrequisition'\n",
    "aliquot_table = 'edc_lab_aliquot'"
   ]
  },
  {
   "cell_type": "code",
   "execution_count": null,
   "metadata": {},
   "outputs": [],
   "source": [
    "timestamp = datetime.today().strftime('%Y%m%d%H%M%S')"
   ]
  },
  {
   "cell_type": "code",
   "execution_count": null,
   "metadata": {},
   "outputs": [],
   "source": [
    "# df_subjects\n",
    "consent = Consent(table_name=consent_table, local_tz=local_tz)\n",
    "df_subjects = consent.dataframe\n",
    "df_subjects.head()"
   ]
  },
  {
   "cell_type": "code",
   "execution_count": null,
   "metadata": {},
   "outputs": [],
   "source": [
    "print(df_subjects['consent_datetime'].min())\n",
    "print(df_subjects['consent_datetime'].max())"
   ]
  },
  {
   "cell_type": "code",
   "execution_count": null,
   "metadata": {},
   "outputs": [],
   "source": [
    "df_subjects.to_csv(os.path.expanduser(f'~/consents_{project}_{timestamp}.csv'), index=False)\n",
    "print(os.path.expanduser(f'~/consents_{project}_{timestamp}.csv'))"
   ]
  },
  {
   "cell_type": "code",
   "execution_count": null,
   "metadata": {},
   "outputs": [],
   "source": [
    "# consent = Consent(filename='/Users/erikvw/consents_bcpp_20171014172658.csv')\n",
    "# df_subjects = consent.dataframe\n",
    "# df_subjects.head()"
   ]
  },
  {
   "cell_type": "code",
   "execution_count": null,
   "metadata": {},
   "outputs": [],
   "source": [
    "# df_visit\n",
    "visit = Visit(table_name=visit_table, df_subjects=df_subjects, local_tz=local_tz)\n",
    "df_visit = visit.dataframe\n",
    "df_visit.head()"
   ]
  },
  {
   "cell_type": "code",
   "execution_count": null,
   "metadata": {},
   "outputs": [],
   "source": [
    "df_visit.info()"
   ]
  },
  {
   "cell_type": "code",
   "execution_count": null,
   "metadata": {},
   "outputs": [],
   "source": [
    "print(df_visit['visit_datetime'].min())\n",
    "print(df_visit['visit_datetime'].max())"
   ]
  },
  {
   "cell_type": "code",
   "execution_count": null,
   "metadata": {},
   "outputs": [],
   "source": [
    "df_visit.to_csv(os.path.expanduser(f'~/visit_{project}_{timestamp}.csv'), index=False)\n",
    "print(os.path.expanduser(f'~/visit_{project}_{timestamp}.csv'))"
   ]
  },
  {
   "cell_type": "code",
   "execution_count": null,
   "metadata": {},
   "outputs": [],
   "source": [
    "# df_visit = pd.read_csv('/Users/erikvw/visit_bcpp_20171014173100.csv', low_memory=False)\n",
    "# df_visit = visit.dataframe\n",
    "# df_visit.head()"
   ]
  },
  {
   "cell_type": "code",
   "execution_count": null,
   "metadata": {},
   "outputs": [],
   "source": [
    "# df_requisition\n",
    "requisition_cols = copy(Requisition.default_columns)\n",
    "requisition_cols.extend([\n",
    "    f.name for f in RequisitionStatusMixin._meta.get_fields() if f.name not in requisition_cols])\n",
    "requisition = Requisition(\n",
    "    table_name=requisition_table,\n",
    "    columns=requisition_cols,\n",
    "    df_visit=df_visit,\n",
    "    local_tz=local_tz)\n",
    "df_requisition = requisition.dataframe\n",
    "df_requisition.head()"
   ]
  },
  {
   "cell_type": "code",
   "execution_count": null,
   "metadata": {},
   "outputs": [],
   "source": [
    "df_requisition.to_csv(os.path.expanduser(f'~/requisition_{project}_{timestamp}.csv'), index=False)\n",
    "print(os.path.expanduser(f'~/requisition_{project}_{timestamp}.csv'))"
   ]
  },
  {
   "cell_type": "code",
   "execution_count": null,
   "metadata": {},
   "outputs": [],
   "source": [
    "df_requisition.groupby('panel_name').size()"
   ]
  },
  {
   "cell_type": "code",
   "execution_count": null,
   "metadata": {},
   "outputs": [],
   "source": [
    "df_requisition.groupby('study_site').size()"
   ]
  },
  {
   "cell_type": "code",
   "execution_count": null,
   "metadata": {},
   "outputs": [],
   "source": [
    "print(df_requisition['requisition_datetime'].min())\n",
    "print(df_requisition['requisition_datetime'].max())"
   ]
  },
  {
   "cell_type": "code",
   "execution_count": null,
   "metadata": {},
   "outputs": [],
   "source": [
    "aliquot = Aliquot(table_name=aliquot_table, df_requisition=df_requisition, local_tz=local_tz)\n",
    "df_aliquot = aliquot.dataframe\n",
    "df_aliquot.head()"
   ]
  },
  {
   "cell_type": "code",
   "execution_count": null,
   "metadata": {},
   "outputs": [],
   "source": [
    "print(df_aliquot['aliquot_datetime'].min())\n",
    "print(df_aliquot['aliquot_datetime'].max())"
   ]
  },
  {
   "cell_type": "code",
   "execution_count": null,
   "metadata": {},
   "outputs": [],
   "source": [
    "df_aliquot.info()"
   ]
  },
  {
   "cell_type": "code",
   "execution_count": null,
   "metadata": {},
   "outputs": [],
   "source": [
    "# export requisitions to CSV as a single file\n",
    "path = f'~/lab_requisitions_{project}_{timestamp}.csv'\n",
    "df_requisition.to_csv(path, index=True, date_format=export_date_format, sep=delimiter)\n",
    "sys.stdout.write(f'* {path}\\n')"
   ]
  },
  {
   "cell_type": "code",
   "execution_count": null,
   "metadata": {},
   "outputs": [],
   "source": [
    "# export aliquots to CSV as a single file\n",
    "path = f'~/lab_aliquots_{project}_{timestamp}.csv'\n",
    "df_aliquot.to_csv(path, index=True, date_format=export_date_format, sep=delimiter)\n",
    "sys.stdout.write(f'* {path}\\n')"
   ]
  },
  {
   "cell_type": "code",
   "execution_count": null,
   "metadata": {},
   "outputs": [],
   "source": [
    "df_aliquot[df_aliquot['missing_requisition']].head()"
   ]
  },
  {
   "cell_type": "code",
   "execution_count": null,
   "metadata": {},
   "outputs": [],
   "source": [
    "# export aliquots missing requisition to CSV\n",
    "path = f'~/lab_aliquots_missing_{project}_{timestamp}.csv'\n",
    "df_aliquot[df_aliquot['missing_requisition']].to_csv(path, index=True, date_format=export_date_format, sep=delimiter)\n",
    "sys.stdout.write(f'* {path}\\n')"
   ]
  },
  {
   "cell_type": "code",
   "execution_count": null,
   "metadata": {},
   "outputs": [],
   "source": [
    "print(df_aliquot.groupby('medium').size())\n",
    "print('---')\n",
    "\n",
    "print(df_aliquot.groupby('aliquot_type').size())\n",
    "print('---')\n",
    "\n",
    "print(df_aliquot.groupby('alpha_code').size())\n",
    "print('---')\n",
    "\n",
    "print(df_aliquot.groupby('numeric_code').size())\n",
    "print('---')\n",
    "\n",
    "print(df_aliquot.groupby('condition').size())\n",
    "print('---')\n",
    "\n",
    "print(df_aliquot.groupby('missing_requisition').size())\n",
    "print('---')"
   ]
  },
  {
   "cell_type": "code",
   "execution_count": null,
   "metadata": {},
   "outputs": [],
   "source": []
  }
 ],
 "metadata": {
  "kernelspec": {
   "display_name": "Django Shell-Plus",
   "language": "python",
   "name": "django_extensions"
  },
  "language_info": {
   "codemirror_mode": {
    "name": "ipython",
    "version": 3
   },
   "file_extension": ".py",
   "mimetype": "text/x-python",
   "name": "python",
   "nbconvert_exporter": "python",
   "pygments_lexer": "ipython3",
   "version": "3.6.1"
  }
 },
 "nbformat": 4,
 "nbformat_minor": 2
}
